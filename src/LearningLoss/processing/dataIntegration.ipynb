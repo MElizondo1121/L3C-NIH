{
 "cells": [
  {
   "cell_type": "markdown",
   "id": "a79c6d9a",
   "metadata": {},
   "source": [
    "# Data integration for district level data #\n",
    "[NCES data](https://nces.ed.gov/ccd/elsi/tableGenerator.aspx), [STAAR data](https://tea.texas.gov/student-assessment/testing/staar/staar-aggregate-data), [Covid data](https://dshs.texas.gov/coronavirus/schools/texas-education-agency/), [ADA data](https://tea.texas.gov/finance-and-grants/state-funding/state-funding-reports-and-data/average-daily-attendance-and-wealth-per-average-daily-attendance), [LAUS data](https://www.bls.gov/lau/#cntyaa),  [Census Block Group 2010 TX](https://schoolsdata2-93b5c-tea-texas.opendata.arcgis.com/datasets/census-block-group-2010-tx/), [ESSER data](https://tea.texas.gov/finance-and-grants/grants/grants-administration/applying-for-a-grant/entitlements)"
   ]
  },
  {
   "cell_type": "markdown",
   "id": "b8898685",
   "metadata": {},
   "source": [
    "This notebook is following these steps:\n",
    "\n",
    "1. Integrating cleaned data from 7 different sources:\n",
    "    - [NCES](https://nces.ed.gov/ccd/elsi/tableGenerator.aspx): DATA_NCES_DISTRICT.csv\n",
    "    - [STAAR](https://tea.texas.gov/student-assessment/testing/staar/staar-aggregate-data): \n",
    "        - DATA_STAAR_DISTRICT_2019.csv\n",
    "        - DATA_STAAR_DISTRICT_2021.csv\n",
    "    - [Covid](https://dshs.texas.gov/coronavirus/schools/texas-education-agency/): \n",
    "        - DATA_COVID_DISTRICT.csv\n",
    "        - DATA_COVID_COUNTY.csv\n",
    "    - [LAUS(Local Area Unemployment Statistics)](https://www.bls.gov/lau/#cntyaa):\n",
    "        - DATA_LAUS_COUNTY.csv\n",
    "    - [ADA](https://tea.texas.gov/finance-and-grants/state-funding/state-funding-reports-and-data/average-daily-attendance-and-wealth-per-average-daily-attendance):\n",
    "        - DATA_ADA_DISTRICT.csv\n",
    "    - [Census Block Group 2010](https://schoolsdata2-93b5c-tea-texas.opendata.arcgis.com/datasets/census-block-group-2010-tx/): \n",
    "        - DATA_Census_Block_Group_2010_TX_County.csv\n",
    "    - [ESSER](https://tea.texas.gov/finance-and-grants/grants/grants-administration/applying-for-a-grant/entitlements)\n",
    "        - DATA_ESSER_DISTRICT.csv     \n",
    "      \n",
    "2. Normalization: Normalizing numberical data into a percentage.  \n",
    "\n",
    "3. Calculating Delta: Getting differences for the important variables having both values for 2018-2019 and 2020-2021  \n",
    "\n",
    "4. Labeling: Creating 3 classes for Learning Loss  \n",
    "\n",
    "5. Exporting: Creating 2 csv files for purposes:\n",
    "    - DATA_Texas_District_v1.csv: raw integrated data without missing value handling for EDA\n",
    "    - DATA_Texas_District_v2.csv: dropping all missing values with normalization and delta values for Feature Selection and Baseline modeling\n",
    "\n",
    "    \n",
    "Note: List of variables is [here](https://git.txstate.edu/DataLab/data-NCES/blob/master/CHERR/EDA/DATA_Texas_District_List_of_Variables.csv).   \n",
    "\n",
    "Note: All raw data was processed/cleaned from [here](https://git.txstate.edu/DataLab/data-NCES/blob/master/data)."
   ]
  },
  {
   "cell_type": "code",
   "execution_count": 1,
   "id": "a46f076d",
   "metadata": {},
   "outputs": [],
   "source": [
    "import pandas as pd\n",
    "import numpy as np\n",
    "import seaborn as sns\n",
    "import matplotlib.pyplot as plt\n",
    "\n",
    "import warnings \n",
    "warnings.filterwarnings(\"ignore\")"
   ]
  },
  {
   "cell_type": "markdown",
   "id": "ccde4a54",
   "metadata": {},
   "source": [
    "## Reading [NCES data](https://nces.ed.gov/ccd/elsi/tableGenerator.aspx) ##"
   ]
  },
  {
   "cell_type": "markdown",
   "id": "bc164229",
   "metadata": {},
   "source": [
    "### NCES District ###"
   ]
  },
  {
   "cell_type": "code",
   "execution_count": 2,
   "id": "c3d77e3e",
   "metadata": {},
   "outputs": [
    {
     "name": "stdout",
     "output_type": "stream",
     "text": [
      "Shape: (1189, 66)\n",
      "<class 'pandas.core.frame.DataFrame'>\n",
      "RangeIndex: 1189 entries, 0 to 1188\n",
      "Data columns (total 66 columns):\n",
      " #   Column                                              Non-Null Count  Dtype  \n",
      "---  ------                                              --------------  -----  \n",
      " 0   Agency Name                                         1189 non-null   object \n",
      " 1   State                                               1189 non-null   object \n",
      " 2   NCES Agency ID                                      1189 non-null   float64\n",
      " 3   County #                                            1189 non-null   float64\n",
      " 4   Total Operational Public Schools 2018-2019          1189 non-null   float64\n",
      " 5   Total Public Schools 2018-2019                      1189 non-null   float64\n",
      " 6   Total Students 2018-2019                            1189 non-null   float64\n",
      " 7   FTE Teachers 2018-2019                              1189 non-null   float64\n",
      " 8   Total Staff 2018-2019                               1189 non-null   float64\n",
      " 9   District #                                          1189 non-null   int64  \n",
      " 10  Total Operational Public Schools 2020-2021          1189 non-null   float64\n",
      " 11  Total Public Schools 2020-2021                      1189 non-null   float64\n",
      " 12  Total Students 2020-2021                            1189 non-null   float64\n",
      " 13  FTE Teachers 2020-2021                              1189 non-null   float64\n",
      " 14  Total Staff 2020-2021                               1189 non-null   float64\n",
      " 15  Locale                                              1189 non-null   object \n",
      " 16  Free Lunch 2020-2021                                1189 non-null   float64\n",
      " 17  Free Lunch 2018-2019                                1189 non-null   float64\n",
      " 18  Reduced-price Lunch 2020-2021                       1189 non-null   float64\n",
      " 19  Reduced-price Lunch 2018-2019                       1189 non-null   float64\n",
      " 20  Asian or Asian/Pacific Islander Students 2020-2021  1189 non-null   float64\n",
      " 21  Asian or Asian/Pacific Islander Students 2018-2019  1189 non-null   float64\n",
      " 22  Hispanic Students 2020-2021                         1189 non-null   float64\n",
      " 23  Hispanic Students 2018-2019                         1189 non-null   float64\n",
      " 24  Black or African American Students 2020-2021        1189 non-null   float64\n",
      " 25  Black or African American Students 2018-2019        1189 non-null   float64\n",
      " 26  White Students 2020-2021                            1189 non-null   float64\n",
      " 27  White Students 2018-2019                            1189 non-null   float64\n",
      " 28  Total Race/Ethnicity 2020-2021                      1189 non-null   float64\n",
      " 29  Total Race/Ethnicity 2018-2019                      1189 non-null   float64\n",
      " 30  School-wide Title I 2020-2021                       1189 non-null   int64  \n",
      " 31  School-wide Title I 2018-2019                       1189 non-null   int64  \n",
      " 32  Title I Eligible School 2020-2021                   1189 non-null   int64  \n",
      " 33  Title I Eligible School 2018-2019                   1189 non-null   int64  \n",
      " 34  Grade 3 2020-2021                                   1155 non-null   float64\n",
      " 35  Grade 3 2018-2019                                   1155 non-null   float64\n",
      " 36  Grade 4 2020-2021                                   1154 non-null   float64\n",
      " 37  Grade 4 2018-2019                                   1155 non-null   float64\n",
      " 38  Grade 5 2020-2021                                   1157 non-null   float64\n",
      " 39  Grade 5 2018-2019                                   1155 non-null   float64\n",
      " 40  Grade 6 2020-2021                                   1154 non-null   float64\n",
      " 41  Grade 6 2018-2019                                   1153 non-null   float64\n",
      " 42  Grade 7 2020-2021                                   1141 non-null   float64\n",
      " 43  Grade 7 2018-2019                                   1138 non-null   float64\n",
      " 44  Grade 8 2020-2021                                   1138 non-null   float64\n",
      " 45  Grade 8 2018-2019                                   1136 non-null   float64\n",
      " 46  Grades 1-8 2020-2021                                1171 non-null   float64\n",
      " 47  Grades 1-8 2018-2019                                1172 non-null   float64\n",
      " 48  Grades 9-12 2020-2021                               1088 non-null   float64\n",
      " 49  Grades 9-12 2018-2019                               1085 non-null   float64\n",
      " 50  Prek 2020-2021                                      1092 non-null   float64\n",
      " 51  Prek 2018-2019                                      1082 non-null   float64\n",
      " 52  K 2020-2021                                         1151 non-null   float64\n",
      " 53  K 2018-2019                                         1149 non-null   float64\n",
      " 54  Grade 1 2020-2021                                   1155 non-null   float64\n",
      " 55  Grade 1 2018-2019                                   1154 non-null   float64\n",
      " 56  Grade 2 2020-2021                                   1154 non-null   float64\n",
      " 57  Grade 2 2018-2019                                   1154 non-null   float64\n",
      " 58  Grade 9 2020-2021                                   1087 non-null   float64\n",
      " 59  Grade 9 2018-2019                                   1084 non-null   float64\n",
      " 60  Grade 10 2020-2021                                  1084 non-null   float64\n",
      " 61  Grade 10 2018-2019                                  1079 non-null   float64\n",
      " 62  Grade 11 2020-2021                                  1082 non-null   float64\n",
      " 63  Grade 11 2018-2019                                  1075 non-null   float64\n",
      " 64  Grade 12 2020-2021                                  1078 non-null   float64\n",
      " 65  Grade 12 2018-2019                                  1074 non-null   float64\n",
      "dtypes: float64(58), int64(5), object(3)\n",
      "memory usage: 613.2+ KB\n"
     ]
    }
   ],
   "source": [
    "df_nces = pd.read_csv('../../data/nces/DATA_NCES_DISTRICT.csv')\n",
    "print('Shape:', df_nces.shape)\n",
    "df_nces.info()"
   ]
  },
  {
   "cell_type": "code",
   "execution_count": 3,
   "id": "b39170fe",
   "metadata": {},
   "outputs": [
    {
     "name": "stdout",
     "output_type": "stream",
     "text": [
      "na rows: 32\n"
     ]
    },
    {
     "data": {
      "text/plain": [
       "['Grade 3 2020-2021: 34',\n",
       " 'Grade 3 2018-2019: 34',\n",
       " 'Grade 4 2020-2021: 35',\n",
       " 'Grade 4 2018-2019: 34',\n",
       " 'Grade 5 2020-2021: 32',\n",
       " 'Grade 5 2018-2019: 34',\n",
       " 'Grade 6 2020-2021: 35',\n",
       " 'Grade 6 2018-2019: 36',\n",
       " 'Grade 7 2020-2021: 48',\n",
       " 'Grade 7 2018-2019: 51',\n",
       " 'Grade 8 2020-2021: 51',\n",
       " 'Grade 8 2018-2019: 53',\n",
       " 'Grades 1-8 2020-2021: 18',\n",
       " 'Grades 1-8 2018-2019: 17',\n",
       " 'Grades 9-12 2020-2021: 101',\n",
       " 'Grades 9-12 2018-2019: 104',\n",
       " 'Prek 2020-2021: 97',\n",
       " 'Prek 2018-2019: 107',\n",
       " 'K 2020-2021: 38',\n",
       " 'K 2018-2019: 40',\n",
       " 'Grade 1 2020-2021: 34',\n",
       " 'Grade 1 2018-2019: 35',\n",
       " 'Grade 2 2020-2021: 35',\n",
       " 'Grade 2 2018-2019: 35',\n",
       " 'Grade 9 2020-2021: 102',\n",
       " 'Grade 9 2018-2019: 105',\n",
       " 'Grade 10 2020-2021: 105',\n",
       " 'Grade 10 2018-2019: 110',\n",
       " 'Grade 11 2020-2021: 107',\n",
       " 'Grade 11 2018-2019: 114',\n",
       " 'Grade 12 2020-2021: 111',\n",
       " 'Grade 12 2018-2019: 115']"
      ]
     },
     "execution_count": 3,
     "metadata": {},
     "output_type": "execute_result"
    }
   ],
   "source": [
    "temp=[c + ': ' + str(df_nces[c].isna().sum()) for c in df_nces if df_nces[c].isna().any()]\n",
    "print(\"na rows:\", len(temp))\n",
    "temp"
   ]
  },
  {
   "cell_type": "code",
   "execution_count": 4,
   "id": "42d42c31",
   "metadata": {},
   "outputs": [
    {
     "data": {
      "text/plain": [
       "(998, 66)"
      ]
     },
     "execution_count": 4,
     "metadata": {},
     "output_type": "execute_result"
    }
   ],
   "source": [
    "df_nces.dropna().shape"
   ]
  },
  {
   "cell_type": "markdown",
   "id": "8ea198d7",
   "metadata": {},
   "source": [
    "## Reading [LAUS(Local Area Unemployment Statistics) Data ](https://www.bls.gov/lau/#cntyaa)  ##"
   ]
  },
  {
   "cell_type": "code",
   "execution_count": 5,
   "id": "99481ad1",
   "metadata": {},
   "outputs": [
    {
     "name": "stdout",
     "output_type": "stream",
     "text": [
      "Shape: (254, 13)\n",
      "<class 'pandas.core.frame.DataFrame'>\n",
      "RangeIndex: 254 entries, 0 to 253\n",
      "Data columns (total 13 columns):\n",
      " #   Column                 Non-Null Count  Dtype  \n",
      "---  ------                 --------------  -----  \n",
      " 0   Labor Force 19         254 non-null    int64  \n",
      " 1   Employed 19            254 non-null    int64  \n",
      " 2   Unemployed Level 19    254 non-null    int64  \n",
      " 3   Unemployed Rate 19     254 non-null    float64\n",
      " 4   County #               254 non-null    int64  \n",
      " 5   Labor Force 21         254 non-null    int64  \n",
      " 6   Employed 21            254 non-null    int64  \n",
      " 7   Unemployed Level 21    254 non-null    int64  \n",
      " 8   Unemployed Rate 21     254 non-null    float64\n",
      " 9   Labor Force Diff       254 non-null    float64\n",
      " 10  Employed Diff          254 non-null    float64\n",
      " 11  Unemployed Level Diff  254 non-null    float64\n",
      " 12  Unemployed Rate Diff   254 non-null    float64\n",
      "dtypes: float64(6), int64(7)\n",
      "memory usage: 25.9 KB\n"
     ]
    }
   ],
   "source": [
    "df_laus = pd.read_csv('../../data/laus/DATA_LAUS_COUNTY.csv')\n",
    "print('Shape:', df_laus.shape)\n",
    "df_laus.info()"
   ]
  },
  {
   "cell_type": "markdown",
   "id": "03463873",
   "metadata": {},
   "source": [
    "## Reading [STAAR data](https://tea.texas.gov/student-assessment/testing/staar/staar-aggregate-data) ##"
   ]
  },
  {
   "cell_type": "markdown",
   "id": "84b53a02",
   "metadata": {},
   "source": [
    "### 2019 ###"
   ]
  },
  {
   "cell_type": "code",
   "execution_count": 6,
   "id": "00c1ec76",
   "metadata": {
    "scrolled": true
   },
   "outputs": [
    {
     "name": "stdout",
     "output_type": "stream",
     "text": [
      "Shape: (1184, 217)\n",
      "Nunique District #: 1184\n"
     ]
    },
    {
     "data": {
      "text/html": [
       "<div>\n",
       "<style scoped>\n",
       "    .dataframe tbody tr th:only-of-type {\n",
       "        vertical-align: middle;\n",
       "    }\n",
       "\n",
       "    .dataframe tbody tr th {\n",
       "        vertical-align: top;\n",
       "    }\n",
       "\n",
       "    .dataframe thead th {\n",
       "        text-align: right;\n",
       "    }\n",
       "</style>\n",
       "<table border=\"1\" class=\"dataframe\">\n",
       "  <thead>\n",
       "    <tr style=\"text-align: right;\">\n",
       "      <th></th>\n",
       "      <th>District #</th>\n",
       "      <th>r_all_d_g3_2019</th>\n",
       "      <th>r_ethh_d_g3_2019</th>\n",
       "      <th>r_etha_d_g3_2019</th>\n",
       "      <th>r_ethb_d_g3_2019</th>\n",
       "      <th>r_ethw_d_g3_2019</th>\n",
       "      <th>r_ecoy_d_g3_2019</th>\n",
       "      <th>r_eco1_d_g3_2019</th>\n",
       "      <th>r_ti1y_d_g3_2019</th>\n",
       "      <th>r_spey_d_g3_2019</th>\n",
       "      <th>...</th>\n",
       "      <th>r_spey_rs_g8_2019</th>\n",
       "      <th>m_all_rs_g8_2019</th>\n",
       "      <th>m_ethh_rs_g8_2019</th>\n",
       "      <th>m_etha_rs_g8_2019</th>\n",
       "      <th>m_ethb_rs_g8_2019</th>\n",
       "      <th>m_ethw_rs_g8_2019</th>\n",
       "      <th>m_ecoy_rs_g8_2019</th>\n",
       "      <th>m_eco1_rs_g8_2019</th>\n",
       "      <th>m_ti1y_rs_g8_2019</th>\n",
       "      <th>m_spey_rs_g8_2019</th>\n",
       "    </tr>\n",
       "  </thead>\n",
       "  <tbody>\n",
       "    <tr>\n",
       "      <th>0</th>\n",
       "      <td>1902</td>\n",
       "      <td>46.0</td>\n",
       "      <td>3.0</td>\n",
       "      <td>0.0</td>\n",
       "      <td>3.0</td>\n",
       "      <td>38.0</td>\n",
       "      <td>23.0</td>\n",
       "      <td>17.0</td>\n",
       "      <td>46.0</td>\n",
       "      <td>7.0</td>\n",
       "      <td>...</td>\n",
       "      <td>NaN</td>\n",
       "      <td>1744.0</td>\n",
       "      <td>NaN</td>\n",
       "      <td>NaN</td>\n",
       "      <td>NaN</td>\n",
       "      <td>1742.0</td>\n",
       "      <td>1720.0</td>\n",
       "      <td>1682.0</td>\n",
       "      <td>1744.0</td>\n",
       "      <td>NaN</td>\n",
       "    </tr>\n",
       "    <tr>\n",
       "      <th>1</th>\n",
       "      <td>1903</td>\n",
       "      <td>94.0</td>\n",
       "      <td>10.0</td>\n",
       "      <td>0.0</td>\n",
       "      <td>5.0</td>\n",
       "      <td>76.0</td>\n",
       "      <td>55.0</td>\n",
       "      <td>52.0</td>\n",
       "      <td>94.0</td>\n",
       "      <td>6.0</td>\n",
       "      <td>...</td>\n",
       "      <td>1623.0</td>\n",
       "      <td>1678.0</td>\n",
       "      <td>1748.0</td>\n",
       "      <td>NaN</td>\n",
       "      <td>1624.0</td>\n",
       "      <td>1676.0</td>\n",
       "      <td>1658.0</td>\n",
       "      <td>1653.0</td>\n",
       "      <td>1678.0</td>\n",
       "      <td>1576.0</td>\n",
       "    </tr>\n",
       "    <tr>\n",
       "      <th>2</th>\n",
       "      <td>1904</td>\n",
       "      <td>55.0</td>\n",
       "      <td>5.0</td>\n",
       "      <td>1.0</td>\n",
       "      <td>6.0</td>\n",
       "      <td>40.0</td>\n",
       "      <td>34.0</td>\n",
       "      <td>34.0</td>\n",
       "      <td>55.0</td>\n",
       "      <td>5.0</td>\n",
       "      <td>...</td>\n",
       "      <td>1563.0</td>\n",
       "      <td>1686.0</td>\n",
       "      <td>NaN</td>\n",
       "      <td>NaN</td>\n",
       "      <td>1608.0</td>\n",
       "      <td>1709.0</td>\n",
       "      <td>1654.0</td>\n",
       "      <td>1643.0</td>\n",
       "      <td>1686.0</td>\n",
       "      <td>1608.0</td>\n",
       "    </tr>\n",
       "    <tr>\n",
       "      <th>3</th>\n",
       "      <td>1906</td>\n",
       "      <td>25.0</td>\n",
       "      <td>5.0</td>\n",
       "      <td>0.0</td>\n",
       "      <td>2.0</td>\n",
       "      <td>16.0</td>\n",
       "      <td>10.0</td>\n",
       "      <td>10.0</td>\n",
       "      <td>25.0</td>\n",
       "      <td>2.0</td>\n",
       "      <td>...</td>\n",
       "      <td>NaN</td>\n",
       "      <td>1755.0</td>\n",
       "      <td>NaN</td>\n",
       "      <td>NaN</td>\n",
       "      <td>NaN</td>\n",
       "      <td>1759.0</td>\n",
       "      <td>1745.0</td>\n",
       "      <td>1740.0</td>\n",
       "      <td>1755.0</td>\n",
       "      <td>NaN</td>\n",
       "    </tr>\n",
       "    <tr>\n",
       "      <th>4</th>\n",
       "      <td>1907</td>\n",
       "      <td>206.0</td>\n",
       "      <td>76.0</td>\n",
       "      <td>2.0</td>\n",
       "      <td>58.0</td>\n",
       "      <td>60.0</td>\n",
       "      <td>157.0</td>\n",
       "      <td>148.0</td>\n",
       "      <td>206.0</td>\n",
       "      <td>20.0</td>\n",
       "      <td>...</td>\n",
       "      <td>1529.0</td>\n",
       "      <td>1722.0</td>\n",
       "      <td>1740.0</td>\n",
       "      <td>NaN</td>\n",
       "      <td>1667.0</td>\n",
       "      <td>1741.0</td>\n",
       "      <td>1693.0</td>\n",
       "      <td>1687.0</td>\n",
       "      <td>1722.0</td>\n",
       "      <td>1601.0</td>\n",
       "    </tr>\n",
       "  </tbody>\n",
       "</table>\n",
       "<p>5 rows × 217 columns</p>\n",
       "</div>"
      ],
      "text/plain": [
       "   District #  r_all_d_g3_2019  r_ethh_d_g3_2019  r_etha_d_g3_2019  \\\n",
       "0        1902             46.0               3.0               0.0   \n",
       "1        1903             94.0              10.0               0.0   \n",
       "2        1904             55.0               5.0               1.0   \n",
       "3        1906             25.0               5.0               0.0   \n",
       "4        1907            206.0              76.0               2.0   \n",
       "\n",
       "   r_ethb_d_g3_2019  r_ethw_d_g3_2019  r_ecoy_d_g3_2019  r_eco1_d_g3_2019  \\\n",
       "0               3.0              38.0              23.0              17.0   \n",
       "1               5.0              76.0              55.0              52.0   \n",
       "2               6.0              40.0              34.0              34.0   \n",
       "3               2.0              16.0              10.0              10.0   \n",
       "4              58.0              60.0             157.0             148.0   \n",
       "\n",
       "   r_ti1y_d_g3_2019  r_spey_d_g3_2019  ...  r_spey_rs_g8_2019  \\\n",
       "0              46.0               7.0  ...                NaN   \n",
       "1              94.0               6.0  ...             1623.0   \n",
       "2              55.0               5.0  ...             1563.0   \n",
       "3              25.0               2.0  ...                NaN   \n",
       "4             206.0              20.0  ...             1529.0   \n",
       "\n",
       "   m_all_rs_g8_2019  m_ethh_rs_g8_2019  m_etha_rs_g8_2019  m_ethb_rs_g8_2019  \\\n",
       "0            1744.0                NaN                NaN                NaN   \n",
       "1            1678.0             1748.0                NaN             1624.0   \n",
       "2            1686.0                NaN                NaN             1608.0   \n",
       "3            1755.0                NaN                NaN                NaN   \n",
       "4            1722.0             1740.0                NaN             1667.0   \n",
       "\n",
       "   m_ethw_rs_g8_2019  m_ecoy_rs_g8_2019  m_eco1_rs_g8_2019  m_ti1y_rs_g8_2019  \\\n",
       "0             1742.0             1720.0             1682.0             1744.0   \n",
       "1             1676.0             1658.0             1653.0             1678.0   \n",
       "2             1709.0             1654.0             1643.0             1686.0   \n",
       "3             1759.0             1745.0             1740.0             1755.0   \n",
       "4             1741.0             1693.0             1687.0             1722.0   \n",
       "\n",
       "   m_spey_rs_g8_2019  \n",
       "0                NaN  \n",
       "1             1576.0  \n",
       "2             1608.0  \n",
       "3                NaN  \n",
       "4             1601.0  \n",
       "\n",
       "[5 rows x 217 columns]"
      ]
     },
     "execution_count": 6,
     "metadata": {},
     "output_type": "execute_result"
    }
   ],
   "source": [
    "df_staar19 = pd.read_csv('../../data/staar/DATA_STAAR_DISTRICT_2019.csv')\n",
    "print('Shape:', df_staar19.shape)\n",
    "print('Nunique District #:', df_staar19['District #'].nunique())\n",
    "df_staar19.head()"
   ]
  },
  {
   "cell_type": "code",
   "execution_count": 7,
   "id": "2c587cb9",
   "metadata": {},
   "outputs": [],
   "source": [
    "cols_staar19_all = ['r_all_rs_g3_2019' ,\n",
    "                    'r_all_d_g3_2019' ,\n",
    "                    'm_all_rs_g3_2019' ,\n",
    "                    'm_all_d_g3_2019' ,\n",
    "                    'r_all_rs_g4_2019' ,\n",
    "                    'r_all_d_g4_2019' ,\n",
    "                    'm_all_rs_g4_2019' ,\n",
    "                    'm_all_d_g4_2019' ,\n",
    "                    'r_all_rs_g5_2019' ,\n",
    "                    'r_all_d_g5_2019' ,\n",
    "                    'm_all_rs_g5_2019' ,\n",
    "                    'm_all_d_g5_2019' ,\n",
    "                    'r_all_rs_g6_2019' ,\n",
    "                    'r_all_d_g6_2019' ,\n",
    "                    'm_all_rs_g6_2019' ,\n",
    "                    'm_all_d_g6_2019' ,\n",
    "                    'r_all_rs_g7_2019' ,\n",
    "                    'r_all_d_g7_2019' ,\n",
    "                    'm_all_rs_g7_2019' ,\n",
    "                    'm_all_d_g7_2019' ,\n",
    "                    'r_all_rs_g8_2019' ,\n",
    "                    'r_all_d_g8_2019' ,\n",
    "                    'm_all_rs_g8_2019' ,\n",
    "                    'm_all_d_g8_2019']"
   ]
  },
  {
   "cell_type": "code",
   "execution_count": 8,
   "id": "3f1d76a4",
   "metadata": {},
   "outputs": [
    {
     "data": {
      "text/plain": [
       "r_all_rs_g3_2019    32\n",
       "r_all_d_g3_2019     22\n",
       "m_all_rs_g3_2019    32\n",
       "m_all_d_g3_2019     22\n",
       "r_all_rs_g4_2019    35\n",
       "r_all_d_g4_2019     21\n",
       "m_all_rs_g4_2019    35\n",
       "m_all_d_g4_2019     21\n",
       "r_all_rs_g5_2019    34\n",
       "r_all_d_g5_2019     24\n",
       "m_all_rs_g5_2019    34\n",
       "m_all_d_g5_2019     24\n",
       "r_all_rs_g6_2019    31\n",
       "r_all_d_g6_2019     21\n",
       "m_all_rs_g6_2019    31\n",
       "m_all_d_g6_2019     21\n",
       "r_all_rs_g7_2019    47\n",
       "r_all_d_g7_2019     34\n",
       "m_all_rs_g7_2019    48\n",
       "m_all_d_g7_2019     34\n",
       "r_all_rs_g8_2019    47\n",
       "r_all_d_g8_2019     36\n",
       "m_all_rs_g8_2019    60\n",
       "m_all_d_g8_2019     36\n",
       "dtype: int64"
      ]
     },
     "execution_count": 8,
     "metadata": {},
     "output_type": "execute_result"
    }
   ],
   "source": [
    "df_staar19[cols_staar19_all].isna().sum()"
   ]
  },
  {
   "cell_type": "markdown",
   "id": "de520a8f",
   "metadata": {},
   "source": [
    "### 2021 ###"
   ]
  },
  {
   "cell_type": "code",
   "execution_count": 9,
   "id": "09d1417f",
   "metadata": {},
   "outputs": [
    {
     "name": "stdout",
     "output_type": "stream",
     "text": [
      "Shape: (1182, 217)\n",
      "Nunique District #: 1182\n"
     ]
    },
    {
     "data": {
      "text/html": [
       "<div>\n",
       "<style scoped>\n",
       "    .dataframe tbody tr th:only-of-type {\n",
       "        vertical-align: middle;\n",
       "    }\n",
       "\n",
       "    .dataframe tbody tr th {\n",
       "        vertical-align: top;\n",
       "    }\n",
       "\n",
       "    .dataframe thead th {\n",
       "        text-align: right;\n",
       "    }\n",
       "</style>\n",
       "<table border=\"1\" class=\"dataframe\">\n",
       "  <thead>\n",
       "    <tr style=\"text-align: right;\">\n",
       "      <th></th>\n",
       "      <th>District #</th>\n",
       "      <th>r_all_d_g3_2021</th>\n",
       "      <th>r_ethh_d_g3_2021</th>\n",
       "      <th>r_etha_d_g3_2021</th>\n",
       "      <th>r_ethb_d_g3_2021</th>\n",
       "      <th>r_ethw_d_g3_2021</th>\n",
       "      <th>r_ecoy_d_g3_2021</th>\n",
       "      <th>r_eco1_d_g3_2021</th>\n",
       "      <th>r_ti1y_d_g3_2021</th>\n",
       "      <th>r_spey_d_g3_2021</th>\n",
       "      <th>...</th>\n",
       "      <th>r_spey_rs_g8_2021</th>\n",
       "      <th>m_all_rs_g8_2021</th>\n",
       "      <th>m_ethh_rs_g8_2021</th>\n",
       "      <th>m_etha_rs_g8_2021</th>\n",
       "      <th>m_ethb_rs_g8_2021</th>\n",
       "      <th>m_ethw_rs_g8_2021</th>\n",
       "      <th>m_ecoy_rs_g8_2021</th>\n",
       "      <th>m_eco1_rs_g8_2021</th>\n",
       "      <th>m_ti1y_rs_g8_2021</th>\n",
       "      <th>m_spey_rs_g8_2021</th>\n",
       "    </tr>\n",
       "  </thead>\n",
       "  <tbody>\n",
       "    <tr>\n",
       "      <th>0</th>\n",
       "      <td>1902</td>\n",
       "      <td>26.0</td>\n",
       "      <td>1.0</td>\n",
       "      <td>0.0</td>\n",
       "      <td>1.0</td>\n",
       "      <td>24.0</td>\n",
       "      <td>7.0</td>\n",
       "      <td>6.0</td>\n",
       "      <td>26.0</td>\n",
       "      <td>4.0</td>\n",
       "      <td>...</td>\n",
       "      <td>NaN</td>\n",
       "      <td>1724.0</td>\n",
       "      <td>1767.0</td>\n",
       "      <td>NaN</td>\n",
       "      <td>NaN</td>\n",
       "      <td>1719.0</td>\n",
       "      <td>1676.0</td>\n",
       "      <td>1680.0</td>\n",
       "      <td>1724.0</td>\n",
       "      <td>NaN</td>\n",
       "    </tr>\n",
       "    <tr>\n",
       "      <th>1</th>\n",
       "      <td>1903</td>\n",
       "      <td>95.0</td>\n",
       "      <td>6.0</td>\n",
       "      <td>0.0</td>\n",
       "      <td>0.0</td>\n",
       "      <td>86.0</td>\n",
       "      <td>44.0</td>\n",
       "      <td>41.0</td>\n",
       "      <td>95.0</td>\n",
       "      <td>8.0</td>\n",
       "      <td>...</td>\n",
       "      <td>1537.0</td>\n",
       "      <td>1659.0</td>\n",
       "      <td>1678.0</td>\n",
       "      <td>NaN</td>\n",
       "      <td>1603.0</td>\n",
       "      <td>1668.0</td>\n",
       "      <td>1648.0</td>\n",
       "      <td>1651.0</td>\n",
       "      <td>1659.0</td>\n",
       "      <td>1531.0</td>\n",
       "    </tr>\n",
       "    <tr>\n",
       "      <th>2</th>\n",
       "      <td>1904</td>\n",
       "      <td>45.0</td>\n",
       "      <td>5.0</td>\n",
       "      <td>0.0</td>\n",
       "      <td>4.0</td>\n",
       "      <td>34.0</td>\n",
       "      <td>24.0</td>\n",
       "      <td>23.0</td>\n",
       "      <td>45.0</td>\n",
       "      <td>5.0</td>\n",
       "      <td>...</td>\n",
       "      <td>1508.0</td>\n",
       "      <td>1694.0</td>\n",
       "      <td>1685.0</td>\n",
       "      <td>NaN</td>\n",
       "      <td>1683.0</td>\n",
       "      <td>1704.0</td>\n",
       "      <td>1701.0</td>\n",
       "      <td>1688.0</td>\n",
       "      <td>1694.0</td>\n",
       "      <td>1594.0</td>\n",
       "    </tr>\n",
       "    <tr>\n",
       "      <th>3</th>\n",
       "      <td>1906</td>\n",
       "      <td>24.0</td>\n",
       "      <td>4.0</td>\n",
       "      <td>0.0</td>\n",
       "      <td>3.0</td>\n",
       "      <td>17.0</td>\n",
       "      <td>11.0</td>\n",
       "      <td>9.0</td>\n",
       "      <td>24.0</td>\n",
       "      <td>1.0</td>\n",
       "      <td>...</td>\n",
       "      <td>NaN</td>\n",
       "      <td>1773.0</td>\n",
       "      <td>NaN</td>\n",
       "      <td>NaN</td>\n",
       "      <td>NaN</td>\n",
       "      <td>1763.0</td>\n",
       "      <td>1696.0</td>\n",
       "      <td>1674.0</td>\n",
       "      <td>1773.0</td>\n",
       "      <td>NaN</td>\n",
       "    </tr>\n",
       "    <tr>\n",
       "      <th>4</th>\n",
       "      <td>1907</td>\n",
       "      <td>182.0</td>\n",
       "      <td>73.0</td>\n",
       "      <td>1.0</td>\n",
       "      <td>63.0</td>\n",
       "      <td>41.0</td>\n",
       "      <td>142.0</td>\n",
       "      <td>114.0</td>\n",
       "      <td>182.0</td>\n",
       "      <td>24.0</td>\n",
       "      <td>...</td>\n",
       "      <td>1506.0</td>\n",
       "      <td>1700.0</td>\n",
       "      <td>1711.0</td>\n",
       "      <td>NaN</td>\n",
       "      <td>1670.0</td>\n",
       "      <td>1705.0</td>\n",
       "      <td>1691.0</td>\n",
       "      <td>1688.0</td>\n",
       "      <td>1700.0</td>\n",
       "      <td>1573.0</td>\n",
       "    </tr>\n",
       "  </tbody>\n",
       "</table>\n",
       "<p>5 rows × 217 columns</p>\n",
       "</div>"
      ],
      "text/plain": [
       "   District #  r_all_d_g3_2021  r_ethh_d_g3_2021  r_etha_d_g3_2021  \\\n",
       "0        1902             26.0               1.0               0.0   \n",
       "1        1903             95.0               6.0               0.0   \n",
       "2        1904             45.0               5.0               0.0   \n",
       "3        1906             24.0               4.0               0.0   \n",
       "4        1907            182.0              73.0               1.0   \n",
       "\n",
       "   r_ethb_d_g3_2021  r_ethw_d_g3_2021  r_ecoy_d_g3_2021  r_eco1_d_g3_2021  \\\n",
       "0               1.0              24.0               7.0               6.0   \n",
       "1               0.0              86.0              44.0              41.0   \n",
       "2               4.0              34.0              24.0              23.0   \n",
       "3               3.0              17.0              11.0               9.0   \n",
       "4              63.0              41.0             142.0             114.0   \n",
       "\n",
       "   r_ti1y_d_g3_2021  r_spey_d_g3_2021  ...  r_spey_rs_g8_2021  \\\n",
       "0              26.0               4.0  ...                NaN   \n",
       "1              95.0               8.0  ...             1537.0   \n",
       "2              45.0               5.0  ...             1508.0   \n",
       "3              24.0               1.0  ...                NaN   \n",
       "4             182.0              24.0  ...             1506.0   \n",
       "\n",
       "   m_all_rs_g8_2021  m_ethh_rs_g8_2021  m_etha_rs_g8_2021  m_ethb_rs_g8_2021  \\\n",
       "0            1724.0             1767.0                NaN                NaN   \n",
       "1            1659.0             1678.0                NaN             1603.0   \n",
       "2            1694.0             1685.0                NaN             1683.0   \n",
       "3            1773.0                NaN                NaN                NaN   \n",
       "4            1700.0             1711.0                NaN             1670.0   \n",
       "\n",
       "   m_ethw_rs_g8_2021  m_ecoy_rs_g8_2021  m_eco1_rs_g8_2021  m_ti1y_rs_g8_2021  \\\n",
       "0             1719.0             1676.0             1680.0             1724.0   \n",
       "1             1668.0             1648.0             1651.0             1659.0   \n",
       "2             1704.0             1701.0             1688.0             1694.0   \n",
       "3             1763.0             1696.0             1674.0             1773.0   \n",
       "4             1705.0             1691.0             1688.0             1700.0   \n",
       "\n",
       "   m_spey_rs_g8_2021  \n",
       "0                NaN  \n",
       "1             1531.0  \n",
       "2             1594.0  \n",
       "3                NaN  \n",
       "4             1573.0  \n",
       "\n",
       "[5 rows x 217 columns]"
      ]
     },
     "execution_count": 9,
     "metadata": {},
     "output_type": "execute_result"
    }
   ],
   "source": [
    "df_staar21 = pd.read_csv('../../data/staar/DATA_STAAR_DISTRICT_2021.csv')\n",
    "print('Shape:', df_staar21.shape)\n",
    "print('Nunique District #:', df_staar21['District #'].nunique())\n",
    "df_staar21.head()"
   ]
  },
  {
   "cell_type": "code",
   "execution_count": 10,
   "id": "966ab645",
   "metadata": {},
   "outputs": [],
   "source": [
    "cols_staar21_all = ['r_all_rs_g3_2021',\n",
    "                'r_all_d_g3_2021',\n",
    "                'm_all_rs_g3_2021',\n",
    "                'm_all_d_g3_2021',\n",
    "                'r_all_rs_g4_2021',\n",
    "                'r_all_d_g4_2021',\n",
    "                'm_all_rs_g4_2021',\n",
    "                'm_all_d_g4_2021',\n",
    "                'r_all_rs_g5_2021',\n",
    "                'r_all_d_g5_2021',\n",
    "                'm_all_rs_g5_2021',\n",
    "                'm_all_d_g5_2021',\n",
    "                'r_all_rs_g6_2021',\n",
    "                'r_all_d_g6_2021',\n",
    "                'm_all_rs_g6_2021',\n",
    "                'm_all_d_g6_2021',\n",
    "                'r_all_rs_g7_2021',\n",
    "                'r_all_d_g7_2021',\n",
    "                'm_all_rs_g7_2021',\n",
    "                'm_all_d_g7_2021',\n",
    "                'r_all_rs_g8_2021',\n",
    "                'r_all_d_g8_2021',\n",
    "                'm_all_rs_g8_2021',\n",
    "                'm_all_d_g8_2021']"
   ]
  },
  {
   "cell_type": "markdown",
   "id": "4810ce94",
   "metadata": {},
   "source": [
    "## Reading [Covid data](https://dshs.texas.gov/coronavirus/schools/texas-education-agency/) ##"
   ]
  },
  {
   "cell_type": "markdown",
   "id": "0335e754",
   "metadata": {},
   "source": [
    "### Covid District ###"
   ]
  },
  {
   "cell_type": "code",
   "execution_count": 11,
   "id": "31a1d572",
   "metadata": {},
   "outputs": [],
   "source": [
    "col_covid_dist=['District #',\n",
    "                'District Enrollment 01/29/21',\n",
    "                'Approx. District On-Campus Enrollment 01/29/21',\n",
    "                'District Enrollment 10/30/20',\n",
    "                'Approx. District On-Campus Enrollment 10/30/20',\n",
    "                'District Enrollment 09/28/20',\n",
    "                'Approx. District On-Campus Enrollment 09/28/20']"
   ]
  },
  {
   "cell_type": "code",
   "execution_count": 12,
   "id": "9690d064",
   "metadata": {},
   "outputs": [
    {
     "name": "stdout",
     "output_type": "stream",
     "text": [
      "Shape: (1216, 7)\n"
     ]
    },
    {
     "data": {
      "text/html": [
       "<div>\n",
       "<style scoped>\n",
       "    .dataframe tbody tr th:only-of-type {\n",
       "        vertical-align: middle;\n",
       "    }\n",
       "\n",
       "    .dataframe tbody tr th {\n",
       "        vertical-align: top;\n",
       "    }\n",
       "\n",
       "    .dataframe thead th {\n",
       "        text-align: right;\n",
       "    }\n",
       "</style>\n",
       "<table border=\"1\" class=\"dataframe\">\n",
       "  <thead>\n",
       "    <tr style=\"text-align: right;\">\n",
       "      <th></th>\n",
       "      <th>District Enrollment 01/29/21</th>\n",
       "      <th>Approx. District On-Campus Enrollment 01/29/21</th>\n",
       "      <th>District Enrollment 10/30/20</th>\n",
       "      <th>Approx. District On-Campus Enrollment 10/30/20</th>\n",
       "      <th>District Enrollment 09/28/20</th>\n",
       "      <th>Approx. District On-Campus Enrollment 09/28/20</th>\n",
       "      <th>District #</th>\n",
       "    </tr>\n",
       "  </thead>\n",
       "  <tbody>\n",
       "    <tr>\n",
       "      <th>0</th>\n",
       "      <td>541.0</td>\n",
       "      <td>527.0</td>\n",
       "      <td>535.0</td>\n",
       "      <td>489.0</td>\n",
       "      <td>544.0</td>\n",
       "      <td>415.0</td>\n",
       "      <td>1902.0</td>\n",
       "    </tr>\n",
       "    <tr>\n",
       "      <th>1</th>\n",
       "      <td>1167.0</td>\n",
       "      <td>1120.0</td>\n",
       "      <td>1200.0</td>\n",
       "      <td>1092.0</td>\n",
       "      <td>1207.0</td>\n",
       "      <td>1095.0</td>\n",
       "      <td>1903.0</td>\n",
       "    </tr>\n",
       "    <tr>\n",
       "      <th>2</th>\n",
       "      <td>756.0</td>\n",
       "      <td>719.0</td>\n",
       "      <td>836.0</td>\n",
       "      <td>768.0</td>\n",
       "      <td>760.0</td>\n",
       "      <td>688.0</td>\n",
       "      <td>1904.0</td>\n",
       "    </tr>\n",
       "    <tr>\n",
       "      <th>3</th>\n",
       "      <td>338.0</td>\n",
       "      <td>325.0</td>\n",
       "      <td>339.0</td>\n",
       "      <td>339.0</td>\n",
       "      <td>317.0</td>\n",
       "      <td>313.0</td>\n",
       "      <td>1906.0</td>\n",
       "    </tr>\n",
       "    <tr>\n",
       "      <th>4</th>\n",
       "      <td>3347.0</td>\n",
       "      <td>3124.0</td>\n",
       "      <td>3399.0</td>\n",
       "      <td>2908.0</td>\n",
       "      <td>3384.0</td>\n",
       "      <td>2857.0</td>\n",
       "      <td>1907.0</td>\n",
       "    </tr>\n",
       "  </tbody>\n",
       "</table>\n",
       "</div>"
      ],
      "text/plain": [
       "   District Enrollment 01/29/21  \\\n",
       "0                         541.0   \n",
       "1                        1167.0   \n",
       "2                         756.0   \n",
       "3                         338.0   \n",
       "4                        3347.0   \n",
       "\n",
       "   Approx. District On-Campus Enrollment 01/29/21  \\\n",
       "0                                           527.0   \n",
       "1                                          1120.0   \n",
       "2                                           719.0   \n",
       "3                                           325.0   \n",
       "4                                          3124.0   \n",
       "\n",
       "   District Enrollment 10/30/20  \\\n",
       "0                         535.0   \n",
       "1                        1200.0   \n",
       "2                         836.0   \n",
       "3                         339.0   \n",
       "4                        3399.0   \n",
       "\n",
       "   Approx. District On-Campus Enrollment 10/30/20  \\\n",
       "0                                           489.0   \n",
       "1                                          1092.0   \n",
       "2                                           768.0   \n",
       "3                                           339.0   \n",
       "4                                          2908.0   \n",
       "\n",
       "   District Enrollment 09/28/20  \\\n",
       "0                         544.0   \n",
       "1                        1207.0   \n",
       "2                         760.0   \n",
       "3                         317.0   \n",
       "4                        3384.0   \n",
       "\n",
       "   Approx. District On-Campus Enrollment 09/28/20  District #  \n",
       "0                                           415.0      1902.0  \n",
       "1                                          1095.0      1903.0  \n",
       "2                                           688.0      1904.0  \n",
       "3                                           313.0      1906.0  \n",
       "4                                          2857.0      1907.0  "
      ]
     },
     "execution_count": 12,
     "metadata": {},
     "output_type": "execute_result"
    }
   ],
   "source": [
    "df_covid_dist = pd.read_csv('../../data/covid/DATA_COVID_DISTRICT.csv', usecols=col_covid_dist)\n",
    "print('Shape:', df_covid_dist.shape)\n",
    "df_covid_dist.head()"
   ]
  },
  {
   "cell_type": "code",
   "execution_count": 13,
   "id": "653091b4",
   "metadata": {},
   "outputs": [
    {
     "name": "stdout",
     "output_type": "stream",
     "text": [
      "na rows: 7\n"
     ]
    },
    {
     "data": {
      "text/plain": [
       "['District Enrollment 01/29/21: 9',\n",
       " 'Approx. District On-Campus Enrollment 01/29/21: 9',\n",
       " 'District Enrollment 10/30/20: 9',\n",
       " 'Approx. District On-Campus Enrollment 10/30/20: 9',\n",
       " 'District Enrollment 09/28/20: 14',\n",
       " 'Approx. District On-Campus Enrollment 09/28/20: 14',\n",
       " 'District #: 1']"
      ]
     },
     "execution_count": 13,
     "metadata": {},
     "output_type": "execute_result"
    }
   ],
   "source": [
    "temp=[c + ': ' + str(df_covid_dist[c].isna().sum()) for c in df_covid_dist if df_covid_dist[c].isna().any()]\n",
    "print(\"na rows:\", len(temp))\n",
    "temp"
   ]
  },
  {
   "cell_type": "markdown",
   "id": "3d44e86e",
   "metadata": {},
   "source": [
    "### Covid County ###"
   ]
  },
  {
   "cell_type": "code",
   "execution_count": 14,
   "id": "2f5d39ea",
   "metadata": {},
   "outputs": [
    {
     "data": {
      "text/plain": [
       "253"
      ]
     },
     "execution_count": 14,
     "metadata": {},
     "output_type": "execute_result"
    }
   ],
   "source": [
    "df_nces['County #'].nunique()"
   ]
  },
  {
   "cell_type": "code",
   "execution_count": 15,
   "id": "a35b0120",
   "metadata": {},
   "outputs": [
    {
     "name": "stdout",
     "output_type": "stream",
     "text": [
      "Shape: (255, 9)\n"
     ]
    },
    {
     "data": {
      "text/html": [
       "<div>\n",
       "<style scoped>\n",
       "    .dataframe tbody tr th:only-of-type {\n",
       "        vertical-align: middle;\n",
       "    }\n",
       "\n",
       "    .dataframe tbody tr th {\n",
       "        vertical-align: top;\n",
       "    }\n",
       "\n",
       "    .dataframe thead th {\n",
       "        text-align: right;\n",
       "    }\n",
       "</style>\n",
       "<table border=\"1\" class=\"dataframe\">\n",
       "  <thead>\n",
       "    <tr style=\"text-align: right;\">\n",
       "      <th></th>\n",
       "      <th>Unnamed: 0</th>\n",
       "      <th>County #</th>\n",
       "      <th>Confirmed Deaths 09/28/20</th>\n",
       "      <th>Confirmed Deaths 10/30/20</th>\n",
       "      <th>Confirmed Deaths 01/29/21</th>\n",
       "      <th>Confirmed Cases 09/28/20</th>\n",
       "      <th>Confirmed Cases 10/30/20</th>\n",
       "      <th>Confirmed Cases 01/29/21</th>\n",
       "      <th>County Population</th>\n",
       "    </tr>\n",
       "  </thead>\n",
       "  <tbody>\n",
       "    <tr>\n",
       "      <th>0</th>\n",
       "      <td>0</td>\n",
       "      <td>0.0</td>\n",
       "      <td>0.0</td>\n",
       "      <td>0.0</td>\n",
       "      <td>0.0</td>\n",
       "      <td>0.0</td>\n",
       "      <td>0.0</td>\n",
       "      <td>0.0</td>\n",
       "      <td>0.0</td>\n",
       "    </tr>\n",
       "    <tr>\n",
       "      <th>1</th>\n",
       "      <td>1</td>\n",
       "      <td>48001.0</td>\n",
       "      <td>37.0</td>\n",
       "      <td>44.0</td>\n",
       "      <td>99.0</td>\n",
       "      <td>2840.0</td>\n",
       "      <td>2970.0</td>\n",
       "      <td>5804.0</td>\n",
       "      <td>57735.0</td>\n",
       "    </tr>\n",
       "    <tr>\n",
       "      <th>2</th>\n",
       "      <td>2</td>\n",
       "      <td>48003.0</td>\n",
       "      <td>10.0</td>\n",
       "      <td>11.0</td>\n",
       "      <td>45.0</td>\n",
       "      <td>425.0</td>\n",
       "      <td>667.0</td>\n",
       "      <td>1649.0</td>\n",
       "      <td>18705.0</td>\n",
       "    </tr>\n",
       "    <tr>\n",
       "      <th>3</th>\n",
       "      <td>3</td>\n",
       "      <td>48005.0</td>\n",
       "      <td>86.0</td>\n",
       "      <td>94.0</td>\n",
       "      <td>236.0</td>\n",
       "      <td>2144.0</td>\n",
       "      <td>2317.0</td>\n",
       "      <td>7121.0</td>\n",
       "      <td>86715.0</td>\n",
       "    </tr>\n",
       "    <tr>\n",
       "      <th>4</th>\n",
       "      <td>4</td>\n",
       "      <td>48007.0</td>\n",
       "      <td>18.0</td>\n",
       "      <td>18.0</td>\n",
       "      <td>33.0</td>\n",
       "      <td>323.0</td>\n",
       "      <td>351.0</td>\n",
       "      <td>979.0</td>\n",
       "      <td>23510.0</td>\n",
       "    </tr>\n",
       "  </tbody>\n",
       "</table>\n",
       "</div>"
      ],
      "text/plain": [
       "   Unnamed: 0  County #  Confirmed Deaths 09/28/20  Confirmed Deaths 10/30/20  \\\n",
       "0           0       0.0                        0.0                        0.0   \n",
       "1           1   48001.0                       37.0                       44.0   \n",
       "2           2   48003.0                       10.0                       11.0   \n",
       "3           3   48005.0                       86.0                       94.0   \n",
       "4           4   48007.0                       18.0                       18.0   \n",
       "\n",
       "   Confirmed Deaths 01/29/21  Confirmed Cases 09/28/20  \\\n",
       "0                        0.0                       0.0   \n",
       "1                       99.0                    2840.0   \n",
       "2                       45.0                     425.0   \n",
       "3                      236.0                    2144.0   \n",
       "4                       33.0                     323.0   \n",
       "\n",
       "   Confirmed Cases 10/30/20  Confirmed Cases 01/29/21  County Population  \n",
       "0                       0.0                       0.0                0.0  \n",
       "1                    2970.0                    5804.0            57735.0  \n",
       "2                     667.0                    1649.0            18705.0  \n",
       "3                    2317.0                    7121.0            86715.0  \n",
       "4                     351.0                     979.0            23510.0  "
      ]
     },
     "execution_count": 15,
     "metadata": {},
     "output_type": "execute_result"
    }
   ],
   "source": [
    "df_covid_county = pd.read_csv('../../data/covid/DATA_COVID_COUNTY.csv')\n",
    "print('Shape:', df_covid_county.shape)\n",
    "df_covid_county.head()"
   ]
  },
  {
   "cell_type": "code",
   "execution_count": 16,
   "id": "0f057b18",
   "metadata": {},
   "outputs": [
    {
     "name": "stdout",
     "output_type": "stream",
     "text": [
      "Shape: (254, 8)\n"
     ]
    },
    {
     "data": {
      "text/html": [
       "<div>\n",
       "<style scoped>\n",
       "    .dataframe tbody tr th:only-of-type {\n",
       "        vertical-align: middle;\n",
       "    }\n",
       "\n",
       "    .dataframe tbody tr th {\n",
       "        vertical-align: top;\n",
       "    }\n",
       "\n",
       "    .dataframe thead th {\n",
       "        text-align: right;\n",
       "    }\n",
       "</style>\n",
       "<table border=\"1\" class=\"dataframe\">\n",
       "  <thead>\n",
       "    <tr style=\"text-align: right;\">\n",
       "      <th></th>\n",
       "      <th>County #</th>\n",
       "      <th>Confirmed Deaths 09/28/20</th>\n",
       "      <th>Confirmed Deaths 10/30/20</th>\n",
       "      <th>Confirmed Deaths 01/29/21</th>\n",
       "      <th>Confirmed Cases 09/28/20</th>\n",
       "      <th>Confirmed Cases 10/30/20</th>\n",
       "      <th>Confirmed Cases 01/29/21</th>\n",
       "      <th>County Population</th>\n",
       "    </tr>\n",
       "  </thead>\n",
       "  <tbody>\n",
       "    <tr>\n",
       "      <th>1</th>\n",
       "      <td>48001.0</td>\n",
       "      <td>37.0</td>\n",
       "      <td>44.0</td>\n",
       "      <td>99.0</td>\n",
       "      <td>2840.0</td>\n",
       "      <td>2970.0</td>\n",
       "      <td>5804.0</td>\n",
       "      <td>57735.0</td>\n",
       "    </tr>\n",
       "    <tr>\n",
       "      <th>2</th>\n",
       "      <td>48003.0</td>\n",
       "      <td>10.0</td>\n",
       "      <td>11.0</td>\n",
       "      <td>45.0</td>\n",
       "      <td>425.0</td>\n",
       "      <td>667.0</td>\n",
       "      <td>1649.0</td>\n",
       "      <td>18705.0</td>\n",
       "    </tr>\n",
       "    <tr>\n",
       "      <th>3</th>\n",
       "      <td>48005.0</td>\n",
       "      <td>86.0</td>\n",
       "      <td>94.0</td>\n",
       "      <td>236.0</td>\n",
       "      <td>2144.0</td>\n",
       "      <td>2317.0</td>\n",
       "      <td>7121.0</td>\n",
       "      <td>86715.0</td>\n",
       "    </tr>\n",
       "    <tr>\n",
       "      <th>4</th>\n",
       "      <td>48007.0</td>\n",
       "      <td>18.0</td>\n",
       "      <td>18.0</td>\n",
       "      <td>33.0</td>\n",
       "      <td>323.0</td>\n",
       "      <td>351.0</td>\n",
       "      <td>979.0</td>\n",
       "      <td>23510.0</td>\n",
       "    </tr>\n",
       "    <tr>\n",
       "      <th>5</th>\n",
       "      <td>48009.0</td>\n",
       "      <td>1.0</td>\n",
       "      <td>1.0</td>\n",
       "      <td>11.0</td>\n",
       "      <td>87.0</td>\n",
       "      <td>161.0</td>\n",
       "      <td>745.0</td>\n",
       "      <td>8553.0</td>\n",
       "    </tr>\n",
       "  </tbody>\n",
       "</table>\n",
       "</div>"
      ],
      "text/plain": [
       "   County #  Confirmed Deaths 09/28/20  Confirmed Deaths 10/30/20  \\\n",
       "1   48001.0                       37.0                       44.0   \n",
       "2   48003.0                       10.0                       11.0   \n",
       "3   48005.0                       86.0                       94.0   \n",
       "4   48007.0                       18.0                       18.0   \n",
       "5   48009.0                        1.0                        1.0   \n",
       "\n",
       "   Confirmed Deaths 01/29/21  Confirmed Cases 09/28/20  \\\n",
       "1                       99.0                    2840.0   \n",
       "2                       45.0                     425.0   \n",
       "3                      236.0                    2144.0   \n",
       "4                       33.0                     323.0   \n",
       "5                       11.0                      87.0   \n",
       "\n",
       "   Confirmed Cases 10/30/20  Confirmed Cases 01/29/21  County Population  \n",
       "1                    2970.0                    5804.0            57735.0  \n",
       "2                     667.0                    1649.0            18705.0  \n",
       "3                    2317.0                    7121.0            86715.0  \n",
       "4                     351.0                     979.0            23510.0  \n",
       "5                     161.0                     745.0             8553.0  "
      ]
     },
     "execution_count": 16,
     "metadata": {},
     "output_type": "execute_result"
    }
   ],
   "source": [
    "df_covid_county.drop(index=0, inplace=True)\n",
    "df_covid_county.drop(columns='Unnamed: 0', axis=1, inplace=True)\n",
    "print('Shape:', df_covid_county.shape)\n",
    "df_covid_county.head()"
   ]
  },
  {
   "cell_type": "code",
   "execution_count": 17,
   "id": "a0134db3",
   "metadata": {
    "scrolled": true
   },
   "outputs": [
    {
     "name": "stdout",
     "output_type": "stream",
     "text": [
      "na rows: 0\n"
     ]
    },
    {
     "data": {
      "text/plain": [
       "[]"
      ]
     },
     "execution_count": 17,
     "metadata": {},
     "output_type": "execute_result"
    }
   ],
   "source": [
    "temp=[c + ': ' + str(df_covid_county[c].isna().sum()) for c in df_covid_county if df_covid_county[c].isna().any()]\n",
    "print(\"na rows:\", len(temp))\n",
    "temp"
   ]
  },
  {
   "cell_type": "code",
   "execution_count": 18,
   "id": "704fb4f3",
   "metadata": {},
   "outputs": [
    {
     "data": {
      "text/html": [
       "<div>\n",
       "<style scoped>\n",
       "    .dataframe tbody tr th:only-of-type {\n",
       "        vertical-align: middle;\n",
       "    }\n",
       "\n",
       "    .dataframe tbody tr th {\n",
       "        vertical-align: top;\n",
       "    }\n",
       "\n",
       "    .dataframe thead th {\n",
       "        text-align: right;\n",
       "    }\n",
       "</style>\n",
       "<table border=\"1\" class=\"dataframe\">\n",
       "  <thead>\n",
       "    <tr style=\"text-align: right;\">\n",
       "      <th></th>\n",
       "      <th>County #</th>\n",
       "      <th>Confirmed Deaths 09/28/20</th>\n",
       "      <th>Confirmed Deaths 10/30/20</th>\n",
       "      <th>Confirmed Deaths 01/29/21</th>\n",
       "      <th>Confirmed Cases 09/28/20</th>\n",
       "      <th>Confirmed Cases 10/30/20</th>\n",
       "      <th>Confirmed Cases 01/29/21</th>\n",
       "      <th>County Population</th>\n",
       "    </tr>\n",
       "  </thead>\n",
       "  <tbody>\n",
       "    <tr>\n",
       "      <th>151</th>\n",
       "      <td>48301.0</td>\n",
       "      <td>0.0</td>\n",
       "      <td>0.0</td>\n",
       "      <td>0.0</td>\n",
       "      <td>0.0</td>\n",
       "      <td>0.0</td>\n",
       "      <td>1.0</td>\n",
       "      <td>169.0</td>\n",
       "    </tr>\n",
       "  </tbody>\n",
       "</table>\n",
       "</div>"
      ],
      "text/plain": [
       "     County #  Confirmed Deaths 09/28/20  Confirmed Deaths 10/30/20  \\\n",
       "151   48301.0                        0.0                        0.0   \n",
       "\n",
       "     Confirmed Deaths 01/29/21  Confirmed Cases 09/28/20  \\\n",
       "151                        0.0                       0.0   \n",
       "\n",
       "     Confirmed Cases 10/30/20  Confirmed Cases 01/29/21  County Population  \n",
       "151                       0.0                       1.0              169.0  "
      ]
     },
     "execution_count": 18,
     "metadata": {},
     "output_type": "execute_result"
    }
   ],
   "source": [
    "df_covid_county[~df_covid_county['County #'].isin(df_nces['County #'])]"
   ]
  },
  {
   "cell_type": "markdown",
   "id": "e42dd17b",
   "metadata": {},
   "source": [
    "## Reading ADA ##\n",
    "\n",
    "**ada_county.csv is sum of ada_district.csv**"
   ]
  },
  {
   "cell_type": "code",
   "execution_count": 19,
   "id": "18e26e2f",
   "metadata": {},
   "outputs": [],
   "source": [
    "cols_ada = ['District #',\n",
    "        '2018-2019 ADA',\n",
    "        '2020-2021 ADA']"
   ]
  },
  {
   "cell_type": "code",
   "execution_count": 20,
   "id": "b68b2539",
   "metadata": {
    "scrolled": true
   },
   "outputs": [
    {
     "name": "stdout",
     "output_type": "stream",
     "text": [
      "<class 'pandas.core.frame.DataFrame'>\n",
      "RangeIndex: 1407 entries, 0 to 1406\n",
      "Data columns (total 3 columns):\n",
      " #   Column         Non-Null Count  Dtype  \n",
      "---  ------         --------------  -----  \n",
      " 0   District #     1407 non-null   int64  \n",
      " 1   2018-2019 ADA  1230 non-null   float64\n",
      " 2   2020-2021 ADA  1233 non-null   float64\n",
      "dtypes: float64(2), int64(1)\n",
      "memory usage: 33.1 KB\n"
     ]
    }
   ],
   "source": [
    "df_ada = pd.read_csv('../../data/ada/DATA_ADA_DISTRICT.csv', usecols = cols_ada)\n",
    "df_ada.info()"
   ]
  },
  {
   "cell_type": "code",
   "execution_count": 21,
   "id": "12e429b3",
   "metadata": {},
   "outputs": [
    {
     "name": "stdout",
     "output_type": "stream",
     "text": [
      "<class 'pandas.core.frame.DataFrame'>\n",
      "Int64Index: 1226 entries, 0 to 1406\n",
      "Data columns (total 3 columns):\n",
      " #   Column         Non-Null Count  Dtype  \n",
      "---  ------         --------------  -----  \n",
      " 0   District #     1226 non-null   int64  \n",
      " 1   2018-2019 ADA  1226 non-null   float64\n",
      " 2   2020-2021 ADA  1226 non-null   float64\n",
      "dtypes: float64(2), int64(1)\n",
      "memory usage: 38.3 KB\n"
     ]
    }
   ],
   "source": [
    "df_ada.dropna(inplace=True)\n",
    "df_ada.info()"
   ]
  },
  {
   "cell_type": "markdown",
   "id": "c8b8db6f",
   "metadata": {},
   "source": [
    "## Reading [Census Block Group 2010 TX](https://schoolsdata2-93b5c-tea-texas.opendata.arcgis.com/datasets/census-block-group-2010-tx/) data ##"
   ]
  },
  {
   "cell_type": "code",
   "execution_count": 22,
   "id": "7e6b7c88",
   "metadata": {},
   "outputs": [
    {
     "name": "stdout",
     "output_type": "stream",
     "text": [
      "Shape: (254, 37)\n",
      "<class 'pandas.core.frame.DataFrame'>\n",
      "RangeIndex: 254 entries, 0 to 253\n",
      "Data columns (total 37 columns):\n",
      " #   Column                   Non-Null Count  Dtype  \n",
      "---  ------                   --------------  -----  \n",
      " 0   County #                 254 non-null    int64  \n",
      " 1   Population 10            254 non-null    int64  \n",
      " 2   White Pop 10             254 non-null    int64  \n",
      " 3   Black Pop 10             254 non-null    int64  \n",
      " 4   Asian Pop 10             254 non-null    int64  \n",
      " 5   Hispanic Pop 10          254 non-null    int64  \n",
      " 6   Male Pop 10              254 non-null    int64  \n",
      " 7   Female Pop 10            254 non-null    int64  \n",
      " 8   Age 0-4 Pop 10           254 non-null    int64  \n",
      " 9   Age 5-9 Pop 10           254 non-null    int64  \n",
      " 10  Age 10-14 Pop 10         254 non-null    int64  \n",
      " 11  Age 15-19 Pop 10         254 non-null    int64  \n",
      " 12  Age 20-24 Pop 10         254 non-null    int64  \n",
      " 13  Age 25-34 Pop 10         254 non-null    int64  \n",
      " 14  Age 35-44 Pop 10         254 non-null    int64  \n",
      " 15  Age 45-54 Pop 10         254 non-null    int64  \n",
      " 16  Age 55-64 Pop 10         254 non-null    int64  \n",
      " 17  Age 65-74 Pop 10         254 non-null    int64  \n",
      " 18  Age 75-84 Pop 10         254 non-null    int64  \n",
      " 19  Age 85-Up Pop 10         254 non-null    int64  \n",
      " 20  Median Age 10            254 non-null    float64\n",
      " 21  Median Age Male 10       254 non-null    float64\n",
      " 22  Median Age Female 10     254 non-null    float64\n",
      " 23  # of Households 10       254 non-null    int64  \n",
      " 24  Avg Household Size 10    254 non-null    float64\n",
      " 25  HH 1 Male 10             254 non-null    int64  \n",
      " 26  HH 1 Female 10           254 non-null    int64  \n",
      " 27  HH Married-Child 10      254 non-null    int64  \n",
      " 28  HH Married-noChild 10    254 non-null    int64  \n",
      " 29  HH Male-Child 10         254 non-null    int64  \n",
      " 30  HH Female-Child 10       254 non-null    int64  \n",
      " 31  # of Families 10         254 non-null    int64  \n",
      " 32  Avg Family Size 10       254 non-null    float64\n",
      " 33  # of Housing Units 10    254 non-null    int64  \n",
      " 34  Housing Vacant 10        254 non-null    int64  \n",
      " 35  Housing Owner Occup 10   254 non-null    int64  \n",
      " 36  Housing Renter Occup 10  254 non-null    int64  \n",
      "dtypes: float64(5), int64(32)\n",
      "memory usage: 73.5 KB\n"
     ]
    }
   ],
   "source": [
    "df_census = pd.read_csv('../../data/census/DATA_Census_Block_Group_2010_TX_County.csv')\n",
    "print('Shape:', df_census.shape)\n",
    "df_census.info()"
   ]
  },
  {
   "cell_type": "markdown",
   "id": "7ad8fb24",
   "metadata": {},
   "source": [
    "## Reading [ESSER data](https://tea.texas.gov/finance-and-grants/grants/grants-administration/applying-for-a-grant/entitlements)"
   ]
  },
  {
   "cell_type": "code",
   "execution_count": 23,
   "id": "2b1b6e5f",
   "metadata": {},
   "outputs": [
    {
     "name": "stdout",
     "output_type": "stream",
     "text": [
      "<class 'pandas.core.frame.DataFrame'>\n",
      "RangeIndex: 1208 entries, 0 to 1207\n",
      "Data columns (total 6 columns):\n",
      " #   Column             Non-Null Count  Dtype  \n",
      "---  ------             --------------  -----  \n",
      " 0   District #         1208 non-null   int64  \n",
      " 1   CARES ESSER I 20   1208 non-null   float64\n",
      " 2   CRRSA ESSER II 21  1208 non-null   float64\n",
      " 3   ARP ESSER III 21   1208 non-null   float64\n",
      " 4   ESSER-SUPP 22      1208 non-null   float64\n",
      " 5   ESSER-SUPP 23      1208 non-null   float64\n",
      "dtypes: float64(5), int64(1)\n",
      "memory usage: 56.8 KB\n"
     ]
    }
   ],
   "source": [
    "df_esser = pd.read_csv('../../data/esser/DATA_ESSER_DISTRICT.csv')\n",
    "df_esser.info()"
   ]
  },
  {
   "cell_type": "markdown",
   "id": "2cf7cd77",
   "metadata": {},
   "source": [
    "## Merge Files ##"
   ]
  },
  {
   "cell_type": "markdown",
   "id": "725ff1fd",
   "metadata": {},
   "source": [
    "1. Start from NCES `df_nces` merging with STAAR 2018-2019 `df_staar19'\n",
    "1. merging LAUS `df_laus`\n",
    "1. merging Census Block Group 2010 TX `df_census`\n",
    "1. merging STAAR 2020-2021 `df_staar21`\n",
    "1. merging Covid district `df_covid_dist`\n",
    "1. merging Covid county `df_covid_county`\n",
    "1. merging ADA `df_ada`\n",
    "1. merging ESSER `df_esser`"
   ]
  },
  {
   "cell_type": "code",
   "execution_count": 24,
   "id": "c692616f",
   "metadata": {},
   "outputs": [
    {
     "name": "stdout",
     "output_type": "stream",
     "text": [
      "na rows: 248\n",
      "<class 'pandas.core.frame.DataFrame'>\n",
      "Int64Index: 1189 entries, 0 to 1188\n",
      "Columns: 282 entries, Agency Name to m_spey_rs_g8_2019\n",
      "dtypes: float64(274), int64(5), object(3)\n",
      "memory usage: 2.6+ MB\n"
     ]
    }
   ],
   "source": [
    "df_merge = pd.merge(df_nces, df_staar19, how=\"left\", on=\"District #\")\n",
    "temp=[c + ': ' + str(df_merge[c].isna().sum()) for c in df_merge if df_merge[c].isna().any()]\n",
    "print(\"na rows: {}\".format(len(temp)))\n",
    "df_merge.info()"
   ]
  },
  {
   "cell_type": "code",
   "execution_count": 25,
   "id": "93d70a83",
   "metadata": {},
   "outputs": [
    {
     "name": "stdout",
     "output_type": "stream",
     "text": [
      "na rows: 464\n",
      "<class 'pandas.core.frame.DataFrame'>\n",
      "Int64Index: 1189 entries, 0 to 1188\n",
      "Columns: 498 entries, Agency Name to m_spey_rs_g8_2021\n",
      "dtypes: float64(490), int64(5), object(3)\n",
      "memory usage: 4.5+ MB\n"
     ]
    }
   ],
   "source": [
    "df_merge = pd.merge(df_merge, df_staar21, how=\"left\", on=\"District #\")\n",
    "temp=[c + ': ' + str(df_merge[c].isna().sum()) for c in df_merge if df_merge[c].isna().any()]\n",
    "print(\"na rows: {}\".format(len(temp)))\n",
    "df_merge.info()"
   ]
  },
  {
   "cell_type": "code",
   "execution_count": 26,
   "id": "fc077e92",
   "metadata": {},
   "outputs": [
    {
     "name": "stdout",
     "output_type": "stream",
     "text": [
      "na rows: 464\n",
      "<class 'pandas.core.frame.DataFrame'>\n",
      "Int64Index: 1189 entries, 0 to 1188\n",
      "Columns: 510 entries, Agency Name to Unemployed Rate Diff\n",
      "dtypes: float64(496), int64(11), object(3)\n",
      "memory usage: 4.6+ MB\n"
     ]
    }
   ],
   "source": [
    "df_merge = pd.merge(df_merge, df_laus, how=\"left\", on=\"County #\")\n",
    "temp=[c + ': ' + str(df_merge[c].isna().sum()) for c in df_merge if df_merge[c].isna().any()]\n",
    "print(\"na rows: {}\".format(len(temp)))\n",
    "df_merge.info()"
   ]
  },
  {
   "cell_type": "code",
   "execution_count": 27,
   "id": "41805ce6",
   "metadata": {},
   "outputs": [
    {
     "name": "stdout",
     "output_type": "stream",
     "text": [
      "na rows: 464\n",
      "<class 'pandas.core.frame.DataFrame'>\n",
      "Int64Index: 1189 entries, 0 to 1188\n",
      "Columns: 546 entries, Agency Name to Housing Renter Occup 10\n",
      "dtypes: float64(501), int64(42), object(3)\n",
      "memory usage: 5.0+ MB\n"
     ]
    }
   ],
   "source": [
    "df_merge = pd.merge(df_merge, df_census, how=\"left\", on=\"County #\")\n",
    "temp=[c + ': ' + str(df_merge[c].isna().sum()) for c in df_merge if df_merge[c].isna().any()]\n",
    "print(\"na rows: {}\".format(len(temp)))\n",
    "df_merge.info()"
   ]
  },
  {
   "cell_type": "code",
   "execution_count": 28,
   "id": "fab88947",
   "metadata": {},
   "outputs": [
    {
     "name": "stdout",
     "output_type": "stream",
     "text": [
      "na rows: 466\n",
      "<class 'pandas.core.frame.DataFrame'>\n",
      "Int64Index: 1189 entries, 0 to 1188\n",
      "Columns: 552 entries, Agency Name to Approx. District On-Campus Enrollment 09/28/20\n",
      "dtypes: float64(507), int64(42), object(3)\n",
      "memory usage: 5.0+ MB\n"
     ]
    }
   ],
   "source": [
    "df_merge = pd.merge(df_merge, df_covid_dist, how=\"left\", on=\"District #\")\n",
    "temp=[c + ': ' + str(df_merge[c].isna().sum()) for c in df_merge if df_merge[c].isna().any()]\n",
    "print(\"na rows: {}\".format(len(temp)))\n",
    "df_merge.info()"
   ]
  },
  {
   "cell_type": "code",
   "execution_count": 29,
   "id": "91b5a308",
   "metadata": {},
   "outputs": [
    {
     "name": "stdout",
     "output_type": "stream",
     "text": [
      "na rows: 466\n",
      "<class 'pandas.core.frame.DataFrame'>\n",
      "Int64Index: 1189 entries, 0 to 1188\n",
      "Columns: 559 entries, Agency Name to County Population\n",
      "dtypes: float64(514), int64(42), object(3)\n",
      "memory usage: 5.1+ MB\n"
     ]
    }
   ],
   "source": [
    "df_merge = pd.merge(df_merge, df_covid_county, how=\"left\", on=\"County #\")\n",
    "temp=[c + ': ' + str(df_merge[c].isna().sum()) for c in df_merge if df_merge[c].isna().any()]\n",
    "print(\"na rows: {}\".format(len(temp)))\n",
    "df_merge.info()"
   ]
  },
  {
   "cell_type": "code",
   "execution_count": null,
   "id": "3aee4412",
   "metadata": {},
   "outputs": [],
   "source": [
    "df_merge = pd.merge(df_merge, df_ada, how=\"left\", on=\"District #\")\n",
    "temp=[c + ': ' + str(df_merge[c].isna().sum()) for c in df_merge if df_merge[c].isna().any()]\n",
    "print(\"na rows: {}\".format(len(temp)))\n",
    "df_merge.info()"
   ]
  },
  {
   "cell_type": "code",
   "execution_count": null,
   "id": "a3694a80",
   "metadata": {},
   "outputs": [],
   "source": [
    "df_merge = pd.merge(df_merge, df_esser, how=\"left\", on=\"District #\")\n",
    "temp=[c + ': ' + str(df_merge[c].isna().sum()) for c in df_merge if df_merge[c].isna().any()]\n",
    "print(\"na rows: {}\".format(len(temp)))\n",
    "df_merge.info()"
   ]
  },
  {
   "cell_type": "markdown",
   "id": "5e4d7df1",
   "metadata": {},
   "source": [
    "**STAAR na values:** check how many districts are not available to have 'Average Scale Score All Students' columns for all grades between 3 and 8."
   ]
  },
  {
   "cell_type": "code",
   "execution_count": null,
   "id": "0ccaa3f6",
   "metadata": {},
   "outputs": [],
   "source": [
    "cols_staar19_all = ['District #',\n",
    "                    'r_all_rs_g3_2019',\n",
    "                    'm_all_rs_g3_2019',\n",
    "                    'r_all_rs_g4_2019',\n",
    "                    'm_all_rs_g4_2019',\n",
    "                    'r_all_rs_g5_2019',\n",
    "                    'm_all_rs_g5_2019',\n",
    "                    'r_all_rs_g6_2019',\n",
    "                    'm_all_rs_g6_2019',\n",
    "                    'r_all_rs_g7_2019',\n",
    "                    'm_all_rs_g7_2019',\n",
    "                    'r_all_rs_g8_2019',\n",
    "                    'm_all_rs_g8_2019']"
   ]
  },
  {
   "cell_type": "code",
   "execution_count": null,
   "id": "3eac50a5",
   "metadata": {},
   "outputs": [],
   "source": [
    "df_merge['count_na_staar_2019'] = df_merge[cols_staar19_all[1:]].apply(lambda x: x.isna().sum(), axis = 1)"
   ]
  },
  {
   "cell_type": "code",
   "execution_count": null,
   "id": "a4bb6140",
   "metadata": {
    "scrolled": true
   },
   "outputs": [],
   "source": [
    "df_merge[df_merge['count_na_staar_2019']==len(cols_staar19_all)-1][cols_staar19_all].shape"
   ]
  },
  {
   "cell_type": "code",
   "execution_count": null,
   "id": "f92f6b78",
   "metadata": {},
   "outputs": [],
   "source": [
    "dist_remove_2019 = df_merge[df_merge['count_na_staar_2019']==len(cols_staar19_all)-1]['District #'].to_frame()\n",
    "print('None of ''All stduents'' scores is available in', len(dist_remove_2019), 'districts for 2019')\n",
    "dist_remove_2019"
   ]
  },
  {
   "cell_type": "code",
   "execution_count": null,
   "id": "8a852e6c",
   "metadata": {},
   "outputs": [],
   "source": [
    "cols_staar21_all = ['District #',\n",
    "                    'r_all_rs_g3_2021',\n",
    "                    'm_all_rs_g3_2021',\n",
    "                    'r_all_rs_g4_2021',\n",
    "                    'm_all_rs_g4_2021',\n",
    "                    'r_all_rs_g5_2021',\n",
    "                    'm_all_rs_g5_2021',\n",
    "                    'r_all_rs_g6_2021',\n",
    "                    'm_all_rs_g6_2021',\n",
    "                    'r_all_rs_g7_2021',\n",
    "                    'm_all_rs_g7_2021',\n",
    "                    'r_all_rs_g8_2021',\n",
    "                    'm_all_rs_g8_2021']"
   ]
  },
  {
   "cell_type": "code",
   "execution_count": null,
   "id": "f21e8b05",
   "metadata": {},
   "outputs": [],
   "source": [
    "df_merge['count_na_staar_2021'] = df_merge[cols_staar21_all[1:]].apply(lambda x: x.isna().sum(), axis = 1)"
   ]
  },
  {
   "cell_type": "code",
   "execution_count": null,
   "id": "15e28487",
   "metadata": {},
   "outputs": [],
   "source": [
    "dist_remove_2021 = df_merge[df_merge['count_na_staar_2021']==len(cols_staar21_all)-1]['District #'].to_frame()\n",
    "print('None of ''All stduents'' scores is available in', len(dist_remove_2021), 'districts for 2021')"
   ]
  },
  {
   "cell_type": "code",
   "execution_count": null,
   "id": "6e014faf",
   "metadata": {},
   "outputs": [],
   "source": [
    "dist_remove = pd.merge(dist_remove_2019, dist_remove_2021, how='outer', on='District #')"
   ]
  },
  {
   "cell_type": "code",
   "execution_count": null,
   "id": "8b53bed4",
   "metadata": {},
   "outputs": [],
   "source": [
    "cols_removed = cols_staar19_all[1:] + cols_staar21_all[1:]\n",
    "print('Rows that are not availale for the variables below are removed:')\n",
    "cols_removed"
   ]
  },
  {
   "cell_type": "code",
   "execution_count": null,
   "id": "4f21f96a",
   "metadata": {
    "scrolled": true
   },
   "outputs": [],
   "source": [
    "dist_remove_index = df_merge[df_merge['District #'].isin(dist_remove['District #'])].index\n",
    "print(dist_remove_index)\n",
    "df_merge.drop(dist_remove_index, inplace=True)\n",
    "df_merge.drop(columns=['count_na_staar_2019', 'count_na_staar_2021'], inplace=True)\n",
    "df_merge.info()"
   ]
  },
  {
   "cell_type": "code",
   "execution_count": null,
   "id": "936064ee",
   "metadata": {
    "scrolled": false
   },
   "outputs": [],
   "source": [
    "for c in df_merge.columns:\n",
    "    if df_merge[c].isna().sum() > 0 : \n",
    "        print(\"{} has {} missing values that is {:0.2f}%\".format(c, df_merge[c].isna().sum(), df_merge[c].isna().sum()/df_merge.shape[0]))"
   ]
  },
  {
   "cell_type": "code",
   "execution_count": null,
   "id": "d2738880",
   "metadata": {},
   "outputs": [],
   "source": [
    "plt.rcParams['figure.figsize'] = (20,6)\n",
    "sns.heatmap(df_merge.isna(), yticklabels = False, cbar = False , cmap = 'viridis')\n",
    "plt.title(\"Missing null values\")\n",
    "plt.show()"
   ]
  },
  {
   "cell_type": "code",
   "execution_count": null,
   "id": "4b0aba45",
   "metadata": {},
   "outputs": [],
   "source": [
    "df=df_merge.copy()\n",
    "cols_norm=[]"
   ]
  },
  {
   "cell_type": "markdown",
   "id": "6c8c3886",
   "metadata": {},
   "source": [
    "## Normalization:\n",
    "Normalizing numberical data into a percentage."
   ]
  },
  {
   "cell_type": "markdown",
   "id": "7aa32de4",
   "metadata": {},
   "source": [
    "- Total Operational Public Schools\n",
    "- School-wide Title 1\n",
    "- Title 1 Eligible School"
   ]
  },
  {
   "cell_type": "code",
   "execution_count": null,
   "id": "500d14e9",
   "metadata": {},
   "outputs": [],
   "source": [
    "cols_sch = ['Total Operational Public Schools 2020-2021',\n",
    "            'Total Operational Public Schools 2018-2019',\n",
    "            'School-wide Title I 2020-2021',\n",
    "            'School-wide Title I 2018-2019',\n",
    "            'Title I Eligible School 2020-2021',\n",
    "            'Title I Eligible School 2018-2019']\n",
    "\n",
    "for col in cols_sch:\n",
    "    if col[-4:] == '2019': \n",
    "        df['% '+col] = df[col] / df['Total Public Schools 2018-2019']\n",
    "        cols_norm.append('% '+col)\n",
    "    else: \n",
    "        df['% '+col] = df[col] / df['Total Public Schools 2020-2021']\n",
    "        cols_norm.append('% '+col)"
   ]
  },
  {
   "cell_type": "markdown",
   "id": "d062a10a",
   "metadata": {},
   "source": [
    "- Teachers & Staff: FTE Teachers, Total Staff\n",
    "- Lunch Program: Free Lunch, Reduced-price Lunch\n",
    "- Race/Ethnicity: Asian, Hispanic, Black, White\n",
    "- Grade group(level): Grades 1-8, Grades 9-12, Prekindergarten, Kindergarten \n",
    "- Grade (each): Grade 1 to Grade 12\n",
    "- Average Daily Attendance(ADA)"
   ]
  },
  {
   "cell_type": "code",
   "execution_count": null,
   "id": "e4a6c9b8",
   "metadata": {},
   "outputs": [],
   "source": [
    "cols_old = ['FTE Teachers 2020-2021',\n",
    "            'FTE Teachers 2018-2019',\n",
    "            'Total Staff 2020-2021',\n",
    "            'Total Staff 2018-2019',\n",
    "            'Free Lunch 2020-2021',\n",
    "            'Free Lunch 2018-2019',\n",
    "            'Reduced-price Lunch 2020-2021',\n",
    "            'Reduced-price Lunch 2018-2019',\n",
    "            'Asian or Asian/Pacific Islander Students 2020-2021',\n",
    "            'Asian or Asian/Pacific Islander Students 2018-2019',\n",
    "            'Hispanic Students 2020-2021',\n",
    "            'Hispanic Students 2018-2019',\n",
    "            'Black or African American Students 2020-2021',\n",
    "            'Black or African American Students 2018-2019',\n",
    "            'White Students 2020-2021',\n",
    "            'White Students 2018-2019',\n",
    "            'Grades 1-8 2020-2021',\n",
    "            'Grades 1-8 2018-2019',\n",
    "            'Grades 9-12 2020-2021',\n",
    "            'Grades 9-12 2018-2019',\n",
    "            'Prek 2020-2021',\n",
    "            'Prek 2018-2019',\n",
    "            'K 2020-2021',\n",
    "            'K 2018-2019',\n",
    "            'Grade 1 2020-2021',\n",
    "            'Grade 1 2018-2019',\n",
    "            'Grade 2 2020-2021',\n",
    "            'Grade 2 2018-2019',\n",
    "            'Grade 3 2020-2021',\n",
    "            'Grade 3 2018-2019',\n",
    "            'Grade 4 2020-2021',\n",
    "            'Grade 4 2018-2019',\n",
    "            'Grade 5 2020-2021',\n",
    "            'Grade 5 2018-2019',\n",
    "            'Grade 6 2020-2021',\n",
    "            'Grade 6 2018-2019',\n",
    "            'Grade 7 2020-2021',\n",
    "            'Grade 7 2018-2019',\n",
    "            'Grade 8 2020-2021',\n",
    "            'Grade 8 2018-2019',\n",
    "            'Grade 9 2020-2021',\n",
    "            'Grade 9 2018-2019',\n",
    "            'Grade 10 2020-2021',\n",
    "            'Grade 10 2018-2019',\n",
    "            'Grade 11 2020-2021',\n",
    "            'Grade 11 2018-2019',\n",
    "            'Grade 12 2020-2021',\n",
    "            'Grade 12 2018-2019',\n",
    "            '2018-2019 ADA',\n",
    "            '2020-2021 ADA']\n",
    "\n",
    "cols_new = ['Teachers:Students 2020-2021',\n",
    "            'Teachers:Students 2018-2019',\n",
    "            'Staff:Students 2020-2021',\n",
    "            'Staff:Students 2018-2019',\n",
    "            '% Free Lunch 2020-2021',\n",
    "            '% Free Lunch 2018-2019',\n",
    "            '% Reduced-price Lunch 2020-2021',\n",
    "            '% Reduced-price Lunch 2018-2019',\n",
    "            '% Asian or Asian/Pacific Islander Students 2020-2021',\n",
    "            '% Asian or Asian/Pacific Islander Students 2018-2019',\n",
    "            '% Hispanic Students 2020-2021',\n",
    "            '% Hispanic Students 2018-2019',\n",
    "            '% Black or African American Students 2020-2021',\n",
    "            '% Black or African American Students 2018-2019',\n",
    "            '% White Students 2020-2021',\n",
    "            '% White Students 2018-2019',\n",
    "            '% Grades 1-8 2020-2021',\n",
    "            '% Grades 1-8 2018-2019',\n",
    "            '% Grades 9-12 2020-2021',\n",
    "            '% Grades 9-12 2018-2019',\n",
    "            '% Prek 2020-2021',\n",
    "            '% Prek 2018-2019',\n",
    "            '% K 2020-2021',\n",
    "            '% K 2018-2019',\n",
    "            '% Grade 1 2020-2021',\n",
    "            '% Grade 1 2018-2019',\n",
    "            '% Grade 2 2020-2021',\n",
    "            '% Grade 2 2018-2019',\n",
    "            '% Grade 3 2020-2021',\n",
    "            '% Grade 3 2018-2019',\n",
    "            '% Grade 4 2020-2021',\n",
    "            '% Grade 4 2018-2019',\n",
    "            '% Grade 5 2020-2021',\n",
    "            '% Grade 5 2018-2019',\n",
    "            '% Grade 6 2020-2021',\n",
    "            '% Grade 6 2018-2019',\n",
    "            '% Grade 7 2020-2021',\n",
    "            '% Grade 7 2018-2019',\n",
    "            '% Grade 8 2020-2021',\n",
    "            '% Grade 8 2018-2019',\n",
    "            '% Grade 9 2020-2021',\n",
    "            '% Grade 9 2018-2019',\n",
    "            '% Grade 10 2020-2021',\n",
    "            '% Grade 10 2018-2019',\n",
    "            '% Grade 11 2020-2021',\n",
    "            '% Grade 11 2018-2019',\n",
    "            '% Grade 12 2020-2021',\n",
    "            '% Grade 12 2018-2019',\n",
    "            '% ADA 2018-2019',\n",
    "            '% ADA 2020-2021']\n",
    "\n",
    "for old, new in zip(cols_old, cols_new):\n",
    "    if old[-4:] == '2019': \n",
    "        df[new] = df[old] / df['Total Students 2018-2019']\n",
    "        cols_norm.append(new)\n",
    "    else: \n",
    "        df[new] = df[old] / df['Total Students 2020-2021']\n",
    "        cols_norm.append(new)"
   ]
  },
  {
   "cell_type": "markdown",
   "id": "d0890bf7",
   "metadata": {},
   "source": [
    "- Percent of total students that took the STAAR Reading and Math tests per grade"
   ]
  },
  {
   "cell_type": "code",
   "execution_count": null,
   "id": "7fa47d8b",
   "metadata": {},
   "outputs": [],
   "source": [
    "cols_math = ['m_all_d_g3_2019',\n",
    "            'm_all_d_g4_2019',\n",
    "            'm_all_d_g5_2019',\n",
    "            'm_all_d_g6_2019',\n",
    "            'm_all_d_g7_2019',\n",
    "            'm_all_d_g8_2019',\n",
    "            'm_all_d_g3_2021',\n",
    "            'm_all_d_g4_2021',\n",
    "            'm_all_d_g5_2021',\n",
    "            'm_all_d_g6_2021',\n",
    "            'm_all_d_g7_2021',\n",
    "            'm_all_d_g8_2021']\n",
    "\n",
    "cols_reading = ['r_all_d_g3_2019',\n",
    "            'r_all_d_g4_2019',\n",
    "            'r_all_d_g5_2019',\n",
    "            'r_all_d_g6_2019',\n",
    "            'r_all_d_g7_2019',\n",
    "            'r_all_d_g8_2019',\n",
    "            'r_all_d_g3_2021',\n",
    "            'r_all_d_g4_2021',\n",
    "            'r_all_d_g5_2021',\n",
    "            'r_all_d_g6_2021',\n",
    "            'r_all_d_g7_2021',\n",
    "            'r_all_d_g8_2021']\n",
    "\n",
    "cols_grade = ['Grade 3 2018-2019',\n",
    "            'Grade 4 2018-2019',\n",
    "            'Grade 5 2018-2019',\n",
    "            'Grade 6 2018-2019',\n",
    "            'Grade 7 2018-2019',\n",
    "            'Grade 8 2018-2019',\n",
    "            'Grade 3 2020-2021',\n",
    "            'Grade 4 2020-2021',\n",
    "            'Grade 5 2020-2021',\n",
    "            'Grade 6 2020-2021',\n",
    "            'Grade 7 2020-2021',\n",
    "            'Grade 8 2020-2021']\n",
    "\n",
    "for math, reading, grade in zip(cols_math, cols_reading, cols_grade):\n",
    "    df['% Students Tested Math - ' + grade] = df[[math, grade]].apply(lambda x: np.nan if x[grade]==0\n",
    "                                                                      else x[math] / x[grade], axis=1)\n",
    "    df['% Students Tested Reading - ' + grade] = df[[reading, grade]].apply(lambda x: np.nan if x[grade]==0\n",
    "                                                                      else x[reading] / x[grade], axis=1)\n",
    "    cols_norm.append('% Students Tested Math - ' + grade)\n",
    "    cols_norm.append('% Students Tested Reading - ' + grade)"
   ]
  },
  {
   "cell_type": "markdown",
   "id": "a811c90e",
   "metadata": {},
   "source": [
    "- Average Math and Reading score as a ratio to the 100th percentile score in each grade"
   ]
  },
  {
   "cell_type": "code",
   "execution_count": null,
   "id": "50db21df",
   "metadata": {},
   "outputs": [],
   "source": [
    "cols_math =['m_all_rs',\n",
    "            'm_ethh_rs',\n",
    "            'm_etha_rs',\n",
    "            'm_ethb_rs',\n",
    "            'm_ethw_rs',\n",
    "            'm_ecoy_rs',\n",
    "            'm_eco1_rs',\n",
    "            'm_ti1y_rs',\n",
    "            'm_spey_rs']\n",
    "\n",
    "cols_reading = ['r_all_rs',\n",
    "                'r_ethh_rs',\n",
    "                'r_etha_rs',\n",
    "                'r_ethb_rs',\n",
    "                'r_ethw_rs',\n",
    "                'r_ecoy_rs',\n",
    "                'r_eco1_rs',\n",
    "                'r_ti1y_rs',\n",
    "                'r_spey_rs']\n",
    "\n",
    "cols_group = ['All',\n",
    "            'Hispanic',\n",
    "            'Asian',\n",
    "            'Black',\n",
    "            'White',\n",
    "            'Poverty',\n",
    "            'Free Lunch',\n",
    "            'T1',\n",
    "            'Special Ed']\n",
    "\n",
    "for year in ['2018-2019', '2020-2021']:\n",
    "    for grade in ['3', '4', '5', '6', '7', '8']:\n",
    "        max_math = df['m_all_rs_g' + grade + '_' + year[-4:]].quantile(1)\n",
    "        max_reading = df['r_all_rs_g' + grade + '_' + year[-4:]].quantile(1)     \n",
    "\n",
    "        for math, reading, group in zip(cols_math, cols_reading, cols_group):\n",
    "            math_old = math + '_g' + grade + '_' + year[-4:]\n",
    "            reading_old = reading + '_g' + grade + '_' + year[-4:]\n",
    "            math_new = 'Average Score Math ' + group + ' Grade ' + grade + ' ' + year\n",
    "            reading_new = 'Average Score Reading ' + group + ' Grade ' + grade + ' ' + year\n",
    "            df[math_new] = df[math_old].apply(lambda x: x/max_math)\n",
    "            df[reading_new] = df[reading_old].apply(lambda x: x/max_reading)\n",
    "            cols_norm.append(math_new)\n",
    "            cols_norm.append(reading_new)"
   ]
  },
  {
   "cell_type": "markdown",
   "id": "03eb2e0d",
   "metadata": {},
   "source": [
    "- Average daily attendance as a percent of Total Students per district"
   ]
  },
  {
   "cell_type": "code",
   "execution_count": null,
   "id": "20d6e307",
   "metadata": {},
   "outputs": [],
   "source": [
    "df['% ADA 2018-2019'] = df['2018-2019 ADA'] / df['Total Students 2018-2019']\n",
    "df['% ADA 2020-2021'] = df['2020-2021 ADA'] / df['Total Students 2020-2021']\n",
    "\n",
    "cols_norm.append('% ADA 2018-2019')\n",
    "cols_norm.append('% ADA 2020-2021')"
   ]
  },
  {
   "cell_type": "markdown",
   "id": "e5b303f0",
   "metadata": {},
   "source": [
    "- Confirmed Cases and Confirmed Deathes as a percent of County Population."
   ]
  },
  {
   "cell_type": "code",
   "execution_count": null,
   "id": "adac0ea9",
   "metadata": {},
   "outputs": [],
   "source": [
    "df['% County Infected 09/28/20'] = df.apply(lambda x: x['Confirmed Cases 09/28/20'] / x['County Population'], axis=1)\n",
    "df['% County Deaths 09/28/20'] = df.apply(lambda x: x['Confirmed Deaths 09/28/20'] / x['County Population'], axis=1)\n",
    "\n",
    "df['% County Infected 10/30/20'] = df.apply(lambda x: x['Confirmed Cases 10/30/20'] / x['County Population'], axis=1)\n",
    "df['% County Deaths 10/30/20'] = df.apply(lambda x: x['Confirmed Deaths 10/30/20'] / x['County Population'], axis=1)\n",
    "\n",
    "df['% County Infected 01/29/21'] = df.apply(lambda x: x['Confirmed Cases 01/29/21'] / x['County Population'], axis=1)\n",
    "df['% County Deaths 01/29/21'] = df.apply(lambda x: x['Confirmed Deaths 01/29/21'] / x['County Population'], axis=1)\n",
    "\n",
    "cols_norm.append('% County Infected 09/28/20')\n",
    "cols_norm.append('% County Deaths 09/28/20')\n",
    "cols_norm.append('% County Infected 10/30/20')\n",
    "cols_norm.append('% County Deaths 10/30/20')\n",
    "cols_norm.append('% County Infected 01/29/21')\n",
    "cols_norm.append('% County Deaths 01/29/21')"
   ]
  },
  {
   "cell_type": "markdown",
   "id": "620902a1",
   "metadata": {},
   "source": [
    "- Percent of the students on campus for each date 09/28/20, 10/30/20, and 01/29/21."
   ]
  },
  {
   "cell_type": "code",
   "execution_count": null,
   "id": "fcd293cd",
   "metadata": {},
   "outputs": [],
   "source": [
    "df['% On Campus 09/28/20'] = df.apply(lambda x: x['Approx. District On-Campus Enrollment 09/28/20'] / x['District Enrollment 09/28/20'], axis=1)\n",
    "df['% On Campus 10/30/20'] = df.apply(lambda x: x['Approx. District On-Campus Enrollment 10/30/20'] / x['District Enrollment 10/30/20'], axis=1)\n",
    "df['% On Campus 01/29/21'] = df.apply(lambda x: x['Approx. District On-Campus Enrollment 01/29/21'] / x['District Enrollment 01/29/21'], axis=1)\n",
    "\n",
    "cols_norm.append('% On Campus 09/28/20')\n",
    "cols_norm.append('% On Campus 10/30/20')\n",
    "cols_norm.append('% On Campus 01/29/21')"
   ]
  },
  {
   "cell_type": "markdown",
   "id": "18926596",
   "metadata": {},
   "source": [
    "- Race/Ethnicity and Age groups as a percent of County Population in 2010 (`Population 2010`)"
   ]
  },
  {
   "cell_type": "code",
   "execution_count": null,
   "id": "f0f797b8",
   "metadata": {},
   "outputs": [],
   "source": [
    "cols_pop = ['White Pop 10',\n",
    "            'Black Pop 10',\n",
    "            'Asian Pop 10',\n",
    "            'Hispanic Pop 10',\n",
    "            'Male Pop 10',\n",
    "            'Female Pop 10',\n",
    "            'Age 0-4 Pop 10',\n",
    "            'Age 5-9 Pop 10',\n",
    "            'Age 10-14 Pop 10',\n",
    "            'Age 15-19 Pop 10',\n",
    "            'Age 20-24 Pop 10',\n",
    "            'Age 25-34 Pop 10',\n",
    "            'Age 35-44 Pop 10',\n",
    "            'Age 45-54 Pop 10',\n",
    "            'Age 55-64 Pop 10',\n",
    "            'Age 65-74 Pop 10',\n",
    "            'Age 75-84 Pop 10',\n",
    "            'Age 85-Up Pop 10']\n",
    "\n",
    "for c in cols_pop:\n",
    "    df['% '+c] = df.apply(lambda x: x[c] / x['Population 10'], axis=1)\n",
    "    cols_norm.append('% '+c)"
   ]
  },
  {
   "cell_type": "markdown",
   "id": "3c6a7dde",
   "metadata": {},
   "source": [
    "- Number of different types of Households as a percent of Total Number of Households in 2010 (`# of Households 10`)"
   ]
  },
  {
   "cell_type": "code",
   "execution_count": null,
   "id": "5fc915b6",
   "metadata": {},
   "outputs": [],
   "source": [
    "cols_hh = ['HH 1 Male 10',\n",
    "            'HH 1 Female 10',\n",
    "            'HH Married-Child 10',\n",
    "            'HH Married-noChild 10',\n",
    "            'HH Male-Child 10',\n",
    "            'HH Female-Child 10']\n",
    "\n",
    "for c in cols_hh:\n",
    "    df['% '+c] = df.apply(lambda x: x[c] / x['# of Households 10'], axis=1)\n",
    "    cols_norm.append('% '+c)"
   ]
  },
  {
   "cell_type": "markdown",
   "id": "6e893591",
   "metadata": {},
   "source": [
    "- Number of different types of Housing Units as a percent of Total Number of Housing Units in 2010 (`# of Housing Units 10`)"
   ]
  },
  {
   "cell_type": "code",
   "execution_count": null,
   "id": "540d3edb",
   "metadata": {},
   "outputs": [],
   "source": [
    "cols_house = ['Housing Vacant 10',\n",
    "            'Housing Owner Occup 10',\n",
    "            'Housing Renter Occup 10']\n",
    "\n",
    "for c in cols_house:\n",
    "    df['% '+c] = df.apply(lambda x: x[c] / x['# of Housing Units 10'], axis=1)\n",
    "    cols_norm.append('% '+c)"
   ]
  },
  {
   "cell_type": "markdown",
   "id": "b50be29a",
   "metadata": {},
   "source": [
    "## Calculating Delta: \n",
    "Getting differences for the important variables having both values for 2018-2019 and 2020-2021"
   ]
  },
  {
   "cell_type": "code",
   "execution_count": null,
   "id": "b8f3299a",
   "metadata": {},
   "outputs": [],
   "source": [
    "cols_diff = ['Total Public Schools',\n",
    "            'Total Students',\n",
    "            '% Total Operational Public Schools',\n",
    "            '% School-wide Title I',\n",
    "            '% Title I Eligible School',\n",
    "            'Teachers:Students',\n",
    "            'Staff:Students',\n",
    "            '% Free Lunch',\n",
    "            '% Reduced-price Lunch',\n",
    "            '% Asian or Asian/Pacific Islander Students',\n",
    "            '% Hispanic Students',\n",
    "            '% Black or African American Students',\n",
    "            '% White Students',\n",
    "            '% Grades 1-8',\n",
    "            '% Grades 9-12',\n",
    "            '% Prek',\n",
    "            '% K',\n",
    "            '% ADA',\n",
    "            '% Students Tested Math - Grade 3',\n",
    "            '% Students Tested Reading - Grade 3',\n",
    "            '% Students Tested Math - Grade 4',\n",
    "            '% Students Tested Reading - Grade 4',\n",
    "            '% Students Tested Math - Grade 5',\n",
    "            '% Students Tested Reading - Grade 5',\n",
    "            '% Students Tested Math - Grade 6',\n",
    "            '% Students Tested Reading - Grade 6',\n",
    "            '% Students Tested Math - Grade 7',\n",
    "            '% Students Tested Reading - Grade 7',\n",
    "            '% Students Tested Math - Grade 8',\n",
    "            '% Students Tested Reading - Grade 8',\n",
    "            '% Grade 1',\n",
    "            '% Grade 2',\n",
    "            '% Grade 3',\n",
    "            '% Grade 4',\n",
    "            '% Grade 5',\n",
    "            '% Grade 6',\n",
    "            '% Grade 7',\n",
    "            '% Grade 8',\n",
    "            '% Grade 9',\n",
    "            '% Grade 10',\n",
    "            '% Grade 11',\n",
    "            '% Grade 12']\n",
    "cols_delta =[]"
   ]
  },
  {
   "cell_type": "code",
   "execution_count": null,
   "id": "f279ef16",
   "metadata": {},
   "outputs": [],
   "source": [
    "for var in cols_diff:\n",
    "    df[var + ' Diff'] = df.apply(lambda x: 0 if x[[var + ' 2018-2019', var + ' 2020-2021']].sum() == 0\n",
    "                                 else np.nan if x[var + ' 2018-2019'] == 0 \n",
    "                                 else np.nan if x[[var + ' 2018-2019', var + ' 2020-2021']].isna().any()\n",
    "                                 else (x[var + ' 2020-2021'] - x[var + ' 2018-2019']) / x[var + ' 2018-2019'], axis=1)\n",
    "    cols_delta.append(var + ' Diff')"
   ]
  },
  {
   "cell_type": "markdown",
   "id": "469b2a60",
   "metadata": {},
   "source": [
    "## Labeling ##   \n",
    "Creating 3 classes for Learning Loss  \n",
    "- Step 1: Learning Loss is calculated by averaging Average Score of all grades for Math and Reading separately and substracting the 2021 average from 2019 average."
   ]
  },
  {
   "cell_type": "code",
   "execution_count": null,
   "id": "26ac4aec",
   "metadata": {},
   "outputs": [],
   "source": [
    "cols_math_2019 = ['Average Score Math All Grade 3 2018-2019',\n",
    "                'Average Score Math All Grade 4 2018-2019',\n",
    "                'Average Score Math All Grade 5 2018-2019',\n",
    "                'Average Score Math All Grade 6 2018-2019',\n",
    "                'Average Score Math All Grade 7 2018-2019',\n",
    "                'Average Score Math All Grade 8 2018-2019']\n",
    "\n",
    "cols_reading_2019 = ['Average Score Reading All Grade 3 2018-2019',\n",
    "                'Average Score Reading All Grade 4 2018-2019',\n",
    "                'Average Score Reading All Grade 5 2018-2019',\n",
    "                'Average Score Reading All Grade 6 2018-2019',\n",
    "                'Average Score Reading All Grade 7 2018-2019',\n",
    "                'Average Score Reading All Grade 8 2018-2019']\n",
    "\n",
    "cols_math_2021 = ['Average Score Math All Grade 3 2020-2021',\n",
    "                'Average Score Math All Grade 4 2020-2021',\n",
    "                'Average Score Math All Grade 5 2020-2021',\n",
    "                'Average Score Math All Grade 6 2020-2021',\n",
    "                'Average Score Math All Grade 7 2020-2021',\n",
    "                'Average Score Math All Grade 8 2020-2021']\n",
    "\n",
    "cols_reading_2021 = ['Average Score Reading All Grade 3 2020-2021',\n",
    "                'Average Score Reading All Grade 4 2020-2021',\n",
    "                'Average Score Reading All Grade 5 2020-2021',\n",
    "                'Average Score Reading All Grade 6 2020-2021',\n",
    "                'Average Score Reading All Grade 7 2020-2021',\n",
    "                'Average Score Reading All Grade 8 2020-2021']\n",
    "\n",
    "df['AVG_Math_2019'] = df[cols_math_2019].apply(lambda x: x.sum() / len(cols_math_2019), axis=1)\n",
    "df['AVG_Reading_2019'] = df[cols_reading_2019].apply(lambda x: x.sum() / len(cols_reading_2019), axis=1)\n",
    "df['AVG_Math_2021'] = df[cols_math_2021].apply(lambda x: x.sum() / len(cols_math_2021), axis=1)\n",
    "df['AVG_Reading_2021'] = df[cols_reading_2021].apply(lambda x: x.sum() / len(cols_reading_2021), axis=1)"
   ]
  },
  {
   "cell_type": "markdown",
   "id": "04e90229",
   "metadata": {},
   "source": [
    "Get Percent Loss Different from 2019 to 2021 for the perspective of 2019. % LOSS = (AVG 2021 - AVG 2019)/AVG 2019\n",
    "\n",
    "if '% Loss' Difference > 0, 2021 Learning is better than 2019, that is there is Learning Gain   \n",
    "if '% Loss' Difference < 0, 2021 Learning is worse than 2019, that is there is Learning Loss"
   ]
  },
  {
   "cell_type": "code",
   "execution_count": null,
   "id": "c0d95ebe",
   "metadata": {},
   "outputs": [],
   "source": [
    "df['% LOSS Math'] = (df['AVG_Math_2021'] - df['AVG_Math_2019']) / df['AVG_Math_2019']\n",
    "df['% LOSS Reading'] = (df['AVG_Reading_2021'] - df['AVG_Reading_2019']) / df['AVG_Reading_2019']\n",
    "df['% LOSS All'] = df[['% LOSS Math', '% LOSS Reading']].apply(lambda x: x.mean(), axis=1)"
   ]
  },
  {
   "cell_type": "code",
   "execution_count": null,
   "id": "42333a7b",
   "metadata": {},
   "outputs": [],
   "source": [
    "sns.set(rc={'figure.figsize':(8,5)})\n",
    "sns.set(font_scale=1.2)\n",
    "\n",
    "g = sns.histplot(data=df, x='% LOSS Math', shrink=0.8, color='#8de4a1', label='Math', element=\"step\", stat=\"count\")\n",
    "g = sns.histplot(data=df, x='% LOSS Reading', shrink=0.8, color='#ed7953', label='Reading', element=\"step\", stat=\"count\")\n",
    "g.set(xlabel='% Loss', ylabel='Number of Districts', title='% Loss - Subject')\n",
    "g.set_xlim(-.75, .75)\n",
    "plt.legend(loc='upper right', fontsize=20)\n",
    "plt.show()"
   ]
  },
  {
   "cell_type": "code",
   "execution_count": null,
   "id": "77c06bb1",
   "metadata": {
    "scrolled": true
   },
   "outputs": [],
   "source": [
    "cols = ['% LOSS Math', '% LOSS Reading', '% LOSS All']\n",
    "df[cols].describe()"
   ]
  },
  {
   "cell_type": "markdown",
   "id": "2a2e4432",
   "metadata": {},
   "source": [
    "- Step 2: Decide threshold for labelings using `% LOSS Math` and `% LOSS Reading` separately.\n",
    "    - 0 ***(Expected)***:  25th percentile <= x <= 75th percentile\n",
    "    - 1 ***(Gain)***: 75th percentile < x\n",
    "    - -1 ***(Loss)***:  x < 25th percentile"
   ]
  },
  {
   "cell_type": "code",
   "execution_count": null,
   "id": "e76fd138",
   "metadata": {},
   "outputs": [],
   "source": [
    "mean_math = df['% LOSS Math'].mean()\n",
    "std_math = df['% LOSS Math'].std()\n",
    "q_25_math = df['% LOSS Math'].quantile(0.25)\n",
    "q_75_math = df['% LOSS Math'].quantile(0.75)\n",
    "\n",
    "mean_reading = df['% LOSS Reading'].mean()\n",
    "std_reading = df['% LOSS Reading'].std()\n",
    "q_25_reading = df['% LOSS Reading'].quantile(0.25)\n",
    "q_75_reading = df['% LOSS Reading'].quantile(0.75)\n",
    "\n",
    "mean_all = df['% LOSS All'].mean()\n",
    "std_all = df['% LOSS All'].std()\n",
    "q_25_all = df['% LOSS All'].quantile(0.25)\n",
    "q_75_all = df['% LOSS All'].quantile(0.75)\n",
    "\n",
    "sig = 1\n",
    "sig_pos_math = mean_math + (sig * std_math)\n",
    "sig_neg_math = mean_math - (sig * std_math)\n",
    "sig_pos_reading = mean_reading + (sig * std_reading)\n",
    "sig_neg_reading = mean_reading - (sig * std_reading)\n",
    "sig_pos_all = mean_all + (sig * std_all)\n",
    "sig_neg_all = mean_all - (sig * std_all)\n",
    "\n",
    "df['Label_Math'] = df['% LOSS Math'].apply(lambda x: 0 if ((x >= q_25_math) & (x <= q_75_math))\n",
    "                                   else 1 if (x > q_75_math)\n",
    "                                   else -1 if (x < q_25_math)\n",
    "                                   else -100)   \n",
    "\n",
    "df['Label_Reading'] = df['% LOSS Reading'].apply(lambda x: 0 if ((x >= q_25_reading) & (x <= q_75_reading))\n",
    "                                   else 1 if (x > q_75_reading)\n",
    "                                   else -1 if (x < q_25_reading)\n",
    "                                   else -100)    \n",
    "\n",
    "df['Label_All'] = df['% LOSS All'].apply(lambda x: 0 if ((x >= q_25_all) & (x <= q_75_all))\n",
    "                                   else 1 if (x > q_75_all)\n",
    "                                   else -1 if (x < q_25_all)\n",
    "                                   else -100)      "
   ]
  },
  {
   "cell_type": "code",
   "execution_count": null,
   "id": "0c6186d6",
   "metadata": {
    "scrolled": true
   },
   "outputs": [],
   "source": [
    "df_math = df['Label_Math'].value_counts().sort_index().to_frame()\n",
    "df_math.reset_index(inplace=True)\n",
    "df_math['label'] = df_math['index'].apply(lambda x: '-1: Loss' if x == -1\n",
    "                                         else '0: Expected' if x == 0\n",
    "                                         else '1: Gain' if x == 1\n",
    "                                         else '-100')\n",
    "\n",
    "df_reading = df['Label_Reading'].value_counts().sort_index().to_frame()\n",
    "df_reading.reset_index(inplace=True)\n",
    "df_reading['label'] = df_reading['index'].apply(lambda x: '-1: Loss' if x == -1\n",
    "                                         else '0: Expected' if x == 0\n",
    "                                         else '1: Gain' if x == 1\n",
    "                                         else '-100')\n",
    "\n",
    "df_all = df['Label_All'].value_counts().sort_index().to_frame()\n",
    "df_all.reset_index(inplace=True)\n",
    "df_all['label'] = df_all['index'].apply(lambda x: '-1: Loss' if x == -1\n",
    "                                         else '0: Expected' if x == 0\n",
    "                                         else '1: Gain' if x == 1\n",
    "                                         else '-100')\n",
    "\n",
    "fig, axes=plt.subplots(1,3, figsize=(20,10))\n",
    "sns.set(font_scale=1.5)\n",
    "\n",
    "colors=sns.color_palette('deep')[:df_all.shape[0]]\n",
    "axes[0].pie(df_all['Label_All'], labels=df_all['label'], colors=colors, autopct='%1.1f%%', radius=.8)\n",
    "axes[0].set(title='All')\n",
    "\n",
    "colors=sns.color_palette('pastel')[:df_math.shape[0]]\n",
    "axes[1].pie(df_math['Label_Math'], labels=df_math['label'], colors=colors, radius=.8,\n",
    "            autopct=lambda p: '{:.0f}'.format(p*df_all['Label_All'].sum()/100))\n",
    "axes[1].set(title='Math')\n",
    "\n",
    "colors=sns.color_palette('pastel')[:df_reading.shape[0]]\n",
    "axes[2].pie(df_reading['Label_Reading'], labels=df_reading['label'], colors=colors, radius=.8,\n",
    "            autopct=lambda p: '{:.0f}'.format(p*df_all['Label_All'].sum()/100))\n",
    "axes[2].set(title='Reading')\n",
    "\n",
    "plt.show()"
   ]
  },
  {
   "cell_type": "markdown",
   "id": "d0807525",
   "metadata": {},
   "source": [
    "## Data Cleaning for ML Modeling ##  \n",
    "Dropping instances with missing values or redundant columns that are normalized."
   ]
  },
  {
   "cell_type": "code",
   "execution_count": null,
   "id": "3881af95",
   "metadata": {
    "scrolled": false
   },
   "outputs": [],
   "source": [
    "cols_keep = ['District #', 'County #', 'Locale',\n",
    "'Labor Force Diff',\n",
    "'Employed Diff',\n",
    "'Unemployed Level Diff',\n",
    "'Unemployed Rate Diff',\n",
    "'Median Age 10',\n",
    "'Median Age Male 10',\n",
    "'Median Age Female 10',\n",
    "'# of Households 10',\n",
    "'Avg Household Size 10',\n",
    "'# of Families 10',\n",
    "'Avg Family Size 10',\n",
    "'# of Housing Units 10',\n",
    "'County Population',\n",
    "'CARES ESSER I 20',\n",
    "'CRRSA ESSER II 21',\n",
    "'ARP ESSER III 21',\n",
    "'ESSER-SUPP 22',\n",
    "'ESSER-SUPP 23',\n",
    "'% County Infected 09/28/20',\n",
    "'% County Deaths 09/28/20',\n",
    "'% County Infected 10/30/20',\n",
    "'% County Deaths 10/30/20',\n",
    "'% County Infected 01/29/21',\n",
    "'% County Deaths 01/29/21',\n",
    "'% On Campus 09/28/20',\n",
    "'% On Campus 10/30/20',\n",
    "'% On Campus 01/29/21',\n",
    "'% White Pop 10',\n",
    "'% Black Pop 10',\n",
    "'% Asian Pop 10',\n",
    "'% Hispanic Pop 10',\n",
    "'% Male Pop 10',\n",
    "'% Female Pop 10',\n",
    "'% Age 0-4 Pop 10',\n",
    "'% Age 5-9 Pop 10',\n",
    "'% Age 10-14 Pop 10',\n",
    "'% Age 15-19 Pop 10',\n",
    "'% Age 20-24 Pop 10',\n",
    "'% Age 25-34 Pop 10',\n",
    "'% Age 35-44 Pop 10',\n",
    "'% Age 45-54 Pop 10',\n",
    "'% Age 55-64 Pop 10',\n",
    "'% Age 65-74 Pop 10',\n",
    "'% Age 75-84 Pop 10',\n",
    "'% Age 85-Up Pop 10',\n",
    "'% HH 1 Male 10',\n",
    "'% HH 1 Female 10',\n",
    "'% HH Married-Child 10',\n",
    "'% HH Married-noChild 10',\n",
    "'% HH Male-Child 10',\n",
    "'% HH Female-Child 10',\n",
    "'% Housing Vacant 10',\n",
    "'% Housing Owner Occup 10',\n",
    "'% Housing Renter Occup 10',\n",
    "'Total Public Schools Diff',\n",
    "'Total Students Diff',\n",
    "'% Total Operational Public Schools Diff',\n",
    "'% School-wide Title I Diff',\n",
    "'% Title I Eligible School Diff',\n",
    "'Teachers:Students Diff',\n",
    "'Staff:Students Diff',\n",
    "'% Free Lunch Diff',\n",
    "'% Reduced-price Lunch Diff',\n",
    "'% Asian or Asian/Pacific Islander Students Diff',\n",
    "'% Hispanic Students Diff',\n",
    "'% Black or African American Students Diff',\n",
    "'% White Students Diff',\n",
    "'% Grades 1-8 Diff',\n",
    "'% Grades 9-12 Diff',\n",
    "'% Prek Diff',\n",
    "'% K Diff',\n",
    "'% ADA Diff',\n",
    "'% Students Tested Math - Grade 3 Diff',\n",
    "'% Students Tested Reading - Grade 3 Diff',\n",
    "'% Students Tested Math - Grade 4 Diff',\n",
    "'% Students Tested Reading - Grade 4 Diff',\n",
    "'% Students Tested Math - Grade 5 Diff',\n",
    "'% Students Tested Reading - Grade 5 Diff',\n",
    "'% Students Tested Math - Grade 6 Diff',\n",
    "'% Students Tested Reading - Grade 6 Diff',\n",
    "'% Students Tested Math - Grade 7 Diff',\n",
    "'% Students Tested Reading - Grade 7 Diff',\n",
    "'% Students Tested Math - Grade 8 Diff',\n",
    "'% Students Tested Reading - Grade 8 Diff',\n",
    "'Label_Math',\n",
    "'Label_Reading',\n",
    "'Label_All']\n",
    "\n",
    "cols_new = ['District #', 'County #', 'Locale',\n",
    "'Labor Force Diff',\n",
    "'Employed Diff',\n",
    "'Unemployed Level Diff',\n",
    "'Unemployed Rate Diff',\n",
    "'Median Age 10',\n",
    "'Median Age Male 10',\n",
    "'Median Age Female 10',\n",
    "'# of Households 10',\n",
    "'Avg Household Size 10',\n",
    "'# of Families 10',\n",
    "'Avg Family Size 10',\n",
    "'# of Housing Units 10',\n",
    "'County Population',\n",
    "'CARES ESSER I 20',\n",
    "'CRRSA ESSER II 21',\n",
    "'ARP ESSER III 21',\n",
    "'ESSER-SUPP 22',\n",
    "'ESSER-SUPP 23',\n",
    "'% County Infected 09/28/20',\n",
    "'% County Deaths 09/28/20',\n",
    "'% County Infected 10/30/20',\n",
    "'% County Deaths 10/30/20',\n",
    "'% County Infected 01/29/21',\n",
    "'% County Deaths 01/29/21',\n",
    "'% On Campus 09/28/20',\n",
    "'% On Campus 10/30/20',\n",
    "'% On Campus 01/29/21',\n",
    "'% White Pop 10',\n",
    "'% Black Pop 10',\n",
    "'% Asian Pop 10',\n",
    "'% Hispanic Pop 10',\n",
    "'% Male Pop 10',\n",
    "'% Female Pop 10',\n",
    "'% Age 0-4 Pop 10',\n",
    "'% Age 5-9 Pop 10',\n",
    "'% Age 10-14 Pop 10',\n",
    "'% Age 15-19 Pop 10',\n",
    "'% Age 20-24 Pop 10',\n",
    "'% Age 25-34 Pop 10',\n",
    "'% Age 35-44 Pop 10',\n",
    "'% Age 45-54 Pop 10',\n",
    "'% Age 55-64 Pop 10',\n",
    "'% Age 65-74 Pop 10',\n",
    "'% Age 75-84 Pop 10',\n",
    "'% Age 85-Up Pop 10',\n",
    "'% HH 1 Male 10',\n",
    "'% HH 1 Female 10',\n",
    "'% HH Married-Child 10',\n",
    "'% HH Married-noChild 10',\n",
    "'% HH Male-Child 10',\n",
    "'% HH Female-Child 10',\n",
    "'% Housing Vacant 10',\n",
    "'% Housing Owner Occup 10',\n",
    "'% Housing Renter Occup 10',\n",
    "'Total Schools Diff',\n",
    "'Total Students Diff',\n",
    "'% Operational Schools Diff',\n",
    "'% Title 1 School-wide Diff',\n",
    "'% Title 1 Eligible Diff',\n",
    "'Teachers:Students Diff',\n",
    "'Staff:Students Diff',\n",
    "'% Free Lunch Diff',\n",
    "'% Reduced-price Lunch Diff',\n",
    "'% Asian Diff',\n",
    "'% Hispanic Diff',\n",
    "'% Black Diff',\n",
    "'% White Diff',\n",
    "'% Grades 1-8 Diff',\n",
    "'% Grades 9-12 Diff',\n",
    "'% Prek Diff',\n",
    "'% Kinder Diff',\n",
    "'% ADA Diff',\n",
    "'% Tested Math G3 Diff',\n",
    "'% Tested Reading G3 Diff',\n",
    "'% Tested Math G4 Diff',\n",
    "'% Tested Reading G4 Diff',\n",
    "'% Tested Math G5 Diff',\n",
    "'% Tested Reading G5 Diff',\n",
    "'% Tested Math G6 Diff',\n",
    "'% Tested Reading G6 Diff',\n",
    "'% Tested Math G7 Diff',\n",
    "'% Tested Reading G7 Diff',\n",
    "'% Tested Math G8 Diff',\n",
    "'% Tested Reading G8 Diff',\n",
    "'Label_Math',\n",
    "'Label_Reading',\n",
    "'Label_All']\n",
    "\n",
    "print(len(cols_keep), len(cols_new))"
   ]
  },
  {
   "cell_type": "code",
   "execution_count": null,
   "id": "ebdbf131",
   "metadata": {},
   "outputs": [],
   "source": [
    "print('Shape:', df.shape)\n",
    "temp=[c + ': ' + str(df[c].isna().sum()) for c in df[cols_keep] if df[c].isna().any()]\n",
    "print(\"na rows:\", len(temp))\n",
    "temp"
   ]
  },
  {
   "cell_type": "markdown",
   "id": "bb689320",
   "metadata": {},
   "source": [
    "### Handing columns with erroneous values ###   \n",
    "- Fixing any instance that `% 2018-2019 ADA`, `% 2020-2021 ADA` are larger than 1 meaning the Daily Average Attendance `2018-2019 ADA`, `2020-2021 ADA` from ADA are larger than the Total Students `Total Students 2018-2019`, `Total Students 2020-2021` from NCES."
   ]
  },
  {
   "cell_type": "code",
   "execution_count": null,
   "id": "aab69ab9",
   "metadata": {},
   "outputs": [],
   "source": [
    "print(\"{} rows are updated to 1 from '% ADA 2018-2019'\".format(df[df['% ADA 2018-2019'] > 1].shape[0]))\n",
    "df['% ADA 2018-2019'] = df['% ADA 2018-2019'].apply(lambda x: 1 if x>1 else x)\n",
    "print(\"{} rows are updated to 1 from '% ADA 2020-2021'\".format(df[df['% ADA 2020-2021'] > 1].shape[0]))\n",
    "df['% ADA 2020-2021'] = df['% ADA 2020-2021'].apply(lambda x: 1 if x>1 else x)"
   ]
  },
  {
   "cell_type": "markdown",
   "id": "17b9f1f3",
   "metadata": {},
   "source": [
    "### Exporting the integrated dataframe into 3 csv files:\n",
    "\n",
    "- DATA_Texas_District_v1.csv: raw integrated data without missing value handling for EDA\n",
    "- DATA_Texas_District_v2.csv: dropping all missing values with normalization and delta values for Feature Selection and Baseline modeling"
   ]
  },
  {
   "cell_type": "code",
   "execution_count": null,
   "id": "38084454",
   "metadata": {},
   "outputs": [],
   "source": [
    "print('v1{}'.format(df.shape))\n",
    "df.rename(columns=dict(zip(cols_keep, cols_new)), inplace=True)\n",
    "df.to_csv('DATA_Texas_District_v1.csv', index=False)"
   ]
  },
  {
   "cell_type": "code",
   "execution_count": null,
   "id": "71acdcf6",
   "metadata": {},
   "outputs": [],
   "source": [
    "print('v2{}'.format(df[cols_new].dropna().shape))\n",
    "df[cols_new].dropna().rename(columns=dict(zip(cols_keep, cols_new))).to_csv('DATA_Texas_District_v2.csv', index=False)"
   ]
  }
 ],
 "metadata": {
  "kernelspec": {
   "display_name": "Python 3 (ipykernel)",
   "language": "python",
   "name": "python3"
  },
  "language_info": {
   "codemirror_mode": {
    "name": "ipython",
    "version": 3
   },
   "file_extension": ".py",
   "mimetype": "text/x-python",
   "name": "python",
   "nbconvert_exporter": "python",
   "pygments_lexer": "ipython3",
   "version": "3.10.4"
  },
  "vscode": {
   "interpreter": {
    "hash": "b530cbb57870e8c17e0b147b89ef717ce29e19d06452b992ddf605f8bc0a986d"
   }
  }
 },
 "nbformat": 4,
 "nbformat_minor": 5
}
