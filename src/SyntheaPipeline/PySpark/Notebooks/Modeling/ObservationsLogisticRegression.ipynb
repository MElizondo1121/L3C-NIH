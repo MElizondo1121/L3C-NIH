{
 "cells": [
  {
   "cell_type": "markdown",
   "id": "e0347376",
   "metadata": {},
   "source": [
    "## Logisitic Regression Model"
   ]
  },
  {
   "cell_type": "code",
   "execution_count": 1,
   "id": "bc967fa9",
   "metadata": {
    "scrolled": true
   },
   "outputs": [],
   "source": [
    "import findspark\n",
    "findspark.init()\n",
    "findspark.find()\n",
    "\n",
    "from pyspark.sql import SparkSession\n",
    "spark = SparkSession.builder.appName('LR').getOrCreate()\n",
    "\n",
    "from pyspark.ml.classification import RandomForestClassifier\n",
    "from pyspark.ml.feature import VectorSlicer, VectorAssembler, ChiSqSelector, VectorIndexer, UnivariateFeatureSelector, VarianceThresholdSelector\n",
    "from pyspark.sql.functions import *\n",
    "import numpy as np\n",
    "from pyspark.sql.types import IntegerType\n",
    "from pyspark.ml.classification import LogisticRegression\n",
    "from pyspark.mllib.evaluation import RegressionMetrics\n"
   ]
  },
  {
   "cell_type": "code",
   "execution_count": 2,
   "id": "f59e8bff",
   "metadata": {},
   "outputs": [],
   "source": [
    "df = spark.read.option(\"header\",True).csv('../../synthea-sample-data/data/10k_synthea_covid19_csv/observations.csv').select('PATIENT','Code', 'Description')\n",
    "deathDf = spark.read.option(\"header\",True).csv('../../synthea-sample-data/data/10k_synthea_covid19_csv/patients.csv').select('Id', 'DEATHDATE')\n",
    "deadSet = df.join(deathDf, (df.PATIENT == deathDf.Id)).na.drop().drop('Id', 'Code')\n",
    "labels = spark.read.option(\"header\",True).csv('../FeatureSelection/dfCovid_DeceasedCovid.csv').select('PATIENT', 'covid-19', 'deceased & covid-19')\n",
    "\n",
    "merged = df.join(deathDf, (df.PATIENT == deathDf.Id), 'left').drop( 'Id')\n",
    "\n",
    "merged = merged.withColumn('deceased', when(col('DEATHDATE').isNotNull(), 1)).na.fill(0)\n",
    "merged = merged.join(labels, ('PATIENT'), 'left').dropDuplicates()"
   ]
  },
  {
   "cell_type": "code",
   "execution_count": 3,
   "id": "9c2b2575",
   "metadata": {},
   "outputs": [
    {
     "name": "stdout",
     "output_type": "stream",
     "text": [
      "root\n",
      " |-- PATIENT: string (nullable = true)\n",
      " |-- Code: string (nullable = true)\n",
      " |-- 10230-1: long (nullable = true)\n",
      " |-- 10480-2: long (nullable = true)\n",
      " |-- 10834-0: long (nullable = true)\n",
      " |-- 14804-9: long (nullable = true)\n",
      " |-- 14959-1: long (nullable = true)\n",
      " |-- 1742-6: long (nullable = true)\n",
      " |-- 1751-7: long (nullable = true)\n",
      " |-- 17861-6: long (nullable = true)\n",
      " |-- 18262-6: long (nullable = true)\n",
      " |-- 1920-8: long (nullable = true)\n",
      " |-- 1960-4: long (nullable = true)\n",
      " |-- 1975-2: long (nullable = true)\n",
      " |-- 1988-5: long (nullable = true)\n",
      " |-- 19926-5: long (nullable = true)\n",
      " |-- 19994-3: long (nullable = true)\n",
      " |-- 2019-8: long (nullable = true)\n",
      " |-- 2028-9: long (nullable = true)\n",
      " |-- 20454-5: long (nullable = true)\n",
      " |-- 20505-4: long (nullable = true)\n",
      " |-- 20565-8: long (nullable = true)\n",
      " |-- 20570-8: long (nullable = true)\n",
      " |-- 2069-3: long (nullable = true)\n",
      " |-- 2075-0: long (nullable = true)\n",
      " |-- 2085-9: long (nullable = true)\n",
      " |-- 2093-3: long (nullable = true)\n",
      " |-- 21000-5: long (nullable = true)\n",
      " |-- 2157-6: long (nullable = true)\n",
      " |-- 2160-0: long (nullable = true)\n",
      " |-- 21905-5: long (nullable = true)\n",
      " |-- 21906-3: long (nullable = true)\n",
      " |-- 21907-1: long (nullable = true)\n",
      " |-- 21908-9: long (nullable = true)\n",
      " |-- 21924-6: long (nullable = true)\n",
      " |-- 2276-4: long (nullable = true)\n",
      " |-- 2339-0: long (nullable = true)\n",
      " |-- 2345-7: long (nullable = true)\n",
      " |-- 2514-8: long (nullable = true)\n",
      " |-- 25428-4: long (nullable = true)\n",
      " |-- 2571-8: long (nullable = true)\n",
      " |-- 26453-1: long (nullable = true)\n",
      " |-- 26464-8: long (nullable = true)\n",
      " |-- 26515-7: long (nullable = true)\n",
      " |-- 26881-3: long (nullable = true)\n",
      " |-- 2703-7: long (nullable = true)\n",
      " |-- 2708-6: long (nullable = true)\n",
      " |-- 2744-1: long (nullable = true)\n",
      " |-- 2823-3: long (nullable = true)\n",
      " |-- 28245-9: long (nullable = true)\n",
      " |-- 2857-1: long (nullable = true)\n",
      " |-- 2885-2: long (nullable = true)\n",
      " |-- 29463-7: long (nullable = true)\n",
      " |-- 2947-0: long (nullable = true)\n",
      " |-- 2951-2: long (nullable = true)\n",
      " |-- 3016-3: long (nullable = true)\n",
      " |-- 3024-7: long (nullable = true)\n",
      " |-- 30385-9: long (nullable = true)\n",
      " |-- 30428-7: long (nullable = true)\n",
      " |-- 3094-0: long (nullable = true)\n",
      " |-- 32167-9: long (nullable = true)\n",
      " |-- 32207-3: long (nullable = true)\n",
      " |-- 32465-7: long (nullable = true)\n",
      " |-- 32623-1: long (nullable = true)\n",
      " |-- 33037-3: long (nullable = true)\n",
      " |-- 33728-7: long (nullable = true)\n",
      " |-- 33756-8: long (nullable = true)\n",
      " |-- 33762-6: long (nullable = true)\n",
      " |-- 33914-3: long (nullable = true)\n",
      " |-- 33959-8: long (nullable = true)\n",
      " |-- 38265-5: long (nullable = true)\n",
      " |-- 38483-4: long (nullable = true)\n",
      " |-- 39156-5: long (nullable = true)\n",
      " |-- 417181009: long (nullable = true)\n",
      " |-- 42719-5: long (nullable = true)\n",
      " |-- 44667-4: long (nullable = true)\n",
      " |-- 4544-3: long (nullable = true)\n",
      " |-- 4548-4: long (nullable = true)\n",
      " |-- 46240-8: long (nullable = true)\n",
      " |-- 46288-7: long (nullable = true)\n",
      " |-- 48065-7: long (nullable = true)\n",
      " |-- 49765-1: long (nullable = true)\n",
      " |-- 55277-8: long (nullable = true)\n",
      " |-- 5767-9: long (nullable = true)\n",
      " |-- 5770-3: long (nullable = true)\n",
      " |-- 5778-6: long (nullable = true)\n",
      " |-- 57905-2: long (nullable = true)\n",
      " |-- 5792-7: long (nullable = true)\n",
      " |-- 5794-3: long (nullable = true)\n",
      " |-- 5797-6: long (nullable = true)\n",
      " |-- 5799-2: long (nullable = true)\n",
      " |-- 5802-4: long (nullable = true)\n",
      " |-- 5803-2: long (nullable = true)\n",
      " |-- 5804-0: long (nullable = true)\n",
      " |-- 5811-5: long (nullable = true)\n",
      " |-- 5902-2: long (nullable = true)\n",
      " |-- 5905-5: long (nullable = true)\n",
      " |-- 59557-9: long (nullable = true)\n",
      " |-- 59576-9: long (nullable = true)\n",
      " |-- 6075-6: long (nullable = true)\n",
      " |-- 6082-2: long (nullable = true)\n",
      " |-- 6085-5: long (nullable = true)\n",
      " |-- 6095-4: long (nullable = true)\n",
      " |-- 6106-9: long (nullable = true)\n",
      " |-- 6158-0: long (nullable = true)\n",
      " |-- 6189-5: long (nullable = true)\n",
      " |-- 6206-7: long (nullable = true)\n",
      " |-- 6246-3: long (nullable = true)\n",
      " |-- 6248-9: long (nullable = true)\n",
      " |-- 6273-7: long (nullable = true)\n",
      " |-- 6276-0: long (nullable = true)\n",
      " |-- 6298-4: long (nullable = true)\n",
      " |-- 6299-2: long (nullable = true)\n",
      " |-- 6301-6: long (nullable = true)\n",
      " |-- 63513-6: long (nullable = true)\n",
      " |-- 66519-0: long (nullable = true)\n",
      " |-- 66524-0: long (nullable = true)\n",
      " |-- 66529-9: long (nullable = true)\n",
      " |-- 66534-9: long (nullable = true)\n",
      " |-- 6690-2: long (nullable = true)\n",
      " |-- 6768-6: long (nullable = true)\n",
      " |-- 6833-8: long (nullable = true)\n",
      " |-- 6844-5: long (nullable = true)\n",
      " |-- 69453-9: long (nullable = true)\n",
      " |-- 704-7: long (nullable = true)\n",
      " |-- 706-2: long (nullable = true)\n",
      " |-- 711-2: long (nullable = true)\n",
      " |-- 713-8: long (nullable = true)\n",
      " |-- 718-7: long (nullable = true)\n",
      " |-- 71802-3: long (nullable = true)\n",
      " |-- 71970-8: long (nullable = true)\n",
      " |-- 71972-4: long (nullable = true)\n",
      " |-- 72009-4: long (nullable = true)\n",
      " |-- 72010-2: long (nullable = true)\n",
      " |-- 72011-0: long (nullable = true)\n",
      " |-- 72012-8: long (nullable = true)\n",
      " |-- 72013-6: long (nullable = true)\n",
      " |-- 72014-4: long (nullable = true)\n",
      " |-- 72015-1: long (nullable = true)\n",
      " |-- 72016-9: long (nullable = true)\n",
      " |-- 72106-8: long (nullable = true)\n",
      " |-- 72166-2: long (nullable = true)\n",
      " |-- 72514-3: long (nullable = true)\n",
      " |-- 7258-7: long (nullable = true)\n",
      " |-- 731-0: long (nullable = true)\n",
      " |-- 736-9: long (nullable = true)\n",
      " |-- 74006-8: long (nullable = true)\n",
      " |-- 742-7: long (nullable = true)\n",
      " |-- 751-8: long (nullable = true)\n",
      " |-- 75443-2: long (nullable = true)\n",
      " |-- 76690-7: long (nullable = true)\n",
      " |-- 770-8: long (nullable = true)\n",
      " |-- 77606-2: long (nullable = true)\n",
      " |-- 777-3: long (nullable = true)\n",
      " |-- 785-6: long (nullable = true)\n",
      " |-- 786-4: long (nullable = true)\n",
      " |-- 787-2: long (nullable = true)\n",
      " |-- 788-0: long (nullable = true)\n",
      " |-- 789-8: long (nullable = true)\n",
      " |-- 80271-0: long (nullable = true)\n",
      " |-- 80382-5: long (nullable = true)\n",
      " |-- 80383-3: long (nullable = true)\n",
      " |-- 8302-2: long (nullable = true)\n",
      " |-- 8310-5: long (nullable = true)\n",
      " |-- 84215-3: long (nullable = true)\n",
      " |-- 8462-4: long (nullable = true)\n",
      " |-- 8480-6: long (nullable = true)\n",
      " |-- 85318-4: long (nullable = true)\n",
      " |-- 85319-2: long (nullable = true)\n",
      " |-- 85337-4: long (nullable = true)\n",
      " |-- 85339-0: long (nullable = true)\n",
      " |-- 85344-0: long (nullable = true)\n",
      " |-- 85352-3: long (nullable = true)\n",
      " |-- 88040-1: long (nullable = true)\n",
      " |-- 8867-4: long (nullable = true)\n",
      " |-- 89579-7: long (nullable = true)\n",
      " |-- 92130-4: long (nullable = true)\n",
      " |-- 92131-2: long (nullable = true)\n",
      " |-- 92134-6: long (nullable = true)\n",
      " |-- 92138-7: long (nullable = true)\n",
      " |-- 92139-5: long (nullable = true)\n",
      " |-- 92140-3: long (nullable = true)\n",
      " |-- 92141-1: long (nullable = true)\n",
      " |-- 92142-9: long (nullable = true)\n",
      " |-- 9279-1: long (nullable = true)\n",
      " |-- 94040-3: long (nullable = true)\n",
      " |-- 94531-1: long (nullable = true)\n",
      " |-- 9843-4: long (nullable = true)\n",
      " |-- DALY: long (nullable = true)\n",
      " |-- QALY: long (nullable = true)\n",
      " |-- QOLS: long (nullable = true)\n",
      " |-- deceased: integer (nullable = true)\n",
      " |-- covid-19: integer (nullable = true)\n",
      " |-- deceased & covid-19: integer (nullable = true)\n",
      " |-- features: vector (nullable = true)\n",
      "\n"
     ]
    }
   ],
   "source": [
    "groupedDf = merged.groupBy(\"PATIENT\", 'Code').pivot(\"Code\").agg(count(\"Code\").alias(\"count\")).na.fill(0)\n",
    "merged =merged.select('PATIENT', 'deceased', 'covid-19', 'deceased & covid-19')\n",
    "finalDf = groupedDf.join(merged, ['PATIENT'], 'left')\n",
    "cols = list(set(finalDf.columns) - {'PATIENT', 'deceased', 'Code', 'Description', 'covid-19', 'deceased & covid-19'})\n",
    "assembler = VectorAssembler().setInputCols(cols).setOutputCol('features')\n",
    "finalDf = finalDf.withColumn(\"covid-19\", finalDf[\"covid-19\"].cast(IntegerType())).withColumn(\"deceased & covid-19\", finalDf[\"deceased & covid-19\"].cast(IntegerType()))\n",
    "df = assembler.transform(finalDf)\n",
    "df.printSchema()"
   ]
  },
  {
   "cell_type": "markdown",
   "id": "5c6c79a1",
   "metadata": {},
   "source": [
    "### Chi-Sq Selector"
   ]
  },
  {
   "cell_type": "code",
   "execution_count": 4,
   "id": "b7d51729",
   "metadata": {},
   "outputs": [],
   "source": [
    "selector = ChiSqSelector(numTopFeatures=10, featuresCol=\"features\",\n",
    "                         outputCol=\"selectedFeatures\", labelCol=\"deceased\")\n",
    "chiResult = selector.fit(df).transform(df)"
   ]
  },
  {
   "cell_type": "code",
   "execution_count": 5,
   "id": "4c236eff",
   "metadata": {},
   "outputs": [],
   "source": [
    "metrics=['accuracy', 'weightedPrecision', 'weightedRecall', 'f1']\n",
    "metrics_bin=['areaUnderROC', 'areaUnderPR']\n",
    "\n",
    "def printPerformance(results):\n",
    "    for m in metrics: print('{}: {:f}'.format(m, my_eval_bin.evaluate(results, {my_eval.metricName: m})))\n",
    "    for m in metrics_bin: print('{}: {:f}'.format(m, my_eval_bin.evaluate(results, {my_eval_bin.metricName: m})))\n",
    "    y_test = np.array(results.select(\"deceased\").collect()).flatten()\n",
    "    y_pred = np.array(results.select(\"prediction\").collect()).flatten()\n",
    "    print(\"Confusion Matrix:\\n\", confusion_matrix(y_test, y_pred))"
   ]
  },
  {
   "cell_type": "markdown",
   "id": "a442df13",
   "metadata": {},
   "source": [
    "Deceased"
   ]
  },
  {
   "cell_type": "code",
   "execution_count": 6,
   "id": "30ec8e49",
   "metadata": {},
   "outputs": [
    {
     "name": "stdout",
     "output_type": "stream",
     "text": [
      "Class 0 (deceased= 0):  28907916\n",
      "Class 1 (deceased= 1):  6274051\n"
     ]
    },
    {
     "name": "stderr",
     "output_type": "stream",
     "text": [
      "ERROR:root:Exception while sending command.\n",
      "Traceback (most recent call last):\n",
      "  File \"C:\\Users\\Mirna Elizondo\\anaconda3\\lib\\site-packages\\py4j\\clientserver.py\", line 475, in send_command\n",
      "    answer = smart_decode(self.stream.readline()[:-1])\n",
      "  File \"C:\\Users\\Mirna Elizondo\\anaconda3\\lib\\socket.py\", line 704, in readinto\n",
      "    return self._sock.recv_into(b)\n",
      "ConnectionResetError: [WinError 10054] An existing connection was forcibly closed by the remote host\n",
      "\n",
      "During handling of the above exception, another exception occurred:\n",
      "\n",
      "Traceback (most recent call last):\n",
      "  File \"C:\\Users\\Mirna Elizondo\\anaconda3\\lib\\site-packages\\py4j\\java_gateway.py\", line 1038, in send_command\n",
      "    response = connection.send_command(command)\n",
      "  File \"C:\\Users\\Mirna Elizondo\\anaconda3\\lib\\site-packages\\py4j\\clientserver.py\", line 503, in send_command\n",
      "    raise Py4JNetworkError(\n",
      "py4j.protocol.Py4JNetworkError: Error while sending or receiving\n"
     ]
    },
    {
     "ename": "ConnectionRefusedError",
     "evalue": "[WinError 10061] No connection could be made because the target machine actively refused it",
     "output_type": "error",
     "traceback": [
      "\u001b[1;31m---------------------------------------------------------------------------\u001b[0m",
      "\u001b[1;31mPy4JJavaError\u001b[0m                             Traceback (most recent call last)",
      "    \u001b[1;31m[... skipping hidden 1 frame]\u001b[0m\n",
      "Cell \u001b[1;32mIn[6], line 9\u001b[0m\n\u001b[0;32m      8\u001b[0m lr \u001b[38;5;241m=\u001b[39m LogisticRegression(maxIter\u001b[38;5;241m=\u001b[39m\u001b[38;5;241m10\u001b[39m, regParam\u001b[38;5;241m=\u001b[39m\u001b[38;5;241m0.3\u001b[39m, elasticNetParam\u001b[38;5;241m=\u001b[39m\u001b[38;5;241m0.8\u001b[39m, labelCol \u001b[38;5;241m=\u001b[39m \u001b[38;5;124m'\u001b[39m\u001b[38;5;124mdeceased\u001b[39m\u001b[38;5;124m'\u001b[39m, featuresCol \u001b[38;5;241m=\u001b[39m \u001b[38;5;124m'\u001b[39m\u001b[38;5;124mfeatures\u001b[39m\u001b[38;5;124m'\u001b[39m)\n\u001b[1;32m----> 9\u001b[0m model \u001b[38;5;241m=\u001b[39m \u001b[43mlr\u001b[49m\u001b[38;5;241;43m.\u001b[39;49m\u001b[43mfit\u001b[49m\u001b[43m(\u001b[49m\u001b[43mtrain\u001b[49m\u001b[43m)\u001b[49m\u001b[38;5;241m.\u001b[39msetFeaturesCol(\u001b[38;5;124m'\u001b[39m\u001b[38;5;124mfeatures\u001b[39m\u001b[38;5;124m'\u001b[39m)\n\u001b[0;32m     10\u001b[0m my_eval \u001b[38;5;241m=\u001b[39m MulticlassClassificationEvaluator(labelCol \u001b[38;5;241m=\u001b[39m \u001b[38;5;124m'\u001b[39m\u001b[38;5;124mdeceased\u001b[39m\u001b[38;5;124m'\u001b[39m, predictionCol \u001b[38;5;241m=\u001b[39m \u001b[38;5;124m'\u001b[39m\u001b[38;5;124mprediction\u001b[39m\u001b[38;5;124m'\u001b[39m)\n",
      "File \u001b[1;32m~\\anaconda3\\lib\\site-packages\\pyspark\\ml\\base.py:161\u001b[0m, in \u001b[0;36mEstimator.fit\u001b[1;34m(self, dataset, params)\u001b[0m\n\u001b[0;32m    160\u001b[0m     \u001b[38;5;28;01melse\u001b[39;00m:\n\u001b[1;32m--> 161\u001b[0m         \u001b[38;5;28;01mreturn\u001b[39;00m \u001b[38;5;28;43mself\u001b[39;49m\u001b[38;5;241;43m.\u001b[39;49m\u001b[43m_fit\u001b[49m\u001b[43m(\u001b[49m\u001b[43mdataset\u001b[49m\u001b[43m)\u001b[49m\n\u001b[0;32m    162\u001b[0m \u001b[38;5;28;01melse\u001b[39;00m:\n",
      "File \u001b[1;32m~\\anaconda3\\lib\\site-packages\\pyspark\\ml\\wrapper.py:335\u001b[0m, in \u001b[0;36mJavaEstimator._fit\u001b[1;34m(self, dataset)\u001b[0m\n\u001b[0;32m    334\u001b[0m \u001b[38;5;28;01mdef\u001b[39;00m \u001b[38;5;21m_fit\u001b[39m(\u001b[38;5;28mself\u001b[39m, dataset):\n\u001b[1;32m--> 335\u001b[0m     java_model \u001b[38;5;241m=\u001b[39m \u001b[38;5;28;43mself\u001b[39;49m\u001b[38;5;241;43m.\u001b[39;49m\u001b[43m_fit_java\u001b[49m\u001b[43m(\u001b[49m\u001b[43mdataset\u001b[49m\u001b[43m)\u001b[49m\n\u001b[0;32m    336\u001b[0m     model \u001b[38;5;241m=\u001b[39m \u001b[38;5;28mself\u001b[39m\u001b[38;5;241m.\u001b[39m_create_model(java_model)\n",
      "File \u001b[1;32m~\\anaconda3\\lib\\site-packages\\pyspark\\ml\\wrapper.py:332\u001b[0m, in \u001b[0;36mJavaEstimator._fit_java\u001b[1;34m(self, dataset)\u001b[0m\n\u001b[0;32m    331\u001b[0m \u001b[38;5;28mself\u001b[39m\u001b[38;5;241m.\u001b[39m_transfer_params_to_java()\n\u001b[1;32m--> 332\u001b[0m \u001b[38;5;28;01mreturn\u001b[39;00m \u001b[38;5;28;43mself\u001b[39;49m\u001b[38;5;241;43m.\u001b[39;49m\u001b[43m_java_obj\u001b[49m\u001b[38;5;241;43m.\u001b[39;49m\u001b[43mfit\u001b[49m\u001b[43m(\u001b[49m\u001b[43mdataset\u001b[49m\u001b[38;5;241;43m.\u001b[39;49m\u001b[43m_jdf\u001b[49m\u001b[43m)\u001b[49m\n",
      "File \u001b[1;32m~\\anaconda3\\lib\\site-packages\\py4j\\java_gateway.py:1321\u001b[0m, in \u001b[0;36mJavaMember.__call__\u001b[1;34m(self, *args)\u001b[0m\n\u001b[0;32m   1320\u001b[0m answer \u001b[38;5;241m=\u001b[39m \u001b[38;5;28mself\u001b[39m\u001b[38;5;241m.\u001b[39mgateway_client\u001b[38;5;241m.\u001b[39msend_command(command)\n\u001b[1;32m-> 1321\u001b[0m return_value \u001b[38;5;241m=\u001b[39m \u001b[43mget_return_value\u001b[49m\u001b[43m(\u001b[49m\n\u001b[0;32m   1322\u001b[0m \u001b[43m    \u001b[49m\u001b[43manswer\u001b[49m\u001b[43m,\u001b[49m\u001b[43m \u001b[49m\u001b[38;5;28;43mself\u001b[39;49m\u001b[38;5;241;43m.\u001b[39;49m\u001b[43mgateway_client\u001b[49m\u001b[43m,\u001b[49m\u001b[43m \u001b[49m\u001b[38;5;28;43mself\u001b[39;49m\u001b[38;5;241;43m.\u001b[39;49m\u001b[43mtarget_id\u001b[49m\u001b[43m,\u001b[49m\u001b[43m \u001b[49m\u001b[38;5;28;43mself\u001b[39;49m\u001b[38;5;241;43m.\u001b[39;49m\u001b[43mname\u001b[49m\u001b[43m)\u001b[49m\n\u001b[0;32m   1324\u001b[0m \u001b[38;5;28;01mfor\u001b[39;00m temp_arg \u001b[38;5;129;01min\u001b[39;00m temp_args:\n",
      "File \u001b[1;32m~\\anaconda3\\lib\\site-packages\\pyspark\\sql\\utils.py:111\u001b[0m, in \u001b[0;36mcapture_sql_exception.<locals>.deco\u001b[1;34m(*a, **kw)\u001b[0m\n\u001b[0;32m    110\u001b[0m \u001b[38;5;28;01mtry\u001b[39;00m:\n\u001b[1;32m--> 111\u001b[0m     \u001b[38;5;28;01mreturn\u001b[39;00m f(\u001b[38;5;241m*\u001b[39ma, \u001b[38;5;241m*\u001b[39m\u001b[38;5;241m*\u001b[39mkw)\n\u001b[0;32m    112\u001b[0m \u001b[38;5;28;01mexcept\u001b[39;00m py4j\u001b[38;5;241m.\u001b[39mprotocol\u001b[38;5;241m.\u001b[39mPy4JJavaError \u001b[38;5;28;01mas\u001b[39;00m e:\n",
      "File \u001b[1;32m~\\anaconda3\\lib\\site-packages\\py4j\\protocol.py:326\u001b[0m, in \u001b[0;36mget_return_value\u001b[1;34m(answer, gateway_client, target_id, name)\u001b[0m\n\u001b[0;32m    325\u001b[0m \u001b[38;5;28;01mif\u001b[39;00m answer[\u001b[38;5;241m1\u001b[39m] \u001b[38;5;241m==\u001b[39m REFERENCE_TYPE:\n\u001b[1;32m--> 326\u001b[0m     \u001b[38;5;28;01mraise\u001b[39;00m Py4JJavaError(\n\u001b[0;32m    327\u001b[0m         \u001b[38;5;124m\"\u001b[39m\u001b[38;5;124mAn error occurred while calling \u001b[39m\u001b[38;5;132;01m{0}\u001b[39;00m\u001b[38;5;132;01m{1}\u001b[39;00m\u001b[38;5;132;01m{2}\u001b[39;00m\u001b[38;5;124m.\u001b[39m\u001b[38;5;130;01m\\n\u001b[39;00m\u001b[38;5;124m\"\u001b[39m\u001b[38;5;241m.\u001b[39m\n\u001b[0;32m    328\u001b[0m         \u001b[38;5;28mformat\u001b[39m(target_id, \u001b[38;5;124m\"\u001b[39m\u001b[38;5;124m.\u001b[39m\u001b[38;5;124m\"\u001b[39m, name), value)\n\u001b[0;32m    329\u001b[0m \u001b[38;5;28;01melse\u001b[39;00m:\n",
      "\u001b[1;31m<class 'str'>\u001b[0m: (<class 'ConnectionRefusedError'>, ConnectionRefusedError(10061, 'No connection could be made because the target machine actively refused it', None, 10061, None))",
      "\nDuring handling of the above exception, another exception occurred:\n",
      "\u001b[1;31mConnectionRefusedError\u001b[0m                    Traceback (most recent call last)",
      "    \u001b[1;31m[... skipping hidden 1 frame]\u001b[0m\n",
      "File \u001b[1;32m~\\anaconda3\\lib\\site-packages\\IPython\\core\\interactiveshell.py:2068\u001b[0m, in \u001b[0;36mInteractiveShell.showtraceback\u001b[1;34m(self, exc_tuple, filename, tb_offset, exception_only, running_compiled_code)\u001b[0m\n\u001b[0;32m   2065\u001b[0m     traceback\u001b[38;5;241m.\u001b[39mprint_exc()\n\u001b[0;32m   2066\u001b[0m     \u001b[38;5;28;01mreturn\u001b[39;00m \u001b[38;5;28;01mNone\u001b[39;00m\n\u001b[1;32m-> 2068\u001b[0m \u001b[38;5;28;43mself\u001b[39;49m\u001b[38;5;241;43m.\u001b[39;49m\u001b[43m_showtraceback\u001b[49m\u001b[43m(\u001b[49m\u001b[43metype\u001b[49m\u001b[43m,\u001b[49m\u001b[43m \u001b[49m\u001b[43mvalue\u001b[49m\u001b[43m,\u001b[49m\u001b[43m \u001b[49m\u001b[43mstb\u001b[49m\u001b[43m)\u001b[49m\n\u001b[0;32m   2069\u001b[0m \u001b[38;5;28;01mif\u001b[39;00m \u001b[38;5;28mself\u001b[39m\u001b[38;5;241m.\u001b[39mcall_pdb:\n\u001b[0;32m   2070\u001b[0m     \u001b[38;5;66;03m# drop into debugger\u001b[39;00m\n\u001b[0;32m   2071\u001b[0m     \u001b[38;5;28mself\u001b[39m\u001b[38;5;241m.\u001b[39mdebugger(force\u001b[38;5;241m=\u001b[39m\u001b[38;5;28;01mTrue\u001b[39;00m)\n",
      "File \u001b[1;32m~\\anaconda3\\lib\\site-packages\\ipykernel\\zmqshell.py:541\u001b[0m, in \u001b[0;36mZMQInteractiveShell._showtraceback\u001b[1;34m(self, etype, evalue, stb)\u001b[0m\n\u001b[0;32m    535\u001b[0m sys\u001b[38;5;241m.\u001b[39mstdout\u001b[38;5;241m.\u001b[39mflush()\n\u001b[0;32m    536\u001b[0m sys\u001b[38;5;241m.\u001b[39mstderr\u001b[38;5;241m.\u001b[39mflush()\n\u001b[0;32m    538\u001b[0m exc_content \u001b[38;5;241m=\u001b[39m {\n\u001b[0;32m    539\u001b[0m     \u001b[38;5;124m\"\u001b[39m\u001b[38;5;124mtraceback\u001b[39m\u001b[38;5;124m\"\u001b[39m: stb,\n\u001b[0;32m    540\u001b[0m     \u001b[38;5;124m\"\u001b[39m\u001b[38;5;124mename\u001b[39m\u001b[38;5;124m\"\u001b[39m: \u001b[38;5;28mstr\u001b[39m(etype\u001b[38;5;241m.\u001b[39m\u001b[38;5;18m__name__\u001b[39m),\n\u001b[1;32m--> 541\u001b[0m     \u001b[38;5;124m\"\u001b[39m\u001b[38;5;124mevalue\u001b[39m\u001b[38;5;124m\"\u001b[39m: \u001b[38;5;28;43mstr\u001b[39;49m\u001b[43m(\u001b[49m\u001b[43mevalue\u001b[49m\u001b[43m)\u001b[49m,\n\u001b[0;32m    542\u001b[0m }\n\u001b[0;32m    544\u001b[0m dh \u001b[38;5;241m=\u001b[39m \u001b[38;5;28mself\u001b[39m\u001b[38;5;241m.\u001b[39mdisplayhook\n\u001b[0;32m    545\u001b[0m \u001b[38;5;66;03m# Send exception info over pub socket for other clients than the caller\u001b[39;00m\n\u001b[0;32m    546\u001b[0m \u001b[38;5;66;03m# to pick up\u001b[39;00m\n",
      "File \u001b[1;32m~\\anaconda3\\lib\\site-packages\\py4j\\protocol.py:471\u001b[0m, in \u001b[0;36mPy4JJavaError.__str__\u001b[1;34m(self)\u001b[0m\n\u001b[0;32m    469\u001b[0m \u001b[38;5;28;01mdef\u001b[39;00m \u001b[38;5;21m__str__\u001b[39m(\u001b[38;5;28mself\u001b[39m):\n\u001b[0;32m    470\u001b[0m     gateway_client \u001b[38;5;241m=\u001b[39m \u001b[38;5;28mself\u001b[39m\u001b[38;5;241m.\u001b[39mjava_exception\u001b[38;5;241m.\u001b[39m_gateway_client\n\u001b[1;32m--> 471\u001b[0m     answer \u001b[38;5;241m=\u001b[39m \u001b[43mgateway_client\u001b[49m\u001b[38;5;241;43m.\u001b[39;49m\u001b[43msend_command\u001b[49m\u001b[43m(\u001b[49m\u001b[38;5;28;43mself\u001b[39;49m\u001b[38;5;241;43m.\u001b[39;49m\u001b[43mexception_cmd\u001b[49m\u001b[43m)\u001b[49m\n\u001b[0;32m    472\u001b[0m     return_value \u001b[38;5;241m=\u001b[39m get_return_value(answer, gateway_client, \u001b[38;5;28;01mNone\u001b[39;00m, \u001b[38;5;28;01mNone\u001b[39;00m)\n\u001b[0;32m    473\u001b[0m     \u001b[38;5;66;03m# Note: technically this should return a bytestring 'str' rather than\u001b[39;00m\n\u001b[0;32m    474\u001b[0m     \u001b[38;5;66;03m# unicodes in Python 2; however, it can return unicodes for now.\u001b[39;00m\n\u001b[0;32m    475\u001b[0m     \u001b[38;5;66;03m# See https://github.com/bartdag/py4j/issues/306 for more details.\u001b[39;00m\n",
      "File \u001b[1;32m~\\anaconda3\\lib\\site-packages\\py4j\\java_gateway.py:1036\u001b[0m, in \u001b[0;36mGatewayClient.send_command\u001b[1;34m(self, command, retry, binary)\u001b[0m\n\u001b[0;32m   1015\u001b[0m \u001b[38;5;28;01mdef\u001b[39;00m \u001b[38;5;21msend_command\u001b[39m(\u001b[38;5;28mself\u001b[39m, command, retry\u001b[38;5;241m=\u001b[39m\u001b[38;5;28;01mTrue\u001b[39;00m, binary\u001b[38;5;241m=\u001b[39m\u001b[38;5;28;01mFalse\u001b[39;00m):\n\u001b[0;32m   1016\u001b[0m     \u001b[38;5;124;03m\"\"\"Sends a command to the JVM. This method is not intended to be\u001b[39;00m\n\u001b[0;32m   1017\u001b[0m \u001b[38;5;124;03m       called directly by Py4J users. It is usually called by\u001b[39;00m\n\u001b[0;32m   1018\u001b[0m \u001b[38;5;124;03m       :class:`JavaMember` instances.\u001b[39;00m\n\u001b[1;32m   (...)\u001b[0m\n\u001b[0;32m   1034\u001b[0m \u001b[38;5;124;03m     if `binary` is `True`.\u001b[39;00m\n\u001b[0;32m   1035\u001b[0m \u001b[38;5;124;03m    \"\"\"\u001b[39;00m\n\u001b[1;32m-> 1036\u001b[0m     connection \u001b[38;5;241m=\u001b[39m \u001b[38;5;28;43mself\u001b[39;49m\u001b[38;5;241;43m.\u001b[39;49m\u001b[43m_get_connection\u001b[49m\u001b[43m(\u001b[49m\u001b[43m)\u001b[49m\n\u001b[0;32m   1037\u001b[0m     \u001b[38;5;28;01mtry\u001b[39;00m:\n\u001b[0;32m   1038\u001b[0m         response \u001b[38;5;241m=\u001b[39m connection\u001b[38;5;241m.\u001b[39msend_command(command)\n",
      "File \u001b[1;32m~\\anaconda3\\lib\\site-packages\\py4j\\clientserver.py:281\u001b[0m, in \u001b[0;36mJavaClient._get_connection\u001b[1;34m(self)\u001b[0m\n\u001b[0;32m    278\u001b[0m     \u001b[38;5;28;01mpass\u001b[39;00m\n\u001b[0;32m    280\u001b[0m \u001b[38;5;28;01mif\u001b[39;00m connection \u001b[38;5;129;01mis\u001b[39;00m \u001b[38;5;28;01mNone\u001b[39;00m \u001b[38;5;129;01mor\u001b[39;00m connection\u001b[38;5;241m.\u001b[39msocket \u001b[38;5;129;01mis\u001b[39;00m \u001b[38;5;28;01mNone\u001b[39;00m:\n\u001b[1;32m--> 281\u001b[0m     connection \u001b[38;5;241m=\u001b[39m \u001b[38;5;28;43mself\u001b[39;49m\u001b[38;5;241;43m.\u001b[39;49m\u001b[43m_create_new_connection\u001b[49m\u001b[43m(\u001b[49m\u001b[43m)\u001b[49m\n\u001b[0;32m    282\u001b[0m \u001b[38;5;28;01mreturn\u001b[39;00m connection\n",
      "File \u001b[1;32m~\\anaconda3\\lib\\site-packages\\py4j\\clientserver.py:288\u001b[0m, in \u001b[0;36mJavaClient._create_new_connection\u001b[1;34m(self)\u001b[0m\n\u001b[0;32m    284\u001b[0m \u001b[38;5;28;01mdef\u001b[39;00m \u001b[38;5;21m_create_new_connection\u001b[39m(\u001b[38;5;28mself\u001b[39m):\n\u001b[0;32m    285\u001b[0m     connection \u001b[38;5;241m=\u001b[39m ClientServerConnection(\n\u001b[0;32m    286\u001b[0m         \u001b[38;5;28mself\u001b[39m\u001b[38;5;241m.\u001b[39mjava_parameters, \u001b[38;5;28mself\u001b[39m\u001b[38;5;241m.\u001b[39mpython_parameters,\n\u001b[0;32m    287\u001b[0m         \u001b[38;5;28mself\u001b[39m\u001b[38;5;241m.\u001b[39mgateway_property, \u001b[38;5;28mself\u001b[39m)\n\u001b[1;32m--> 288\u001b[0m     \u001b[43mconnection\u001b[49m\u001b[38;5;241;43m.\u001b[39;49m\u001b[43mconnect_to_java_server\u001b[49m\u001b[43m(\u001b[49m\u001b[43m)\u001b[49m\n\u001b[0;32m    289\u001b[0m     \u001b[38;5;28mself\u001b[39m\u001b[38;5;241m.\u001b[39mset_thread_connection(connection)\n\u001b[0;32m    290\u001b[0m     \u001b[38;5;28;01mreturn\u001b[39;00m connection\n",
      "File \u001b[1;32m~\\anaconda3\\lib\\site-packages\\py4j\\clientserver.py:402\u001b[0m, in \u001b[0;36mClientServerConnection.connect_to_java_server\u001b[1;34m(self)\u001b[0m\n\u001b[0;32m    399\u001b[0m \u001b[38;5;28;01mif\u001b[39;00m \u001b[38;5;28mself\u001b[39m\u001b[38;5;241m.\u001b[39mssl_context:\n\u001b[0;32m    400\u001b[0m     \u001b[38;5;28mself\u001b[39m\u001b[38;5;241m.\u001b[39msocket \u001b[38;5;241m=\u001b[39m \u001b[38;5;28mself\u001b[39m\u001b[38;5;241m.\u001b[39mssl_context\u001b[38;5;241m.\u001b[39mwrap_socket(\n\u001b[0;32m    401\u001b[0m         \u001b[38;5;28mself\u001b[39m\u001b[38;5;241m.\u001b[39msocket, server_hostname\u001b[38;5;241m=\u001b[39m\u001b[38;5;28mself\u001b[39m\u001b[38;5;241m.\u001b[39mjava_address)\n\u001b[1;32m--> 402\u001b[0m \u001b[38;5;28;43mself\u001b[39;49m\u001b[38;5;241;43m.\u001b[39;49m\u001b[43msocket\u001b[49m\u001b[38;5;241;43m.\u001b[39;49m\u001b[43mconnect\u001b[49m\u001b[43m(\u001b[49m\u001b[43m(\u001b[49m\u001b[38;5;28;43mself\u001b[39;49m\u001b[38;5;241;43m.\u001b[39;49m\u001b[43mjava_address\u001b[49m\u001b[43m,\u001b[49m\u001b[43m \u001b[49m\u001b[38;5;28;43mself\u001b[39;49m\u001b[38;5;241;43m.\u001b[39;49m\u001b[43mjava_port\u001b[49m\u001b[43m)\u001b[49m\u001b[43m)\u001b[49m\n\u001b[0;32m    403\u001b[0m \u001b[38;5;28mself\u001b[39m\u001b[38;5;241m.\u001b[39mstream \u001b[38;5;241m=\u001b[39m \u001b[38;5;28mself\u001b[39m\u001b[38;5;241m.\u001b[39msocket\u001b[38;5;241m.\u001b[39mmakefile(\u001b[38;5;124m\"\u001b[39m\u001b[38;5;124mrb\u001b[39m\u001b[38;5;124m\"\u001b[39m)\n\u001b[0;32m    404\u001b[0m \u001b[38;5;28mself\u001b[39m\u001b[38;5;241m.\u001b[39mis_connected \u001b[38;5;241m=\u001b[39m \u001b[38;5;28;01mTrue\u001b[39;00m\n",
      "\u001b[1;31mConnectionRefusedError\u001b[0m: [WinError 10061] No connection could be made because the target machine actively refused it"
     ]
    }
   ],
   "source": [
    "# stratified split\n",
    "class0 = df.filter(df[\"deceased\"]==0)\n",
    "class1 = df.filter(df[\"deceased\"]==1)\n",
    "print(\"Class 0 (deceased= 0): \", class0.count())\n",
    "print(\"Class 1 (deceased= 1): \", class1.count())\n",
    "(train, test) = chiResult.randomSplit([0.8, 0.2])\n",
    "\n",
    "lr = LogisticRegression(maxIter=10, regParam=0.3, elasticNetParam=0.8, labelCol = 'deceased', featuresCol = 'features')\n",
    "model = lr.fit(train).setFeaturesCol('features')\n",
    "my_eval = MulticlassClassificationEvaluator(labelCol = 'deceased', predictionCol = 'prediction')\n",
    "my_eval_bin = BinaryClassificationEvaluator(labelCol ='deceased', rawPredictionCol = 'prediction')\n",
    "results = model.transform(test)\n",
    "print(\"\\n[Performance on Deceased Label Test set]\")\n",
    "printPerformance(results)\n"
   ]
  },
  {
   "cell_type": "raw",
   "id": "0957d182",
   "metadata": {},
   "source": [
    "(train, test) = chiResult.randomSplit([0.8, 0.2])\n",
    "\n",
    "lr = LogisticRegression(maxIter=10, regParam=0.3, elasticNetParam=0.8, labelCol = 'deceased', featuresCol = 'selectedFeatures')\n",
    "model = lr.fit(train).setFeaturesCol('features')\n",
    "my_eval = MulticlassClassificationEvaluator(labelCol = 'deceased', predictionCol = 'prediction')\n",
    "my_eval_bin = BinaryClassificationEvaluator(labelCol ='deceased', rawPredictionCol = 'prediction')\n",
    "results = model.transform(test)\n",
    "print(\"\\n[Performance on Deceased Label Test set]\")\n",
    "printPerformance(results)\n"
   ]
  },
  {
   "cell_type": "markdown",
   "id": "58d88f6c",
   "metadata": {},
   "source": [
    "Covid-19"
   ]
  },
  {
   "cell_type": "code",
   "execution_count": null,
   "id": "8cbb7ad8",
   "metadata": {},
   "outputs": [],
   "source": [
    "selector = ChiSqSelector(numTopFeatures=10, featuresCol=\"features\",\n",
    "                         outputCol=\"selectedFeatures\", labelCol=\"covid-19\")\n",
    "chiResult = selector.fit(df).transform(df)"
   ]
  },
  {
   "cell_type": "code",
   "execution_count": null,
   "id": "2ffc907f",
   "metadata": {},
   "outputs": [],
   "source": [
    "def printPerformance(results):\n",
    "    for m in metrics: print('{}: {:f}'.format(m, my_eval_bin.evaluate(results, {my_eval.metricName: m})))\n",
    "    for m in metrics_bin: print('{}: {:f}'.format(m, my_eval_bin.evaluate(results, {my_eval_bin.metricName: m})))\n",
    "    y_test = np.array(results.select(\"covid-19\").collect()).flatten()\n",
    "    y_pred = np.array(results.select(\"prediction\").collect()).flatten()\n",
    "    print(\"Confusion Matrix:\\n\", confusion_matrix(y_test, y_pred))\n"
   ]
  },
  {
   "cell_type": "code",
   "execution_count": null,
   "id": "fd0788dd",
   "metadata": {},
   "outputs": [],
   "source": [
    "(train, test) = chiResult.randomSplit([0.8, 0.2])\n",
    "\n",
    "lr = LogisticRegression(maxIter=10, regParam=0.3, elasticNetParam=0.8, labelCol = 'covid-19', featuresCol = 'features')\n",
    "model = lr.fit(train).setFeaturesCol('features')\n",
    "my_eval = MulticlassClassificationEvaluator(labelCol = 'covid-19', predictionCol = 'prediction')\n",
    "my_eval_bin = BinaryClassificationEvaluator(labelCol ='covid-19', rawPredictionCol = 'prediction')\n",
    "results = model.transform(test)\n",
    "print(\"\\n[Performance on covid-19 Label Test set]\")\n",
    "printPerformance(results)\n"
   ]
  },
  {
   "cell_type": "raw",
   "id": "acd26891",
   "metadata": {},
   "source": [
    "(train, test) = chiResult.randomSplit([0.8, 0.2])\n",
    "\n",
    "lr = LogisticRegression(maxIter=10, regParam=0.3, elasticNetParam=0.8, labelCol = 'covid-19', featuresCol = 'selectedFeatures')\n",
    "model = lr.fit(train).setFeaturesCol('features')\n",
    "my_eval = MulticlassClassificationEvaluator(labelCol = 'covid-19', predictionCol = 'prediction')\n",
    "my_eval_bin = BinaryClassificationEvaluator(labelCol ='covid-19', rawPredictionCol = 'prediction')\n",
    "results = model.transform(test)\n",
    "print(\"\\n[Performance on covid-19 Label Test set]\")\n",
    "printPerformance(results)\n"
   ]
  },
  {
   "cell_type": "markdown",
   "id": "ec148c1b",
   "metadata": {},
   "source": [
    "Deceased & Covid-19"
   ]
  },
  {
   "cell_type": "code",
   "execution_count": null,
   "id": "a60dbe89",
   "metadata": {},
   "outputs": [],
   "source": [
    "selector = ChiSqSelector(numTopFeatures=10, featuresCol=\"features\",\n",
    "                         outputCol=\"selectedFeatures\", labelCol=\"deceased & covid-19\")\n",
    "chiResult = selector.fit(df).transform(df)"
   ]
  },
  {
   "cell_type": "code",
   "execution_count": null,
   "id": "a0a015a3",
   "metadata": {},
   "outputs": [],
   "source": [
    "def printPerformance(results):\n",
    "    for m in metrics: print('{}: {:f}'.format(m, my_eval_bin.evaluate(results, {my_eval.metricName: m})))\n",
    "    for m in metrics_bin: print('{}: {:f}'.format(m, my_eval_bin.evaluate(results, {my_eval_bin.metricName: m})))\n",
    "    y_test = np.array(results.select(\"deceased & covid-19\").collect()).flatten()\n",
    "    y_pred = np.array(results.select(\"prediction\").collect()).flatten()\n",
    "    print(\"Confusion Matrix:\\n\", confusion_matrix(y_test, y_pred))\n"
   ]
  },
  {
   "cell_type": "code",
   "execution_count": null,
   "id": "ba1f0678",
   "metadata": {},
   "outputs": [],
   "source": [
    "(train, test) = chiResult.randomSplit([0.8, 0.2])\n",
    "\n",
    "lr = LogisticRegression(maxIter=10, regParam=0.3, elasticNetParam=0.8, labelCol = 'deceased & covid-19', featuresCol = 'features')\n",
    "model = lr.fit(train).setFeaturesCol('features')\n",
    "my_eval = MulticlassClassificationEvaluator(labelCol = 'deceased & covid-19', predictionCol = 'prediction')\n",
    "my_eval_bin = BinaryClassificationEvaluator(labelCol ='deceased & covid-19', rawPredictionCol = 'prediction')\n",
    "results = model.transform(test)\n",
    "print(\"\\n[Performance on deceased & covid-19 Label Test set]\")\n",
    "printPerformance(results)"
   ]
  },
  {
   "cell_type": "raw",
   "id": "8f524ef7",
   "metadata": {},
   "source": [
    "(train, test) = chiResult.randomSplit([0.8, 0.2])\n",
    "\n",
    "lr = LogisticRegression(maxIter=10, regParam=0.3, elasticNetParam=0.8, labelCol = 'deceased & covid-19', featuresCol = 'selectedFeatures')\n",
    "model = lr.fit(train).setFeaturesCol('features')\n",
    "my_eval = MulticlassClassificationEvaluator(labelCol = 'deceased & covid-19', predictionCol = 'prediction')\n",
    "my_eval_bin = BinaryClassificationEvaluator(labelCol ='deceased & covid-19', rawPredictionCol = 'prediction')\n",
    "results = model.transform(test)\n",
    "print(\"\\n[Performance on deceased & covid-19 Label Test set]\")\n",
    "printPerformance(results)\n"
   ]
  },
  {
   "cell_type": "markdown",
   "id": "6b7d07bb",
   "metadata": {},
   "source": [
    "### Univariate Selector"
   ]
  },
  {
   "cell_type": "markdown",
   "id": "f8e62614",
   "metadata": {},
   "source": [
    "Deceased"
   ]
  },
  {
   "cell_type": "code",
   "execution_count": null,
   "id": "facdde0d",
   "metadata": {},
   "outputs": [],
   "source": [
    "selector = UnivariateFeatureSelector(featuresCol=\"features\", outputCol=\"selectedFeatures\",\n",
    "                                     labelCol=\"deceased\", selectionMode=\"numTopFeatures\")\n",
    "selector.setFeatureType(\"continuous\").setLabelType(\"continuous\").setSelectionThreshold(10)\n",
    "\n",
    "uniResult = selector.fit(df).transform(df)\n",
    "\n",
    "print(\"UnivariateFeatureSelector output with top %d features selected using f_classif\"\n",
    "      % selector.getSelectionThreshold())\n",
    "uniResult.select('features', 'selectedFeatures').show()"
   ]
  },
  {
   "cell_type": "code",
   "execution_count": null,
   "id": "e4dc5816",
   "metadata": {},
   "outputs": [],
   "source": [
    "metrics=['accuracy', 'weightedPrecision', 'weightedRecall', 'f1']\n",
    "metrics_bin=['areaUnderROC', 'areaUnderPR']\n",
    "\n",
    "def printPerformance(results):\n",
    "    for m in metrics: print('{}: {:f}'.format(m, my_eval_bin.evaluate(results, {my_eval.metricName: m})))\n",
    "    for m in metrics_bin: print('{}: {:f}'.format(m, my_eval_bin.evaluate(results, {my_eval_bin.metricName: m})))\n",
    "    y_test = np.array(results.select(\"deceased\").collect()).flatten()\n",
    "    y_pred = np.array(results.select(\"prediction\").collect()).flatten()\n",
    "    print(\"Confusion Matrix:\\n\", confusion_matrix(y_test, y_pred))\n"
   ]
  },
  {
   "cell_type": "code",
   "execution_count": null,
   "id": "9daf0a57",
   "metadata": {},
   "outputs": [],
   "source": [
    "(train, test) = uniResult.randomSplit([0.8, 0.2])\n",
    "chiResult = selector.fit(df).transform(df)\n",
    "lr = LogisticRegression(maxIter=10, regParam=0.3, elasticNetParam=0.8, labelCol = 'deceased', featuresCol = 'features')\n",
    "model = lr.fit(train).setFeaturesCol('features')\n",
    "my_eval = MulticlassClassificationEvaluator(labelCol = 'deceased', predictionCol = 'prediction')\n",
    "my_eval_bin = BinaryClassificationEvaluator(labelCol ='deceased', rawPredictionCol = 'prediction')\n",
    "results = model.transform(test)\n",
    "print(\"\\n[Performance on deceased & covid-19 Label Test set]\")\n",
    "printPerformance(results)"
   ]
  },
  {
   "cell_type": "raw",
   "id": "762e8901",
   "metadata": {},
   "source": [
    "(train, test) = uniResult.randomSplit([0.8, 0.2])\n",
    "lr = LogisticRegression(maxIter=10, regParam=0.3, elasticNetParam=0.8, labelCol = 'deceased', featuresCol = 'selectedFeatures')\n",
    "model = lr.fit(train).setFeaturesCol('features')\n",
    "my_eval = MulticlassClassificationEvaluator(labelCol = 'deceased', predictionCol = 'prediction')\n",
    "my_eval_bin = BinaryClassificationEvaluator(labelCol ='deceased', rawPredictionCol = 'prediction')\n",
    "results = model.transform(test)\n",
    "print(\"\\n[Performance on deceased & covid-19 Label Test set]\")\n",
    "printPerformance(results)"
   ]
  },
  {
   "cell_type": "markdown",
   "id": "db99f8e5",
   "metadata": {},
   "source": [
    "Covid-19"
   ]
  },
  {
   "cell_type": "code",
   "execution_count": null,
   "id": "3df0a4da",
   "metadata": {},
   "outputs": [],
   "source": [
    "selector = UnivariateFeatureSelector(featuresCol=\"features\", outputCol=\"selectedFeatures\",\n",
    "                                     labelCol=\"covid-19\", selectionMode=\"numTopFeatures\")\n",
    "selector.setFeatureType(\"continuous\").setLabelType(\"continuous\").setSelectionThreshold(10)\n",
    "\n",
    "uniResult = selector.fit(df).transform(df)\n",
    "\n",
    "print(\"UnivariateFeatureSelector output with top %d features selected using f_classif\"\n",
    "      % selector.getSelectionThreshold())\n",
    "uniResult.select('features', 'selectedFeatures').show()"
   ]
  },
  {
   "cell_type": "code",
   "execution_count": null,
   "id": "080d12ea",
   "metadata": {},
   "outputs": [],
   "source": [
    "def printPerformance(results):\n",
    "    for m in metrics: print('{}: {:f}'.format(m, my_eval_bin.evaluate(results, {my_eval.metricName: m})))\n",
    "    for m in metrics_bin: print('{}: {:f}'.format(m, my_eval_bin.evaluate(results, {my_eval_bin.metricName: m})))\n",
    "    y_test = np.array(results.select(\"covid-19\").collect()).flatten()\n",
    "    y_pred = np.array(results.select(\"prediction\").collect()).flatten()\n",
    "    print(\"Confusion Matrix:\\n\", confusion_matrix(y_test, y_pred))\n"
   ]
  },
  {
   "cell_type": "code",
   "execution_count": null,
   "id": "1268f425",
   "metadata": {},
   "outputs": [],
   "source": [
    "(train, test) = uniResult.randomSplit([0.8, 0.2])\n",
    "lr = LogisticRegression(maxIter=10, regParam=0.3, elasticNetParam=0.8, labelCol = 'covid-19', featuresCol = 'features')\n",
    "model = lr.fit(train).setFeaturesCol('features')\n",
    "my_eval = MulticlassClassificationEvaluator(labelCol = 'covid-19', predictionCol = 'prediction')\n",
    "my_eval_bin = BinaryClassificationEvaluator(labelCol ='covid-19', rawPredictionCol = 'prediction')\n",
    "results = model.transform(test)\n",
    "print(\"\\n[Performance on deceased & covid-19 Label Test set]\")\n",
    "printPerformance(results)"
   ]
  },
  {
   "cell_type": "raw",
   "id": "8a494e35",
   "metadata": {},
   "source": [
    "(train, test) = uniResult.randomSplit([0.8, 0.2])\n",
    "lr = LogisticRegression(maxIter=10, regParam=0.3, elasticNetParam=0.8, labelCol = 'covid-19', featuresCol = 'selectedFeatures')\n",
    "model = lr.fit(train).setFeaturesCol('features')\n",
    "my_eval = MulticlassClassificationEvaluator(labelCol = 'covid-19', predictionCol = 'prediction')\n",
    "my_eval_bin = BinaryClassificationEvaluator(labelCol ='covid-19', rawPredictionCol = 'prediction')\n",
    "results = model.transform(test)\n",
    "print(\"\\n[Performance on deceased & covid-19 Label Test set]\")\n",
    "printPerformance(results)"
   ]
  },
  {
   "cell_type": "markdown",
   "id": "67d9809e",
   "metadata": {},
   "source": [
    "Deceased & Covid-19"
   ]
  },
  {
   "cell_type": "code",
   "execution_count": null,
   "id": "8df9bf96",
   "metadata": {},
   "outputs": [],
   "source": [
    "selector = UnivariateFeatureSelector(featuresCol=\"features\", outputCol=\"selectedFeatures\",\n",
    "                                     labelCol=\"deceased & covid-19\", selectionMode=\"numTopFeatures\")\n",
    "selector.setFeatureType(\"continuous\").setLabelType(\"continuous\").setSelectionThreshold(10)\n",
    "\n",
    "uniResult = selector.fit(df).transform(df)\n",
    "\n",
    "print(\"UnivariateFeatureSelector output with top %d features selected using f_classif\"\n",
    "      % selector.getSelectionThreshold())\n",
    "uniResult.select('features', 'selectedFeatures').show()"
   ]
  },
  {
   "cell_type": "code",
   "execution_count": null,
   "id": "eb1e9717",
   "metadata": {},
   "outputs": [],
   "source": [
    "def printPerformance(results):\n",
    "    for m in metrics: print('{}: {:f}'.format(m, my_eval_bin.evaluate(results, {my_eval.metricName: m})))\n",
    "    for m in metrics_bin: print('{}: {:f}'.format(m, my_eval_bin.evaluate(results, {my_eval_bin.metricName: m})))\n",
    "    y_test = np.array(results.select(\"deceased & covid-19\").collect()).flatten()\n",
    "    y_pred = np.array(results.select(\"prediction\").collect()).flatten()\n",
    "    print(\"Confusion Matrix:\\n\", confusion_matrix(y_test, y_pred))\n"
   ]
  },
  {
   "cell_type": "code",
   "execution_count": null,
   "id": "788db733",
   "metadata": {},
   "outputs": [],
   "source": [
    "(train, test) = uniResult.randomSplit([0.8, 0.2])\n",
    "lr = LogisticRegression(maxIter=10, regParam=0.3, elasticNetParam=0.8, labelCol = 'deceased & covid-19', featuresCol = 'features')\n",
    "model = lr.fit(train).setFeaturesCol('features')\n",
    "my_eval = MulticlassClassificationEvaluator(labelCol = 'deceased & covid-19', predictionCol = 'prediction')\n",
    "my_eval_bin = BinaryClassificationEvaluator(labelCol ='deceased & covid-19', rawPredictionCol = 'prediction')\n",
    "results = model.transform(test)\n",
    "print(\"\\n[Performance on deceased & covid-19 Label Test set]\")\n",
    "printPerformance(results)"
   ]
  },
  {
   "cell_type": "raw",
   "id": "c6bb1208",
   "metadata": {},
   "source": [
    "(train, test) = uniResult.randomSplit([0.8, 0.2])\n",
    "lr = LogisticRegression(maxIter=10, regParam=0.3, elasticNetParam=0.8, labelCol = 'deceased & covid-19', featuresCol = 'selectedFeatures')\n",
    "model = lr.fit(train).setFeaturesCol('features')\n",
    "my_eval = MulticlassClassificationEvaluator(labelCol = 'deceased & covid-19', predictionCol = 'prediction')\n",
    "my_eval_bin = BinaryClassificationEvaluator(labelCol ='deceased & covid-19', rawPredictionCol = 'prediction')\n",
    "results = model.transform(test)\n",
    "print(\"\\n[Performance on deceased & covid-19 Label Test set]\")\n",
    "printPerformance(results)"
   ]
  },
  {
   "cell_type": "code",
   "execution_count": null,
   "id": "98267c02",
   "metadata": {},
   "outputs": [],
   "source": []
  },
  {
   "cell_type": "code",
   "execution_count": null,
   "id": "d11690ab",
   "metadata": {},
   "outputs": [],
   "source": []
  }
 ],
 "metadata": {
  "kernelspec": {
   "display_name": "Python 3 (ipykernel)",
   "language": "python",
   "name": "python3"
  },
  "language_info": {
   "codemirror_mode": {
    "name": "ipython",
    "version": 3
   },
   "file_extension": ".py",
   "mimetype": "text/x-python",
   "name": "python",
   "nbconvert_exporter": "python",
   "pygments_lexer": "ipython3",
   "version": "3.9.12"
  }
 },
 "nbformat": 4,
 "nbformat_minor": 5
}
