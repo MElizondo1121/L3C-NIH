{
 "cells": [
  {
   "cell_type": "markdown",
   "id": "06370f48",
   "metadata": {},
   "source": [
    "# Logistic Regression Model"
   ]
  },
  {
   "cell_type": "code",
   "execution_count": 11,
   "id": "617359dd",
   "metadata": {},
   "outputs": [],
   "source": [
    "import findspark\n",
    "findspark.init()\n",
    "findspark.find()\n",
    "\n",
    "from pyspark.sql import SparkSession\n",
    "spark = SparkSession.builder.appName('LR').getOrCreate()\n",
    "\n",
    "from pyspark.ml.classification import RandomForestClassifier\n",
    "from pyspark.ml.feature import VectorSlicer, VectorAssembler, ChiSqSelector, VectorIndexer, UnivariateFeatureSelector, VarianceThresholdSelector\n",
    "from pyspark.sql.functions import *\n",
    "import numpy as np\n",
    "from pyspark.sql.types import IntegerType\n",
    "from pyspark.ml.classification import LogisticRegression\n",
    "from pyspark.mllib.evaluation import RegressionMetrics"
   ]
  },
  {
   "cell_type": "code",
   "execution_count": 7,
   "id": "03edcd79",
   "metadata": {},
   "outputs": [
    {
     "name": "stderr",
     "output_type": "stream",
     "text": [
      "\r",
      "                                                                                \r"
     ]
    }
   ],
   "source": [
    "df = spark.read.option(\"header\",True).csv('../../synthea-sample-data/data/10k_synthea_covid19_csv/medications.csv').select('PATIENT','Code', 'Description')\n",
    "deathDf = spark.read.option(\"header\",True).csv('../../synthea-sample-data/data/10k_synthea_covid19_csv/patients.csv').select('Id', 'DEATHDATE')\n",
    "deadSet = df.join(deathDf, (df.PATIENT == deathDf.Id)).na.drop().drop('Id', 'Code')\n",
    "labels = spark.read.option(\"header\",True).csv('../FeatureSelection/dfCovid_DeceasedCovid.csv').select('PATIENT', 'covid-19', 'deceased & covid-19')\n",
    "\n",
    "merged = df.join(deathDf, (df.PATIENT == deathDf.Id), 'left').drop( 'Id')\n",
    "\n",
    "merged = merged.withColumn('deceased', when(col('DEATHDATE').isNotNull(), 1)).na.fill(0)\n",
    "merged = merged.join(labels, ('PATIENT'), 'left').dropDuplicates()"
   ]
  },
  {
   "cell_type": "code",
   "execution_count": 8,
   "id": "46c5254e",
   "metadata": {},
   "outputs": [
    {
     "name": "stdout",
     "output_type": "stream",
     "text": [
      "root\n",
      " |-- PATIENT: string (nullable = true)\n",
      " |-- Code: string (nullable = true)\n",
      " |-- 1000126: long (nullable = true)\n",
      " |-- 1014676: long (nullable = true)\n",
      " |-- 1014678: long (nullable = true)\n",
      " |-- 1043400: long (nullable = true)\n",
      " |-- 1049221: long (nullable = true)\n",
      " |-- 1049630: long (nullable = true)\n",
      " |-- 1049635: long (nullable = true)\n",
      " |-- 105078: long (nullable = true)\n",
      " |-- 105585: long (nullable = true)\n",
      " |-- 106258: long (nullable = true)\n",
      " |-- 106892: long (nullable = true)\n",
      " |-- 1091392: long (nullable = true)\n",
      " |-- 1094107: long (nullable = true)\n",
      " |-- 1100184: long (nullable = true)\n",
      " |-- 1114085: long (nullable = true)\n",
      " |-- 1116758: long (nullable = true)\n",
      " |-- 1190795: long (nullable = true)\n",
      " |-- 1234995: long (nullable = true)\n",
      " |-- 1359133: long (nullable = true)\n",
      " |-- 1363309: long (nullable = true)\n",
      " |-- 1367439: long (nullable = true)\n",
      " |-- 141918: long (nullable = true)\n",
      " |-- 1534809: long (nullable = true)\n",
      " |-- 1599803: long (nullable = true)\n",
      " |-- 1601380: long (nullable = true)\n",
      " |-- 1605257: long (nullable = true)\n",
      " |-- 1650142: long (nullable = true)\n",
      " |-- 1652673: long (nullable = true)\n",
      " |-- 1657981: long (nullable = true)\n",
      " |-- 1659149: long (nullable = true)\n",
      " |-- 1659263: long (nullable = true)\n",
      " |-- 1660014: long (nullable = true)\n",
      " |-- 1719286: long (nullable = true)\n",
      " |-- 1729584: long (nullable = true)\n",
      " |-- 1732136: long (nullable = true)\n",
      " |-- 1732186: long (nullable = true)\n",
      " |-- 1734340: long (nullable = true)\n",
      " |-- 1734919: long (nullable = true)\n",
      " |-- 1735006: long (nullable = true)\n",
      " |-- 1736776: long (nullable = true)\n",
      " |-- 1736854: long (nullable = true)\n",
      " |-- 1737449: long (nullable = true)\n",
      " |-- 1740467: long (nullable = true)\n",
      " |-- 1790099: long (nullable = true)\n",
      " |-- 1803932: long (nullable = true)\n",
      " |-- 1804799: long (nullable = true)\n",
      " |-- 1807513: long (nullable = true)\n",
      " |-- 1808217: long (nullable = true)\n",
      " |-- 1856546: long (nullable = true)\n",
      " |-- 1860154: long (nullable = true)\n",
      " |-- 1860480: long (nullable = true)\n",
      " |-- 1870230: long (nullable = true)\n",
      " |-- 1873983: long (nullable = true)\n",
      " |-- 1946840: long (nullable = true)\n",
      " |-- 197319: long (nullable = true)\n",
      " |-- 197361: long (nullable = true)\n",
      " |-- 197378: long (nullable = true)\n",
      " |-- 197541: long (nullable = true)\n",
      " |-- 197591: long (nullable = true)\n",
      " |-- 197604: long (nullable = true)\n",
      " |-- 198014: long (nullable = true)\n",
      " |-- 198031: long (nullable = true)\n",
      " |-- 198240: long (nullable = true)\n",
      " |-- 198405: long (nullable = true)\n",
      " |-- 198440: long (nullable = true)\n",
      " |-- 198767: long (nullable = true)\n",
      " |-- 199224: long (nullable = true)\n",
      " |-- 200064: long (nullable = true)\n",
      " |-- 2001499: long (nullable = true)\n",
      " |-- 2047241: long (nullable = true)\n",
      " |-- 204892: long (nullable = true)\n",
      " |-- 205532: long (nullable = true)\n",
      " |-- 205923: long (nullable = true)\n",
      " |-- 2103182: long (nullable = true)\n",
      " |-- 2119714: long (nullable = true)\n",
      " |-- 2123111: long (nullable = true)\n",
      " |-- 2284960: long (nullable = true)\n",
      " |-- 235389: long (nullable = true)\n",
      " |-- 241834: long (nullable = true)\n",
      " |-- 242969: long (nullable = true)\n",
      " |-- 243670: long (nullable = true)\n",
      " |-- 245314: long (nullable = true)\n",
      " |-- 259255: long (nullable = true)\n",
      " |-- 308182: long (nullable = true)\n",
      " |-- 308192: long (nullable = true)\n",
      " |-- 308460: long (nullable = true)\n",
      " |-- 308971: long (nullable = true)\n",
      " |-- 309043: long (nullable = true)\n",
      " |-- 309045: long (nullable = true)\n",
      " |-- 309097: long (nullable = true)\n",
      " |-- 309362: long (nullable = true)\n",
      " |-- 310325: long (nullable = true)\n",
      " |-- 310385: long (nullable = true)\n",
      " |-- 310436: long (nullable = true)\n",
      " |-- 310798: long (nullable = true)\n",
      " |-- 310965: long (nullable = true)\n",
      " |-- 311372: long (nullable = true)\n",
      " |-- 311700: long (nullable = true)\n",
      " |-- 311989: long (nullable = true)\n",
      " |-- 311995: long (nullable = true)\n",
      " |-- 312617: long (nullable = true)\n",
      " |-- 312938: long (nullable = true)\n",
      " |-- 312961: long (nullable = true)\n",
      " |-- 313002: long (nullable = true)\n",
      " |-- 313185: long (nullable = true)\n",
      " |-- 313782: long (nullable = true)\n",
      " |-- 313820: long (nullable = true)\n",
      " |-- 313988: long (nullable = true)\n",
      " |-- 314231: long (nullable = true)\n",
      " |-- 389221: long (nullable = true)\n",
      " |-- 429503: long (nullable = true)\n",
      " |-- 477045: long (nullable = true)\n",
      " |-- 483438: long (nullable = true)\n",
      " |-- 542347: long (nullable = true)\n",
      " |-- 562251: long (nullable = true)\n",
      " |-- 562366: long (nullable = true)\n",
      " |-- 583214: long (nullable = true)\n",
      " |-- 596926: long (nullable = true)\n",
      " |-- 597195: long (nullable = true)\n",
      " |-- 608139: long (nullable = true)\n",
      " |-- 665078: long (nullable = true)\n",
      " |-- 705129: long (nullable = true)\n",
      " |-- 727711: long (nullable = true)\n",
      " |-- 727762: long (nullable = true)\n",
      " |-- 746030: long (nullable = true)\n",
      " |-- 748856: long (nullable = true)\n",
      " |-- 748879: long (nullable = true)\n",
      " |-- 748962: long (nullable = true)\n",
      " |-- 749762: long (nullable = true)\n",
      " |-- 749785: long (nullable = true)\n",
      " |-- 749882: long (nullable = true)\n",
      " |-- 751905: long (nullable = true)\n",
      " |-- 752899: long (nullable = true)\n",
      " |-- 757594: long (nullable = true)\n",
      " |-- 807283: long (nullable = true)\n",
      " |-- 831533: long (nullable = true)\n",
      " |-- 833036: long (nullable = true)\n",
      " |-- 833135: long (nullable = true)\n",
      " |-- 834061: long (nullable = true)\n",
      " |-- 834102: long (nullable = true)\n",
      " |-- 834357: long (nullable = true)\n",
      " |-- 849574: long (nullable = true)\n",
      " |-- 854228: long (nullable = true)\n",
      " |-- 854235: long (nullable = true)\n",
      " |-- 854252: long (nullable = true)\n",
      " |-- 855332: long (nullable = true)\n",
      " |-- 856980: long (nullable = true)\n",
      " |-- 856987: long (nullable = true)\n",
      " |-- 857005: long (nullable = true)\n",
      " |-- 860975: long (nullable = true)\n",
      " |-- 861467: long (nullable = true)\n",
      " |-- 865098: long (nullable = true)\n",
      " |-- 866414: long (nullable = true)\n",
      " |-- 895994: long (nullable = true)\n",
      " |-- 896209: long (nullable = true)\n",
      " |-- 897122: long (nullable = true)\n",
      " |-- 897718: long (nullable = true)\n",
      " |-- 904419: long (nullable = true)\n",
      " |-- 966222: long (nullable = true)\n",
      " |-- 978950: long (nullable = true)\n",
      " |-- 979092: long (nullable = true)\n",
      " |-- 993452: long (nullable = true)\n",
      " |-- 996740: long (nullable = true)\n",
      " |-- 997223: long (nullable = true)\n",
      " |-- 997488: long (nullable = true)\n",
      " |-- 997501: long (nullable = true)\n",
      " |-- 999967: long (nullable = true)\n",
      " |-- 999998: long (nullable = true)\n",
      " |-- 999999: long (nullable = true)\n",
      " |-- deceased: integer (nullable = true)\n",
      " |-- covid-19: integer (nullable = true)\n",
      " |-- deceased & covid-19: integer (nullable = true)\n",
      " |-- features: vector (nullable = true)\n",
      "\n"
     ]
    }
   ],
   "source": [
    "groupedDf = merged.groupBy(\"PATIENT\", 'Code').pivot(\"Code\").agg(count(\"Code\").alias(\"count\")).na.fill(0)\n",
    "merged =merged.select('PATIENT', 'deceased', 'covid-19', 'deceased & covid-19')\n",
    "finalDf = groupedDf.join(merged, ['PATIENT'], 'left')\n",
    "cols = list(set(finalDf.columns) - {'PATIENT', 'deceased', 'Code', 'Description', 'covid-19', 'deceased & covid-19'})\n",
    "assembler = VectorAssembler().setInputCols(cols).setOutputCol('features')\n",
    "finalDf = finalDf.withColumn(\"covid-19\", finalDf[\"covid-19\"].cast(IntegerType())).withColumn(\"deceased & covid-19\", finalDf[\"deceased & covid-19\"].cast(IntegerType()))\n",
    "df = assembler.transform(finalDf)\n",
    "df.printSchema()\n",
    "df = df.dropna()"
   ]
  },
  {
   "cell_type": "markdown",
   "id": "248d266e",
   "metadata": {},
   "source": [
    "## Chi-Sq Selector"
   ]
  },
  {
   "cell_type": "markdown",
   "id": "1aff3851",
   "metadata": {},
   "source": [
    "Deceased"
   ]
  },
  {
   "cell_type": "code",
   "execution_count": 4,
   "id": "92564e2c",
   "metadata": {},
   "outputs": [
    {
     "name": "stderr",
     "output_type": "stream",
     "text": [
      "23/04/03 15:09:06 WARN package: Truncated the string representation of a plan since it was too large. This behavior can be adjusted by setting 'spark.sql.debug.maxToStringFields'.\n",
      "                                                                                \r"
     ]
    }
   ],
   "source": [
    "selector = ChiSqSelector(numTopFeatures=10, featuresCol=\"features\",\n",
    "                         outputCol=\"selectedFeatures\", labelCol=\"deceased\")\n",
    "chiResult = selector.fit(df).transform(df)"
   ]
  },
  {
   "cell_type": "code",
   "execution_count": 5,
   "id": "624934f3",
   "metadata": {},
   "outputs": [
    {
     "name": "stderr",
     "output_type": "stream",
     "text": [
      "                                                                                \r"
     ]
    },
    {
     "name": "stdout",
     "output_type": "stream",
     "text": [
      "Class 0 (deceased= 0):  181515\n"
     ]
    },
    {
     "name": "stderr",
     "output_type": "stream",
     "text": [
      "                                                                                \r"
     ]
    },
    {
     "name": "stdout",
     "output_type": "stream",
     "text": [
      "Class 1 (deceased= 1):  119930\n"
     ]
    },
    {
     "name": "stderr",
     "output_type": "stream",
     "text": [
      "23/04/03 15:10:27 WARN RowBasedKeyValueBatch: Calling spill() on RowBasedKeyValueBatch. Will not spill but return 0.\n",
      "[Stage 90:===================================================>    (11 + 1) / 12]\r"
     ]
    },
    {
     "name": "stdout",
     "output_type": "stream",
     "text": [
      "Accuracy: 0.60\n",
      "Coefficients:  (169,[],[])\n",
      "Intercept:  -0.41285088322284175\n"
     ]
    },
    {
     "name": "stderr",
     "output_type": "stream",
     "text": [
      "\r",
      "                                                                                \r"
     ]
    }
   ],
   "source": [
    "# stratified split\n",
    "class0 = df.filter(df[\"deceased\"]==0)\n",
    "class1 = df.filter(df[\"deceased\"]==1)\n",
    "print(\"Class 0 (deceased= 0): \", class0.count())\n",
    "print(\"Class 1 (deceased= 1): \", class1.count())\n",
    "(train, test) = chiResult.randomSplit([0.8, 0.2])\n",
    "\n",
    "lr = LogisticRegression(maxIter=10, regParam=0.3, elasticNetParam=0.8, labelCol = 'deceased', featuresCol = 'features')\n",
    "lrModel = lr.fit(train)\n",
    "result = lrModel.transform(test)\n",
    "\n",
    "print('Accuracy: {:0.2f}'.format(lrModel.evaluate(test).accuracy))\n",
    "print(\"Coefficients: \", lrModel.coefficients)\n",
    "print(\"Intercept: \", lrModel.intercept)\n"
   ]
  },
  {
   "cell_type": "code",
   "execution_count": 6,
   "id": "5519a0e0",
   "metadata": {},
   "outputs": [
    {
     "name": "stderr",
     "output_type": "stream",
     "text": [
      "23/04/03 15:10:41 WARN RowBasedKeyValueBatch: Calling spill() on RowBasedKeyValueBatch. Will not spill but return 0.\n",
      "23/04/03 15:10:52 WARN RowBasedKeyValueBatch: Calling spill() on RowBasedKeyValueBatch. Will not spill but return 0.\n",
      "23/04/03 15:11:10 WARN RowBasedKeyValueBatch: Calling spill() on RowBasedKeyValueBatch. Will not spill but return 0.\n",
      "[Stage 129:==================================================>    (11 + 1) / 12]\r"
     ]
    },
    {
     "name": "stdout",
     "output_type": "stream",
     "text": [
      "Accuracy: 0.60\n",
      "Coefficients:  (10,[],[])\n",
      "Intercept:  -0.4150127358695301\n"
     ]
    },
    {
     "name": "stderr",
     "output_type": "stream",
     "text": [
      "\r",
      "                                                                                \r"
     ]
    }
   ],
   "source": [
    "(train, test) = chiResult.randomSplit([0.8, 0.2])\n",
    "\n",
    "lr = LogisticRegression(maxIter=10, regParam=0.3, elasticNetParam=0.8, labelCol = 'deceased', featuresCol = 'selectedFeatures')\n",
    "lrModel = lr.fit(train)\n",
    "result = lrModel.transform(test)\n",
    "\n",
    "print('Accuracy: {:0.2f}'.format(lrModel.evaluate(test).accuracy))\n",
    "print(\"Coefficients: \", lrModel.coefficients)\n",
    "print(\"Intercept: \", lrModel.intercept)\n"
   ]
  },
  {
   "cell_type": "markdown",
   "id": "33285fd5",
   "metadata": {},
   "source": [
    "Covid-19"
   ]
  },
  {
   "cell_type": "code",
   "execution_count": 15,
   "id": "23bfc6bf",
   "metadata": {},
   "outputs": [
    {
     "name": "stderr",
     "output_type": "stream",
     "text": [
      "                                                                                \r"
     ]
    }
   ],
   "source": [
    "selector = ChiSqSelector(numTopFeatures=10, featuresCol=\"features\",\n",
    "                         outputCol=\"selectedFeatures\", labelCol=\"covid-19\")\n",
    "chiResult = selector.fit(df).transform(df)"
   ]
  },
  {
   "cell_type": "code",
   "execution_count": 16,
   "id": "50178e01",
   "metadata": {},
   "outputs": [
    {
     "name": "stderr",
     "output_type": "stream",
     "text": [
      "23/04/03 15:17:23 WARN RowBasedKeyValueBatch: Calling spill() on RowBasedKeyValueBatch. Will not spill but return 0.\n",
      "23/04/03 15:17:43 WARN RowBasedKeyValueBatch: Calling spill() on RowBasedKeyValueBatch. Will not spill but return 0.\n",
      "23/04/03 15:18:16 WARN RowBasedKeyValueBatch: Calling spill() on RowBasedKeyValueBatch. Will not spill but return 0.\n",
      "[Stage 200:==================================================>    (11 + 1) / 12]\r"
     ]
    },
    {
     "name": "stdout",
     "output_type": "stream",
     "text": [
      "Accuracy: 0.60\n",
      "Coefficients:  (169,[],[])\n",
      "Intercept:  -0.41288964306645576\n"
     ]
    },
    {
     "name": "stderr",
     "output_type": "stream",
     "text": [
      "\r",
      "                                                                                \r"
     ]
    }
   ],
   "source": [
    "(train, test) = chiResult.randomSplit([0.8, 0.2])\n",
    "\n",
    "lr = LogisticRegression(maxIter=10, regParam=0.3, elasticNetParam=0.8, labelCol = 'deceased', featuresCol = 'features')\n",
    "lrModel = lr.fit(train)\n",
    "result = lrModel.transform(test)\n",
    "\n",
    "print('Accuracy: {:0.2f}'.format(lrModel.evaluate(test).accuracy))\n",
    "print(\"Coefficients: \", lrModel.coefficients)\n",
    "print(\"Intercept: \", lrModel.intercept)\n"
   ]
  },
  {
   "cell_type": "code",
   "execution_count": 17,
   "id": "c8576d16",
   "metadata": {},
   "outputs": [
    {
     "name": "stderr",
     "output_type": "stream",
     "text": [
      "23/04/03 15:18:39 WARN RowBasedKeyValueBatch: Calling spill() on RowBasedKeyValueBatch. Will not spill but return 0.\n",
      "23/04/03 15:18:56 WARN RowBasedKeyValueBatch: Calling spill() on RowBasedKeyValueBatch. Will not spill but return 0.\n",
      "23/04/03 15:19:21 WARN RowBasedKeyValueBatch: Calling spill() on RowBasedKeyValueBatch. Will not spill but return 0.\n",
      "[Stage 239:==================================================>    (11 + 1) / 12]\r"
     ]
    },
    {
     "name": "stdout",
     "output_type": "stream",
     "text": [
      "Accuracy: 0.60\n",
      "Coefficients:  (10,[],[])\n",
      "Intercept:  -0.413241487572899\n"
     ]
    },
    {
     "name": "stderr",
     "output_type": "stream",
     "text": [
      "\r",
      "                                                                                \r"
     ]
    }
   ],
   "source": [
    "(train, test) = chiResult.randomSplit([0.8, 0.2])\n",
    "\n",
    "lr = LogisticRegression(maxIter=10, regParam=0.3, elasticNetParam=0.8, labelCol = 'deceased', featuresCol = 'selectedFeatures')\n",
    "lrModel = lr.fit(train)\n",
    "result = lrModel.transform(test)\n",
    "\n",
    "print('Accuracy: {:0.2f}'.format(lrModel.evaluate(test).accuracy))\n",
    "print(\"Coefficients: \", lrModel.coefficients)\n",
    "print(\"Intercept: \", lrModel.intercept)\n"
   ]
  },
  {
   "cell_type": "markdown",
   "id": "47f110db",
   "metadata": {},
   "source": [
    "Deceased & Covid-19"
   ]
  },
  {
   "cell_type": "code",
   "execution_count": 18,
   "id": "8f4dc13c",
   "metadata": {},
   "outputs": [
    {
     "name": "stderr",
     "output_type": "stream",
     "text": [
      "                                                                                \r"
     ]
    }
   ],
   "source": [
    "selector = ChiSqSelector(numTopFeatures=10, featuresCol=\"features\",\n",
    "                         outputCol=\"selectedFeatures\", labelCol=\"deceased & covid-19\")\n",
    "chiResult = selector.fit(df).transform(df)"
   ]
  },
  {
   "cell_type": "code",
   "execution_count": 19,
   "id": "dd399c0e",
   "metadata": {},
   "outputs": [
    {
     "name": "stderr",
     "output_type": "stream",
     "text": [
      "23/04/03 15:20:31 WARN RowBasedKeyValueBatch: Calling spill() on RowBasedKeyValueBatch. Will not spill but return 0.\n",
      "23/04/03 15:20:47 WARN RowBasedKeyValueBatch: Calling spill() on RowBasedKeyValueBatch. Will not spill but return 0.\n",
      "23/04/03 15:21:16 WARN RowBasedKeyValueBatch: Calling spill() on RowBasedKeyValueBatch. Will not spill but return 0.\n",
      "[Stage 296:==================================================>    (11 + 1) / 12]\r"
     ]
    },
    {
     "name": "stdout",
     "output_type": "stream",
     "text": [
      "Accuracy: 0.60\n",
      "Coefficients:  (169,[],[])\n",
      "Intercept:  -0.415840901103074\n"
     ]
    },
    {
     "name": "stderr",
     "output_type": "stream",
     "text": [
      "\r",
      "                                                                                \r"
     ]
    }
   ],
   "source": [
    "(train, test) = chiResult.randomSplit([0.8, 0.2])\n",
    "\n",
    "lr = LogisticRegression(maxIter=10, regParam=0.3, elasticNetParam=0.8, labelCol = 'deceased', featuresCol = 'features')\n",
    "lrModel = lr.fit(train)\n",
    "result = lrModel.transform(test)\n",
    "\n",
    "print('Accuracy: {:0.2f}'.format(lrModel.evaluate(test).accuracy))\n",
    "print(\"Coefficients: \", lrModel.coefficients)\n",
    "print(\"Intercept: \", lrModel.intercept)\n"
   ]
  },
  {
   "cell_type": "code",
   "execution_count": 20,
   "id": "e94f4fc1",
   "metadata": {},
   "outputs": [
    {
     "name": "stderr",
     "output_type": "stream",
     "text": [
      "23/04/03 15:21:37 WARN RowBasedKeyValueBatch: Calling spill() on RowBasedKeyValueBatch. Will not spill but return 0.\n",
      "23/04/03 15:21:49 WARN RowBasedKeyValueBatch: Calling spill() on RowBasedKeyValueBatch. Will not spill but return 0.\n",
      "23/04/03 15:22:19 WARN RowBasedKeyValueBatch: Calling spill() on RowBasedKeyValueBatch. Will not spill but return 0.\n",
      "[Stage 335:==================================================>    (11 + 1) / 12]\r"
     ]
    },
    {
     "name": "stdout",
     "output_type": "stream",
     "text": [
      "Accuracy: 0.60\n",
      "Coefficients:  (10,[],[])\n",
      "Intercept:  -0.4112559689445507\n"
     ]
    },
    {
     "name": "stderr",
     "output_type": "stream",
     "text": [
      "\r",
      "                                                                                \r"
     ]
    }
   ],
   "source": [
    "(train, test) = chiResult.randomSplit([0.8, 0.2])\n",
    "\n",
    "lr = LogisticRegression(maxIter=10, regParam=0.3, elasticNetParam=0.8, labelCol = 'deceased', featuresCol = 'selectedFeatures')\n",
    "lrModel = lr.fit(train)\n",
    "result = lrModel.transform(test)\n",
    "\n",
    "print('Accuracy: {:0.2f}'.format(lrModel.evaluate(test).accuracy))\n",
    "print(\"Coefficients: \", lrModel.coefficients)\n",
    "print(\"Intercept: \", lrModel.intercept)\n"
   ]
  },
  {
   "cell_type": "markdown",
   "id": "490edac4",
   "metadata": {},
   "source": [
    "## Univariate Selector"
   ]
  },
  {
   "cell_type": "markdown",
   "id": "9e79e76c",
   "metadata": {},
   "source": [
    "Deceased"
   ]
  },
  {
   "cell_type": "code",
   "execution_count": 21,
   "id": "a4f18855",
   "metadata": {},
   "outputs": [
    {
     "name": "stderr",
     "output_type": "stream",
     "text": [
      "                                                                                \r"
     ]
    },
    {
     "name": "stdout",
     "output_type": "stream",
     "text": [
      "UnivariateFeatureSelector output with top 10 features selected using f_classif\n"
     ]
    },
    {
     "name": "stderr",
     "output_type": "stream",
     "text": [
      "[Stage 366:>                                                        (0 + 1) / 1]\r"
     ]
    },
    {
     "name": "stdout",
     "output_type": "stream",
     "text": [
      "+-----------------+----------------+\n",
      "|         features|selectedFeatures|\n",
      "+-----------------+----------------+\n",
      "|(169,[141],[2.0])|      (10,[],[])|\n",
      "|(169,[141],[2.0])|      (10,[],[])|\n",
      "|(169,[141],[2.0])|      (10,[],[])|\n",
      "|(169,[141],[2.0])|      (10,[],[])|\n",
      "|(169,[107],[2.0])|      (10,[],[])|\n",
      "|(169,[107],[2.0])|      (10,[],[])|\n",
      "|(169,[107],[2.0])|      (10,[],[])|\n",
      "|(169,[107],[2.0])|      (10,[],[])|\n",
      "| (169,[30],[2.0])|      (10,[],[])|\n",
      "| (169,[30],[2.0])|      (10,[],[])|\n",
      "| (169,[30],[2.0])|      (10,[],[])|\n",
      "| (169,[30],[2.0])|      (10,[],[])|\n",
      "| (169,[30],[2.0])|      (10,[],[])|\n",
      "| (169,[30],[2.0])|      (10,[],[])|\n",
      "| (169,[31],[2.0])|      (10,[],[])|\n",
      "| (169,[31],[2.0])|      (10,[],[])|\n",
      "| (169,[31],[2.0])|      (10,[],[])|\n",
      "| (169,[31],[2.0])|      (10,[],[])|\n",
      "| (169,[31],[2.0])|      (10,[],[])|\n",
      "| (169,[31],[2.0])|      (10,[],[])|\n",
      "+-----------------+----------------+\n",
      "only showing top 20 rows\n",
      "\n"
     ]
    },
    {
     "name": "stderr",
     "output_type": "stream",
     "text": [
      "\r",
      "                                                                                \r"
     ]
    }
   ],
   "source": [
    "selector = UnivariateFeatureSelector(featuresCol=\"features\", outputCol=\"selectedFeatures\",\n",
    "                                     labelCol=\"deceased\", selectionMode=\"numTopFeatures\")\n",
    "selector.setFeatureType(\"continuous\").setLabelType(\"continuous\").setSelectionThreshold(10)\n",
    "\n",
    "uniResult = selector.fit(df).transform(df)\n",
    "\n",
    "print(\"UnivariateFeatureSelector output with top %d features selected using f_classif\"\n",
    "      % selector.getSelectionThreshold())\n",
    "uniResult.select('features', 'selectedFeatures').show()"
   ]
  },
  {
   "cell_type": "code",
   "execution_count": 22,
   "id": "7f3a3d3e",
   "metadata": {},
   "outputs": [
    {
     "name": "stderr",
     "output_type": "stream",
     "text": [
      "23/04/03 15:24:20 WARN RowBasedKeyValueBatch: Calling spill() on RowBasedKeyValueBatch. Will not spill but return 0.\n",
      "23/04/03 15:24:36 WARN RowBasedKeyValueBatch: Calling spill() on RowBasedKeyValueBatch. Will not spill but return 0.\n",
      "23/04/03 15:25:04 WARN RowBasedKeyValueBatch: Calling spill() on RowBasedKeyValueBatch. Will not spill but return 0.\n",
      "[Stage 426:=============================================>         (10 + 2) / 12]\r"
     ]
    },
    {
     "name": "stdout",
     "output_type": "stream",
     "text": [
      "Accuracy: 0.60\n",
      "Coefficients:  (169,[],[])\n",
      "Intercept:  -0.4129213254738458\n"
     ]
    },
    {
     "name": "stderr",
     "output_type": "stream",
     "text": [
      "\r",
      "[Stage 426:==================================================>    (11 + 1) / 12]\r",
      "\r",
      "                                                                                \r"
     ]
    }
   ],
   "source": [
    "(train, test) = uniResult.randomSplit([0.8, 0.2])\n",
    "chiResult = selector.fit(df).transform(df)\n",
    "lr = LogisticRegression(maxIter=10, regParam=0.3, elasticNetParam=0.8, labelCol = 'deceased', featuresCol = 'features')\n",
    "lrModel = lr.fit(train)\n",
    "result = lrModel.transform(test)\n",
    "\n",
    "print('Accuracy: {:0.2f}'.format(lrModel.evaluate(test).accuracy))\n",
    "print(\"Coefficients: \", lrModel.coefficients)\n",
    "print(\"Intercept: \", lrModel.intercept)"
   ]
  },
  {
   "cell_type": "code",
   "execution_count": 23,
   "id": "cf40184a",
   "metadata": {},
   "outputs": [
    {
     "name": "stderr",
     "output_type": "stream",
     "text": [
      "23/04/03 15:26:01 WARN RowBasedKeyValueBatch: Calling spill() on RowBasedKeyValueBatch. Will not spill but return 0.\n",
      "23/04/03 15:26:11 WARN RowBasedKeyValueBatch: Calling spill() on RowBasedKeyValueBatch. Will not spill but return 0.\n",
      "23/04/03 15:26:28 WARN RowBasedKeyValueBatch: Calling spill() on RowBasedKeyValueBatch. Will not spill but return 0.\n",
      "[Stage 487:==================================================>    (11 + 1) / 12]\r"
     ]
    },
    {
     "name": "stdout",
     "output_type": "stream",
     "text": [
      "Accuracy: 0.60\n",
      "Coefficients:  (10,[],[])\n",
      "Intercept:  -0.41626153246248243\n"
     ]
    },
    {
     "name": "stderr",
     "output_type": "stream",
     "text": [
      "\r",
      "                                                                                \r"
     ]
    }
   ],
   "source": [
    "(train, test) = uniResult.randomSplit([0.8, 0.2])\n",
    "chiResult = selector.fit(df).transform(df)\n",
    "lr = LogisticRegression(maxIter=10, regParam=0.3, elasticNetParam=0.8, labelCol = 'deceased', featuresCol = 'selectedFeatures')\n",
    "lrModel = lr.fit(train)\n",
    "result = lrModel.transform(test)\n",
    "\n",
    "print('Accuracy: {:0.2f}'.format(lrModel.evaluate(test).accuracy))\n",
    "print(\"Coefficients: \", lrModel.coefficients)\n",
    "print(\"Intercept: \", lrModel.intercept)"
   ]
  },
  {
   "cell_type": "markdown",
   "id": "bf9bcc9d",
   "metadata": {},
   "source": [
    "Covid-19"
   ]
  },
  {
   "cell_type": "code",
   "execution_count": 24,
   "id": "bfa3e1bf",
   "metadata": {},
   "outputs": [
    {
     "name": "stderr",
     "output_type": "stream",
     "text": [
      "                                                                                \r"
     ]
    },
    {
     "name": "stdout",
     "output_type": "stream",
     "text": [
      "UnivariateFeatureSelector output with top 10 features selected using f_classif\n"
     ]
    },
    {
     "name": "stderr",
     "output_type": "stream",
     "text": [
      "[Stage 518:>                                                        (0 + 1) / 1]\r"
     ]
    },
    {
     "name": "stdout",
     "output_type": "stream",
     "text": [
      "+-----------------+----------------+\n",
      "|         features|selectedFeatures|\n",
      "+-----------------+----------------+\n",
      "|(169,[141],[2.0])|      (10,[],[])|\n",
      "|(169,[141],[2.0])|      (10,[],[])|\n",
      "|(169,[141],[2.0])|      (10,[],[])|\n",
      "|(169,[141],[2.0])|      (10,[],[])|\n",
      "|(169,[107],[2.0])|      (10,[],[])|\n",
      "|(169,[107],[2.0])|      (10,[],[])|\n",
      "|(169,[107],[2.0])|      (10,[],[])|\n",
      "|(169,[107],[2.0])|      (10,[],[])|\n",
      "| (169,[30],[2.0])|      (10,[],[])|\n",
      "| (169,[30],[2.0])|      (10,[],[])|\n",
      "| (169,[30],[2.0])|      (10,[],[])|\n",
      "| (169,[30],[2.0])|      (10,[],[])|\n",
      "| (169,[30],[2.0])|      (10,[],[])|\n",
      "| (169,[30],[2.0])|      (10,[],[])|\n",
      "| (169,[31],[2.0])|      (10,[],[])|\n",
      "| (169,[31],[2.0])|      (10,[],[])|\n",
      "| (169,[31],[2.0])|      (10,[],[])|\n",
      "| (169,[31],[2.0])|      (10,[],[])|\n",
      "| (169,[31],[2.0])|      (10,[],[])|\n",
      "| (169,[31],[2.0])|      (10,[],[])|\n",
      "+-----------------+----------------+\n",
      "only showing top 20 rows\n",
      "\n"
     ]
    },
    {
     "name": "stderr",
     "output_type": "stream",
     "text": [
      "\r",
      "                                                                                \r"
     ]
    }
   ],
   "source": [
    "selector = UnivariateFeatureSelector(featuresCol=\"features\", outputCol=\"selectedFeatures\",\n",
    "                                     labelCol=\"covid-19\", selectionMode=\"numTopFeatures\")\n",
    "selector.setFeatureType(\"continuous\").setLabelType(\"continuous\").setSelectionThreshold(10)\n",
    "\n",
    "uniResult = selector.fit(df).transform(df)\n",
    "\n",
    "print(\"UnivariateFeatureSelector output with top %d features selected using f_classif\"\n",
    "      % selector.getSelectionThreshold())\n",
    "uniResult.select('features', 'selectedFeatures').show()"
   ]
  },
  {
   "cell_type": "code",
   "execution_count": 25,
   "id": "89cdc2be",
   "metadata": {},
   "outputs": [
    {
     "name": "stderr",
     "output_type": "stream",
     "text": [
      "23/04/03 15:27:35 WARN RowBasedKeyValueBatch: Calling spill() on RowBasedKeyValueBatch. Will not spill but return 0.\n",
      "23/04/03 15:27:46 WARN RowBasedKeyValueBatch: Calling spill() on RowBasedKeyValueBatch. Will not spill but return 0.\n",
      "23/04/03 15:28:03 WARN RowBasedKeyValueBatch: Calling spill() on RowBasedKeyValueBatch. Will not spill but return 0.\n",
      "[Stage 578:==================================================>    (11 + 1) / 12]\r"
     ]
    },
    {
     "name": "stdout",
     "output_type": "stream",
     "text": [
      "Accuracy: 0.61\n",
      "Coefficients:  (169,[],[])\n",
      "Intercept:  -0.44369677052768647\n"
     ]
    },
    {
     "name": "stderr",
     "output_type": "stream",
     "text": [
      "\r",
      "                                                                                \r"
     ]
    }
   ],
   "source": [
    "(train, test) = uniResult.randomSplit([0.8, 0.2])\n",
    "chiResult = selector.fit(df).transform(df)\n",
    "lr = LogisticRegression(maxIter=10, regParam=0.3, elasticNetParam=0.8, labelCol = 'covid-19', featuresCol = 'features')\n",
    "lrModel = lr.fit(train)\n",
    "result = lrModel.transform(test)\n",
    "\n",
    "print('Accuracy: {:0.2f}'.format(lrModel.evaluate(test).accuracy))\n",
    "print(\"Coefficients: \", lrModel.coefficients)\n",
    "print(\"Intercept: \", lrModel.intercept)"
   ]
  },
  {
   "cell_type": "code",
   "execution_count": 26,
   "id": "574c83a2",
   "metadata": {},
   "outputs": [
    {
     "name": "stderr",
     "output_type": "stream",
     "text": [
      "23/04/03 15:28:41 WARN RowBasedKeyValueBatch: Calling spill() on RowBasedKeyValueBatch. Will not spill but return 0.\n",
      "23/04/03 15:28:53 WARN RowBasedKeyValueBatch: Calling spill() on RowBasedKeyValueBatch. Will not spill but return 0.\n",
      "23/04/03 15:29:11 WARN RowBasedKeyValueBatch: Calling spill() on RowBasedKeyValueBatch. Will not spill but return 0.\n",
      "[Stage 639:==================================================>    (11 + 1) / 12]\r"
     ]
    },
    {
     "name": "stdout",
     "output_type": "stream",
     "text": [
      "Accuracy: 0.61\n",
      "Coefficients:  (10,[],[])\n",
      "Intercept:  -0.4463054165039705\n"
     ]
    },
    {
     "name": "stderr",
     "output_type": "stream",
     "text": [
      "\r",
      "                                                                                \r"
     ]
    }
   ],
   "source": [
    "(train, test) = uniResult.randomSplit([0.8, 0.2])\n",
    "chiResult = selector.fit(df).transform(df)\n",
    "lr = LogisticRegression(maxIter=10, regParam=0.3, elasticNetParam=0.8, labelCol = 'covid-19', featuresCol = 'selectedFeatures')\n",
    "lrModel = lr.fit(train)\n",
    "result = lrModel.transform(test)\n",
    "\n",
    "print('Accuracy: {:0.2f}'.format(lrModel.evaluate(test).accuracy))\n",
    "print(\"Coefficients: \", lrModel.coefficients)\n",
    "print(\"Intercept: \", lrModel.intercept)"
   ]
  },
  {
   "cell_type": "markdown",
   "id": "5ed08dc0",
   "metadata": {},
   "source": [
    "Deceased & Covid-19"
   ]
  },
  {
   "cell_type": "code",
   "execution_count": 27,
   "id": "cb00bd44",
   "metadata": {},
   "outputs": [
    {
     "name": "stderr",
     "output_type": "stream",
     "text": [
      "                                                                                \r"
     ]
    },
    {
     "name": "stdout",
     "output_type": "stream",
     "text": [
      "UnivariateFeatureSelector output with top 10 features selected using f_classif\n"
     ]
    },
    {
     "name": "stderr",
     "output_type": "stream",
     "text": [
      "[Stage 670:>                                                        (0 + 1) / 1]\r"
     ]
    },
    {
     "name": "stdout",
     "output_type": "stream",
     "text": [
      "+-----------------+----------------+\n",
      "|         features|selectedFeatures|\n",
      "+-----------------+----------------+\n",
      "|(169,[141],[2.0])|      (10,[],[])|\n",
      "|(169,[141],[2.0])|      (10,[],[])|\n",
      "|(169,[141],[2.0])|      (10,[],[])|\n",
      "|(169,[141],[2.0])|      (10,[],[])|\n",
      "|(169,[107],[2.0])|      (10,[],[])|\n",
      "|(169,[107],[2.0])|      (10,[],[])|\n",
      "|(169,[107],[2.0])|      (10,[],[])|\n",
      "|(169,[107],[2.0])|      (10,[],[])|\n",
      "| (169,[30],[2.0])|      (10,[],[])|\n",
      "| (169,[30],[2.0])|      (10,[],[])|\n",
      "| (169,[30],[2.0])|      (10,[],[])|\n",
      "| (169,[30],[2.0])|      (10,[],[])|\n",
      "| (169,[30],[2.0])|      (10,[],[])|\n",
      "| (169,[30],[2.0])|      (10,[],[])|\n",
      "| (169,[31],[2.0])|      (10,[],[])|\n",
      "| (169,[31],[2.0])|      (10,[],[])|\n",
      "| (169,[31],[2.0])|      (10,[],[])|\n",
      "| (169,[31],[2.0])|      (10,[],[])|\n",
      "| (169,[31],[2.0])|      (10,[],[])|\n",
      "| (169,[31],[2.0])|      (10,[],[])|\n",
      "+-----------------+----------------+\n",
      "only showing top 20 rows\n",
      "\n"
     ]
    },
    {
     "name": "stderr",
     "output_type": "stream",
     "text": [
      "\r",
      "                                                                                \r"
     ]
    }
   ],
   "source": [
    "selector = UnivariateFeatureSelector(featuresCol=\"features\", outputCol=\"selectedFeatures\",\n",
    "                                     labelCol=\"deceased & covid-19\", selectionMode=\"numTopFeatures\")\n",
    "selector.setFeatureType(\"continuous\").setLabelType(\"continuous\").setSelectionThreshold(10)\n",
    "\n",
    "uniResult = selector.fit(df).transform(df)\n",
    "\n",
    "print(\"UnivariateFeatureSelector output with top %d features selected using f_classif\"\n",
    "      % selector.getSelectionThreshold())\n",
    "uniResult.select('features', 'selectedFeatures').show()"
   ]
  },
  {
   "cell_type": "code",
   "execution_count": 28,
   "id": "a82569da",
   "metadata": {},
   "outputs": [
    {
     "name": "stderr",
     "output_type": "stream",
     "text": [
      "23/04/03 15:30:19 WARN RowBasedKeyValueBatch: Calling spill() on RowBasedKeyValueBatch. Will not spill but return 0.\n",
      "23/04/03 15:30:29 WARN RowBasedKeyValueBatch: Calling spill() on RowBasedKeyValueBatch. Will not spill but return 0.\n",
      "23/04/03 15:30:46 WARN RowBasedKeyValueBatch: Calling spill() on RowBasedKeyValueBatch. Will not spill but return 0.\n",
      "[Stage 730:==================================================>    (11 + 1) / 12]\r"
     ]
    },
    {
     "name": "stdout",
     "output_type": "stream",
     "text": [
      "Accuracy: 0.90\n",
      "Coefficients:  (169,[],[])\n",
      "Intercept:  -2.1436520563432877\n"
     ]
    },
    {
     "name": "stderr",
     "output_type": "stream",
     "text": [
      "\r",
      "                                                                                \r"
     ]
    }
   ],
   "source": [
    "(train, test) = uniResult.randomSplit([0.8, 0.2])\n",
    "chiResult = selector.fit(df).transform(df)\n",
    "lr = LogisticRegression(maxIter=10, regParam=0.3, elasticNetParam=0.8, labelCol = 'deceased & covid-19', featuresCol = 'features')\n",
    "lrModel = lr.fit(train)\n",
    "result = lrModel.transform(test)\n",
    "\n",
    "print('Accuracy: {:0.2f}'.format(lrModel.evaluate(test).accuracy))\n",
    "print(\"Coefficients: \", lrModel.coefficients)\n",
    "print(\"Intercept: \", lrModel.intercept)"
   ]
  },
  {
   "cell_type": "code",
   "execution_count": null,
   "id": "384383ee",
   "metadata": {},
   "outputs": [
    {
     "name": "stderr",
     "output_type": "stream",
     "text": [
      "23/04/03 15:31:24 WARN RowBasedKeyValueBatch: Calling spill() on RowBasedKeyValueBatch. Will not spill but return 0.\n",
      "23/04/03 15:31:34 WARN RowBasedKeyValueBatch: Calling spill() on RowBasedKeyValueBatch. Will not spill but return 0.\n",
      "[Stage 791:>                                                      (0 + 12) / 12]\r"
     ]
    }
   ],
   "source": [
    "(train, test) = uniResult.randomSplit([0.8, 0.2])\n",
    "chiResult = selector.fit(df).transform(df)\n",
    "lr = LogisticRegression(maxIter=10, regParam=0.3, elasticNetParam=0.8, labelCol = 'deceased & covid-19', featuresCol = 'selectedFeatures')\n",
    "lrModel = lr.fit(train)\n",
    "result = lrModel.transform(test)\n",
    "\n",
    "print('Accuracy: {:0.2f}'.format(lrModel.evaluate(test).accuracy))\n",
    "print(\"Coefficients: \", lrModel.coefficients)\n",
    "print(\"Intercept: \", lrModel.intercept)"
   ]
  },
  {
   "cell_type": "code",
   "execution_count": null,
   "id": "8ac573ef",
   "metadata": {},
   "outputs": [],
   "source": []
  }
 ],
 "metadata": {
  "kernelspec": {
   "display_name": "Python [conda env:spark] *",
   "language": "python",
   "name": "conda-env-spark-py"
  },
  "language_info": {
   "codemirror_mode": {
    "name": "ipython",
    "version": 3
   },
   "file_extension": ".py",
   "mimetype": "text/x-python",
   "name": "python",
   "nbconvert_exporter": "python",
   "pygments_lexer": "ipython3",
   "version": "3.8.16"
  }
 },
 "nbformat": 4,
 "nbformat_minor": 5
}
