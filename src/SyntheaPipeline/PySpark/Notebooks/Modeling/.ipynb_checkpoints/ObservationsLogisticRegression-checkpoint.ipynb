{
 "cells": [
  {
   "cell_type": "markdown",
   "id": "e0347376",
   "metadata": {},
   "source": [
    "## Logisitic Regression Model"
   ]
  },
  {
   "cell_type": "code",
   "execution_count": null,
   "id": "bc967fa9",
   "metadata": {
    "scrolled": true
   },
   "outputs": [],
   "source": [
    "import findspark\n",
    "findspark.init()\n",
    "findspark.find()\n",
    "\n",
    "from pyspark.sql import SparkSession\n",
    "spark = SparkSession.builder.appName('LR').getOrCreate()\n",
    "\n",
    "from pyspark.ml.classification import RandomForestClassifier\n",
    "from pyspark.ml.feature import VectorSlicer, VectorAssembler, ChiSqSelector, VectorIndexer, UnivariateFeatureSelector, VarianceThresholdSelector\n",
    "from pyspark.sql.functions import *\n",
    "import numpy as np\n",
    "from pyspark.sql.types import IntegerType\n",
    "from pyspark.ml.classification import LogisticRegression\n",
    "from pyspark.mllib.evaluation import RegressionMetrics\n"
   ]
  },
  {
   "cell_type": "code",
   "execution_count": null,
   "id": "f59e8bff",
   "metadata": {},
   "outputs": [],
   "source": [
    "df = spark.read.option(\"header\",True).csv('../../synthea-sample-data/data/10k_synthea_covid19_csv/observations.csv').select('PATIENT','Code', 'Description')\n",
    "deathDf = spark.read.option(\"header\",True).csv('../../synthea-sample-data/data/10k_synthea_covid19_csv/patients.csv').select('Id', 'DEATHDATE')\n",
    "deadSet = df.join(deathDf, (df.PATIENT == deathDf.Id)).na.drop().drop('Id', 'Code')\n",
    "labels = spark.read.option(\"header\",True).csv('../FeatureSelection/dfCovid_DeceasedCovid.csv').select('PATIENT', 'covid-19', 'deceased & covid-19')\n",
    "\n",
    "merged = df.join(deathDf, (df.PATIENT == deathDf.Id), 'left').drop( 'Id')\n",
    "\n",
    "merged = merged.withColumn('deceased', when(col('DEATHDATE').isNotNull(), 1)).na.fill(0)\n",
    "merged = merged.join(labels, ('PATIENT'), 'left').dropDuplicates()"
   ]
  },
  {
   "cell_type": "code",
   "execution_count": null,
   "id": "9c2b2575",
   "metadata": {},
   "outputs": [],
   "source": [
    "groupedDf = merged.groupBy(\"PATIENT\", 'Code').pivot(\"Code\").agg(count(\"Code\").alias(\"count\")).na.fill(0)\n",
    "merged =merged.select('PATIENT', 'deceased', 'covid-19', 'deceased & covid-19')\n",
    "finalDf = groupedDf.join(merged, ['PATIENT'], 'left')\n",
    "cols = list(set(finalDf.columns) - {'PATIENT', 'deceased', 'Code', 'Description', 'covid-19', 'deceased & covid-19'})\n",
    "assembler = VectorAssembler().setInputCols(cols).setOutputCol('features')\n",
    "finalDf = finalDf.withColumn(\"covid-19\", finalDf[\"covid-19\"].cast(IntegerType())).withColumn(\"deceased & covid-19\", finalDf[\"deceased & covid-19\"].cast(IntegerType()))\n",
    "df = assembler.transform(finalDf)\n",
    "df.printSchema()"
   ]
  },
  {
   "cell_type": "markdown",
   "id": "5c6c79a1",
   "metadata": {},
   "source": [
    "### Chi-Sq Selector"
   ]
  },
  {
   "cell_type": "code",
   "execution_count": null,
   "id": "b7d51729",
   "metadata": {},
   "outputs": [],
   "source": [
    "selector = ChiSqSelector(numTopFeatures=10, featuresCol=\"features\",\n",
    "                         outputCol=\"selectedFeatures\", labelCol=\"deceased\")\n",
    "chiResult = selector.fit(df).transform(df)"
   ]
  },
  {
   "cell_type": "markdown",
   "id": "a442df13",
   "metadata": {},
   "source": [
    "Deceased"
   ]
  },
  {
   "cell_type": "code",
   "execution_count": null,
   "id": "30ec8e49",
   "metadata": {},
   "outputs": [],
   "source": [
    "# stratified split\n",
    "class0 = df.filter(df[\"deceased\"]==0)\n",
    "class1 = df.filter(df[\"deceased\"]==1)\n",
    "print(\"Class 0 (deceased= 0): \", class0.count())\n",
    "print(\"Class 1 (deceased= 1): \", class1.count())\n",
    "(train, test) = chiResult.randomSplit([0.8, 0.2])\n",
    "\n",
    "lr = LogisticRegression(maxIter=10, regParam=0.3, elasticNetParam=0.8, labelCol = 'deceased', featuresCol = 'features')\n",
    "lrModel = lr.fit(train)\n",
    "result = lrModel.transform(test)\n",
    "\n",
    "print('Accuracy: {:0.2f}'.format(lrModel.evaluate(test).accuracy))\n",
    "print(\"Coefficients: \", lrModel.coefficients)\n",
    "print(\"Intercept: \", lrModel.intercept)\n"
   ]
  },
  {
   "cell_type": "code",
   "execution_count": null,
   "id": "7806b94b",
   "metadata": {},
   "outputs": [],
   "source": [
    "(train, test) = chiResult.randomSplit([0.8, 0.2])\n",
    "\n",
    "lr = LogisticRegression(maxIter=10, regParam=0.3, elasticNetParam=0.8, labelCol = 'deceased', featuresCol = 'selectedFeatures')\n",
    "lrModel = lr.fit(train)\n",
    "result = lrModel.transform(test)\n",
    "\n",
    "print('Accuracy: {:0.2f}'.format(lrModel.evaluate(test).accuracy))\n",
    "print(\"Coefficients: \", lrModel.coefficients)\n",
    "print(\"Intercept: \", lrModel.intercept)\n"
   ]
  },
  {
   "cell_type": "markdown",
   "id": "58d88f6c",
   "metadata": {},
   "source": [
    "Covid-19"
   ]
  },
  {
   "cell_type": "code",
   "execution_count": null,
   "id": "8cbb7ad8",
   "metadata": {},
   "outputs": [],
   "source": [
    "selector = ChiSqSelector(numTopFeatures=10, featuresCol=\"features\",\n",
    "                         outputCol=\"selectedFeatures\", labelCol=\"covid-19\")\n",
    "chiResult = selector.fit(df).transform(df)"
   ]
  },
  {
   "cell_type": "code",
   "execution_count": null,
   "id": "fd0788dd",
   "metadata": {},
   "outputs": [],
   "source": [
    "(train, test) = chiResult.randomSplit([0.8, 0.2])\n",
    "\n",
    "lr = LogisticRegression(maxIter=10, regParam=0.3, elasticNetParam=0.8, labelCol = 'deceased', featuresCol = 'features')\n",
    "lrModel = lr.fit(train)\n",
    "result = lrModel.transform(test)\n",
    "\n",
    "print('Accuracy: {:0.2f}'.format(lrModel.evaluate(test).accuracy))\n",
    "print(\"Coefficients: \", lrModel.coefficients)\n",
    "print(\"Intercept: \", lrModel.intercept)\n"
   ]
  },
  {
   "cell_type": "code",
   "execution_count": null,
   "id": "abbf6c51",
   "metadata": {},
   "outputs": [],
   "source": [
    "(train, test) = chiResult.randomSplit([0.8, 0.2])\n",
    "\n",
    "lr = LogisticRegression(maxIter=10, regParam=0.3, elasticNetParam=0.8, labelCol = 'deceased', featuresCol = 'selectedFeatures')\n",
    "lrModel = lr.fit(train)\n",
    "result = lrModel.transform(test)\n",
    "\n",
    "print('Accuracy: {:0.2f}'.format(lrModel.evaluate(test).accuracy))\n",
    "print(\"Coefficients: \", lrModel.coefficients)\n",
    "print(\"Intercept: \", lrModel.intercept)\n"
   ]
  },
  {
   "cell_type": "markdown",
   "id": "ec148c1b",
   "metadata": {},
   "source": [
    "Deceased & Covid-19"
   ]
  },
  {
   "cell_type": "code",
   "execution_count": null,
   "id": "a60dbe89",
   "metadata": {},
   "outputs": [],
   "source": [
    "selector = ChiSqSelector(numTopFeatures=10, featuresCol=\"features\",\n",
    "                         outputCol=\"selectedFeatures\", labelCol=\"deceased & covid-19\")\n",
    "chiResult = selector.fit(df).transform(df)"
   ]
  },
  {
   "cell_type": "code",
   "execution_count": null,
   "id": "ba1f0678",
   "metadata": {},
   "outputs": [],
   "source": [
    "(train, test) = chiResult.randomSplit([0.8, 0.2])\n",
    "\n",
    "lr = LogisticRegression(maxIter=10, regParam=0.3, elasticNetParam=0.8, labelCol = 'deceased', featuresCol = 'features')\n",
    "lrModel = lr.fit(train)\n",
    "result = lrModel.transform(test)\n",
    "\n",
    "print('Accuracy: {:0.2f}'.format(lrModel.evaluate(test).accuracy))\n",
    "print(\"Coefficients: \", lrModel.coefficients)\n",
    "print(\"Intercept: \", lrModel.intercept)\n"
   ]
  },
  {
   "cell_type": "code",
   "execution_count": null,
   "id": "92fd4f10",
   "metadata": {},
   "outputs": [],
   "source": [
    "(train, test) = chiResult.randomSplit([0.8, 0.2])\n",
    "\n",
    "lr = LogisticRegression(maxIter=10, regParam=0.3, elasticNetParam=0.8, labelCol = 'deceased', featuresCol = 'selectedFeatures')\n",
    "lrModel = lr.fit(train)\n",
    "result = lrModel.transform(test)\n",
    "\n",
    "print('Accuracy: {:0.2f}'.format(lrModel.evaluate(test).accuracy))\n",
    "print(\"Coefficients: \", lrModel.coefficients)\n",
    "print(\"Intercept: \", lrModel.intercept)\n"
   ]
  },
  {
   "cell_type": "markdown",
   "id": "6b7d07bb",
   "metadata": {},
   "source": [
    "### Univariate Selector"
   ]
  },
  {
   "cell_type": "markdown",
   "id": "f8e62614",
   "metadata": {},
   "source": [
    "Deceased"
   ]
  },
  {
   "cell_type": "code",
   "execution_count": null,
   "id": "facdde0d",
   "metadata": {},
   "outputs": [],
   "source": [
    "selector = UnivariateFeatureSelector(featuresCol=\"features\", outputCol=\"selectedFeatures\",\n",
    "                                     labelCol=\"deceased\", selectionMode=\"numTopFeatures\")\n",
    "selector.setFeatureType(\"continuous\").setLabelType(\"continuous\").setSelectionThreshold(10)\n",
    "\n",
    "uniResult = selector.fit(df).transform(df)\n",
    "\n",
    "print(\"UnivariateFeatureSelector output with top %d features selected using f_classif\"\n",
    "      % selector.getSelectionThreshold())\n",
    "uniResult.select('features', 'selectedFeatures').show()"
   ]
  },
  {
   "cell_type": "code",
   "execution_count": null,
   "id": "9daf0a57",
   "metadata": {},
   "outputs": [],
   "source": [
    "(train, test) = uniResult.randomSplit([0.8, 0.2])\n",
    "chiResult = selector.fit(df).transform(df)\n",
    "lr = LogisticRegression(maxIter=10, regParam=0.3, elasticNetParam=0.8, labelCol = 'deceased', featuresCol = 'features')\n",
    "lrModel = lr.fit(train)\n",
    "result = lrModel.transform(test)\n",
    "\n",
    "print('Accuracy: {:0.2f}'.format(lrModel.evaluate(test).accuracy))\n",
    "print(\"Coefficients: \", lrModel.coefficients)\n",
    "print(\"Intercept: \", lrModel.intercept)"
   ]
  },
  {
   "cell_type": "code",
   "execution_count": null,
   "id": "7dc625a1",
   "metadata": {},
   "outputs": [],
   "source": [
    "(train, test) = uniResult.randomSplit([0.8, 0.2])\n",
    "chiResult = selector.fit(df).transform(df)\n",
    "lr = LogisticRegression(maxIter=10, regParam=0.3, elasticNetParam=0.8, labelCol = 'deceased', featuresCol = 'selectedFeatures')\n",
    "lrModel = lr.fit(train)\n",
    "result = lrModel.transform(test)\n",
    "\n",
    "print('Accuracy: {:0.2f}'.format(lrModel.evaluate(test).accuracy))\n",
    "print(\"Coefficients: \", lrModel.coefficients)\n",
    "print(\"Intercept: \", lrModel.intercept)"
   ]
  },
  {
   "cell_type": "markdown",
   "id": "db99f8e5",
   "metadata": {},
   "source": [
    "Covid-19"
   ]
  },
  {
   "cell_type": "code",
   "execution_count": null,
   "id": "3df0a4da",
   "metadata": {},
   "outputs": [],
   "source": [
    "selector = UnivariateFeatureSelector(featuresCol=\"features\", outputCol=\"selectedFeatures\",\n",
    "                                     labelCol=\"covid-19\", selectionMode=\"numTopFeatures\")\n",
    "selector.setFeatureType(\"continuous\").setLabelType(\"continuous\").setSelectionThreshold(10)\n",
    "\n",
    "uniResult = selector.fit(df).transform(df)\n",
    "\n",
    "print(\"UnivariateFeatureSelector output with top %d features selected using f_classif\"\n",
    "      % selector.getSelectionThreshold())\n",
    "uniResult.select('features', 'selectedFeatures').show()"
   ]
  },
  {
   "cell_type": "code",
   "execution_count": null,
   "id": "1268f425",
   "metadata": {},
   "outputs": [],
   "source": [
    "(train, test) = uniResult.randomSplit([0.8, 0.2])\n",
    "chiResult = selector.fit(df).transform(df)\n",
    "lr = LogisticRegression(maxIter=10, regParam=0.3, elasticNetParam=0.8, labelCol = 'covid-19', featuresCol = 'features')\n",
    "lrModel = lr.fit(train)\n",
    "result = lrModel.transform(test)\n",
    "\n",
    "print('Accuracy: {:0.2f}'.format(lrModel.evaluate(test).accuracy))\n",
    "print(\"Coefficients: \", lrModel.coefficients)\n",
    "print(\"Intercept: \", lrModel.intercept)"
   ]
  },
  {
   "cell_type": "code",
   "execution_count": null,
   "id": "942c3993",
   "metadata": {},
   "outputs": [],
   "source": [
    "(train, test) = uniResult.randomSplit([0.8, 0.2])\n",
    "chiResult = selector.fit(df).transform(df)\n",
    "lr = LogisticRegression(maxIter=10, regParam=0.3, elasticNetParam=0.8, labelCol = 'covid-19', featuresCol = 'selectedFeatures')\n",
    "lrModel = lr.fit(train)\n",
    "result = lrModel.transform(test)\n",
    "\n",
    "print('Accuracy: {:0.2f}'.format(lrModel.evaluate(test).accuracy))\n",
    "print(\"Coefficients: \", lrModel.coefficients)\n",
    "print(\"Intercept: \", lrModel.intercept)"
   ]
  },
  {
   "cell_type": "markdown",
   "id": "67d9809e",
   "metadata": {},
   "source": [
    "Deceased & Covid-19"
   ]
  },
  {
   "cell_type": "code",
   "execution_count": null,
   "id": "8df9bf96",
   "metadata": {},
   "outputs": [],
   "source": [
    "selector = UnivariateFeatureSelector(featuresCol=\"features\", outputCol=\"selectedFeatures\",\n",
    "                                     labelCol=\"deceased & covid-19\", selectionMode=\"numTopFeatures\")\n",
    "selector.setFeatureType(\"continuous\").setLabelType(\"continuous\").setSelectionThreshold(10)\n",
    "\n",
    "uniResult = selector.fit(df).transform(df)\n",
    "\n",
    "print(\"UnivariateFeatureSelector output with top %d features selected using f_classif\"\n",
    "      % selector.getSelectionThreshold())\n",
    "uniResult.select('features', 'selectedFeatures').show()"
   ]
  },
  {
   "cell_type": "code",
   "execution_count": null,
   "id": "788db733",
   "metadata": {},
   "outputs": [],
   "source": [
    "(train, test) = uniResult.randomSplit([0.8, 0.2])\n",
    "chiResult = selector.fit(df).transform(df)\n",
    "lr = LogisticRegression(maxIter=10, regParam=0.3, elasticNetParam=0.8, labelCol = 'deceased & covid-19', featuresCol = 'features')\n",
    "lrModel = lr.fit(train)\n",
    "result = lrModel.transform(test)\n",
    "\n",
    "print('Accuracy: {:0.2f}'.format(lrModel.evaluate(test).accuracy))\n",
    "print(\"Coefficients: \", lrModel.coefficients)\n",
    "print(\"Intercept: \", lrModel.intercept)"
   ]
  },
  {
   "cell_type": "code",
   "execution_count": null,
   "id": "ecb25753",
   "metadata": {},
   "outputs": [],
   "source": [
    "(train, test) = uniResult.randomSplit([0.8, 0.2])\n",
    "chiResult = selector.fit(df).transform(df)\n",
    "lr = LogisticRegression(maxIter=10, regParam=0.3, elasticNetParam=0.8, labelCol = 'deceased & covid-19', featuresCol = 'selectedFeatures')\n",
    "lrModel = lr.fit(train)\n",
    "result = lrModel.transform(test)\n",
    "\n",
    "print('Accuracy: {:0.2f}'.format(lrModel.evaluate(test).accuracy))\n",
    "print(\"Coefficients: \", lrModel.coefficients)\n",
    "print(\"Intercept: \", lrModel.intercept)"
   ]
  },
  {
   "cell_type": "code",
   "execution_count": null,
   "id": "98267c02",
   "metadata": {},
   "outputs": [],
   "source": []
  },
  {
   "cell_type": "code",
   "execution_count": null,
   "id": "d11690ab",
   "metadata": {},
   "outputs": [],
   "source": []
  }
 ],
 "metadata": {
  "kernelspec": {
   "display_name": "Python 3 (ipykernel)",
   "language": "python",
   "name": "python3"
  },
  "language_info": {
   "codemirror_mode": {
    "name": "ipython",
    "version": 3
   },
   "file_extension": ".py",
   "mimetype": "text/x-python",
   "name": "python",
   "nbconvert_exporter": "python",
   "pygments_lexer": "ipython3",
   "version": "3.9.12"
  }
 },
 "nbformat": 4,
 "nbformat_minor": 5
}
