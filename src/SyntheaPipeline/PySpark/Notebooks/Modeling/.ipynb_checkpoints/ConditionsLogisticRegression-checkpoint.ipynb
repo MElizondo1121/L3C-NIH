{
 "cells": [
  {
   "cell_type": "code",
   "execution_count": 7,
   "id": "977a0886",
   "metadata": {},
   "outputs": [],
   "source": [
    "import findspark\n",
    "findspark.init()\n",
    "findspark.find()\n",
    "\n",
    "from pyspark.sql import SparkSession\n",
    "spark = SparkSession.builder.appName('LR').getOrCreate()\n",
    "\n",
    "from pyspark.ml.classification import RandomForestClassifier\n",
    "from pyspark.ml.feature import VectorSlicer, VectorAssembler, ChiSqSelector, VectorIndexer, UnivariateFeatureSelector, VarianceThresholdSelector\n",
    "from pyspark.sql.functions import *\n",
    "import numpy as np\n",
    "from pyspark.sql.types import IntegerType"
   ]
  },
  {
   "cell_type": "code",
   "execution_count": 8,
   "id": "337fe263",
   "metadata": {},
   "outputs": [],
   "source": [
    "df = spark.read.option(\"header\",True).csv('../../synthea-sample-data/data/10k_synthea_covid19_csv/conditions.csv').select('PATIENT','Code', 'Description')\n",
    "deathDf = spark.read.option(\"header\",True).csv('../../synthea-sample-data/data/10k_synthea_covid19_csv/patients.csv').select('Id', 'DEATHDATE')\n",
    "deadSet = df.join(deathDf, (df.PATIENT == deathDf.Id)).na.drop().drop('Id', 'Code')\n",
    "labels = spark.read.option(\"header\",True).csv('../FeatureSelection/dfCovid_DeceasedCovid.csv').select('PATIENT', 'covid-19', 'deceased & covid-19')\n",
    "\n",
    "merged = df.join(deathDf, (df.PATIENT == deathDf.Id), 'left').drop( 'Id')\n",
    "\n",
    "merged = merged.withColumn('deceased', when(col('DEATHDATE').isNotNull(), 1)).na.fill(0)\n",
    "merged = merged.join(labels, ('PATIENT'), 'left').dropDuplicates()"
   ]
  },
  {
   "cell_type": "code",
   "execution_count": 9,
   "id": "fff2bd9a",
   "metadata": {},
   "outputs": [
    {
     "name": "stdout",
     "output_type": "stream",
     "text": [
      "root\n",
      " |-- PATIENT: string (nullable = true)\n",
      " |-- Code: string (nullable = true)\n",
      " |-- 10509002: long (nullable = true)\n",
      " |-- 109838007: long (nullable = true)\n",
      " |-- 110030002: long (nullable = true)\n",
      " |-- 124171000119105: long (nullable = true)\n",
      " |-- 126906006: long (nullable = true)\n",
      " |-- 127013003: long (nullable = true)\n",
      " |-- 127295002: long (nullable = true)\n",
      " |-- 128613002: long (nullable = true)\n",
      " |-- 132281000119108: long (nullable = true)\n",
      " |-- 1501000119109: long (nullable = true)\n",
      " |-- 1551000119108: long (nullable = true)\n",
      " |-- 156073000: long (nullable = true)\n",
      " |-- 157141000119108: long (nullable = true)\n",
      " |-- 15777000: long (nullable = true)\n",
      " |-- 16114001: long (nullable = true)\n",
      " |-- 161622006: long (nullable = true)\n",
      " |-- 162573006: long (nullable = true)\n",
      " |-- 162864005: long (nullable = true)\n",
      " |-- 1734006: long (nullable = true)\n",
      " |-- 185086009: long (nullable = true)\n",
      " |-- 190905008: long (nullable = true)\n",
      " |-- 19169002: long (nullable = true)\n",
      " |-- 192127007: long (nullable = true)\n",
      " |-- 195662009: long (nullable = true)\n",
      " |-- 195967001: long (nullable = true)\n",
      " |-- 196416002: long (nullable = true)\n",
      " |-- 197927001: long (nullable = true)\n",
      " |-- 198992004: long (nullable = true)\n",
      " |-- 200936003: long (nullable = true)\n",
      " |-- 201834006: long (nullable = true)\n",
      " |-- 22298006: long (nullable = true)\n",
      " |-- 225444004: long (nullable = true)\n",
      " |-- 230265002: long (nullable = true)\n",
      " |-- 230690007: long (nullable = true)\n",
      " |-- 232353008: long (nullable = true)\n",
      " |-- 233604007: long (nullable = true)\n",
      " |-- 233678006: long (nullable = true)\n",
      " |-- 234466008: long (nullable = true)\n",
      " |-- 235919008: long (nullable = true)\n",
      " |-- 236077008: long (nullable = true)\n",
      " |-- 237602007: long (nullable = true)\n",
      " |-- 239720000: long (nullable = true)\n",
      " |-- 239872002: long (nullable = true)\n",
      " |-- 239873007: long (nullable = true)\n",
      " |-- 24079001: long (nullable = true)\n",
      " |-- 241929008: long (nullable = true)\n",
      " |-- 246677007: long (nullable = true)\n",
      " |-- 248595008: long (nullable = true)\n",
      " |-- 249497008: long (nullable = true)\n",
      " |-- 25064002: long (nullable = true)\n",
      " |-- 254632001: long (nullable = true)\n",
      " |-- 254637007: long (nullable = true)\n",
      " |-- 254837009: long (nullable = true)\n",
      " |-- 262574004: long (nullable = true)\n",
      " |-- 263102004: long (nullable = true)\n",
      " |-- 267036007: long (nullable = true)\n",
      " |-- 267060006: long (nullable = true)\n",
      " |-- 267102003: long (nullable = true)\n",
      " |-- 26929004: long (nullable = true)\n",
      " |-- 271737000: long (nullable = true)\n",
      " |-- 271825005: long (nullable = true)\n",
      " |-- 275272006: long (nullable = true)\n",
      " |-- 283371005: long (nullable = true)\n",
      " |-- 283385000: long (nullable = true)\n",
      " |-- 284549007: long (nullable = true)\n",
      " |-- 284551006: long (nullable = true)\n",
      " |-- 301011002: long (nullable = true)\n",
      " |-- 302870006: long (nullable = true)\n",
      " |-- 307731004: long (nullable = true)\n",
      " |-- 30832001: long (nullable = true)\n",
      " |-- 314994000: long (nullable = true)\n",
      " |-- 33737001: long (nullable = true)\n",
      " |-- 359817006: long (nullable = true)\n",
      " |-- 35999006: long (nullable = true)\n",
      " |-- 363406005: long (nullable = true)\n",
      " |-- 367498001: long (nullable = true)\n",
      " |-- 368581000119106: long (nullable = true)\n",
      " |-- 36955009: long (nullable = true)\n",
      " |-- 36971009: long (nullable = true)\n",
      " |-- 370143000: long (nullable = true)\n",
      " |-- 370247008: long (nullable = true)\n",
      " |-- 386661006: long (nullable = true)\n",
      " |-- 38822007: long (nullable = true)\n",
      " |-- 389087006: long (nullable = true)\n",
      " |-- 398254007: long (nullable = true)\n",
      " |-- 39848009: long (nullable = true)\n",
      " |-- 399211009: long (nullable = true)\n",
      " |-- 40055000: long (nullable = true)\n",
      " |-- 40095003: long (nullable = true)\n",
      " |-- 40275004: long (nullable = true)\n",
      " |-- 403190006: long (nullable = true)\n",
      " |-- 403191005: long (nullable = true)\n",
      " |-- 403192003: long (nullable = true)\n",
      " |-- 408512008: long (nullable = true)\n",
      " |-- 410429000: long (nullable = true)\n",
      " |-- 422034002: long (nullable = true)\n",
      " |-- 422587007: long (nullable = true)\n",
      " |-- 424132000: long (nullable = true)\n",
      " |-- 427089005: long (nullable = true)\n",
      " |-- 428251008: long (nullable = true)\n",
      " |-- 429007001: long (nullable = true)\n",
      " |-- 429280009: long (nullable = true)\n",
      " |-- 431855005: long (nullable = true)\n",
      " |-- 431856006: long (nullable = true)\n",
      " |-- 433144002: long (nullable = true)\n",
      " |-- 43724002: long (nullable = true)\n",
      " |-- 43878008: long (nullable = true)\n",
      " |-- 44054006: long (nullable = true)\n",
      " |-- 443165006: long (nullable = true)\n",
      " |-- 444448004: long (nullable = true)\n",
      " |-- 444470001: long (nullable = true)\n",
      " |-- 44465007: long (nullable = true)\n",
      " |-- 444814009: long (nullable = true)\n",
      " |-- 446096008: long (nullable = true)\n",
      " |-- 449868002: long (nullable = true)\n",
      " |-- 47200007: long (nullable = true)\n",
      " |-- 47505003: long (nullable = true)\n",
      " |-- 47693006: long (nullable = true)\n",
      " |-- 48333001: long (nullable = true)\n",
      " |-- 49436004: long (nullable = true)\n",
      " |-- 49727002: long (nullable = true)\n",
      " |-- 53741008: long (nullable = true)\n",
      " |-- 55680006: long (nullable = true)\n",
      " |-- 55822004: long (nullable = true)\n",
      " |-- 56018004: long (nullable = true)\n",
      " |-- 5602001: long (nullable = true)\n",
      " |-- 57676002: long (nullable = true)\n",
      " |-- 58150001: long (nullable = true)\n",
      " |-- 59621000: long (nullable = true)\n",
      " |-- 6072007: long (nullable = true)\n",
      " |-- 60951000119105: long (nullable = true)\n",
      " |-- 62106007: long (nullable = true)\n",
      " |-- 62564004: long (nullable = true)\n",
      " |-- 64859006: long (nullable = true)\n",
      " |-- 65275009: long (nullable = true)\n",
      " |-- 65363002: long (nullable = true)\n",
      " |-- 65710008: long (nullable = true)\n",
      " |-- 65966004: long (nullable = true)\n",
      " |-- 66857006: long (nullable = true)\n",
      " |-- 67782005: long (nullable = true)\n",
      " |-- 67811000119102: long (nullable = true)\n",
      " |-- 68235000: long (nullable = true)\n",
      " |-- 68496003: long (nullable = true)\n",
      " |-- 68962001: long (nullable = true)\n",
      " |-- 698423002: long (nullable = true)\n",
      " |-- 698754002: long (nullable = true)\n",
      " |-- 69896004: long (nullable = true)\n",
      " |-- 703151001: long (nullable = true)\n",
      " |-- 706870000: long (nullable = true)\n",
      " |-- 70704007: long (nullable = true)\n",
      " |-- 707577004: long (nullable = true)\n",
      " |-- 713197008: long (nullable = true)\n",
      " |-- 7200002: long (nullable = true)\n",
      " |-- 72892002: long (nullable = true)\n",
      " |-- 74400008: long (nullable = true)\n",
      " |-- 75498004: long (nullable = true)\n",
      " |-- 76571007: long (nullable = true)\n",
      " |-- 770349000: long (nullable = true)\n",
      " |-- 79586000: long (nullable = true)\n",
      " |-- 80394007: long (nullable = true)\n",
      " |-- 82423001: long (nullable = true)\n",
      " |-- 83664006: long (nullable = true)\n",
      " |-- 840539006: long (nullable = true)\n",
      " |-- 840544004: long (nullable = true)\n",
      " |-- 84114007: long (nullable = true)\n",
      " |-- 84229001: long (nullable = true)\n",
      " |-- 84757009: long (nullable = true)\n",
      " |-- 86175003: long (nullable = true)\n",
      " |-- 87433001: long (nullable = true)\n",
      " |-- 87628006: long (nullable = true)\n",
      " |-- 88805009: long (nullable = true)\n",
      " |-- 90560007: long (nullable = true)\n",
      " |-- 90781000119102: long (nullable = true)\n",
      " |-- 92691004: long (nullable = true)\n",
      " |-- 93761005: long (nullable = true)\n",
      " |-- 94260004: long (nullable = true)\n",
      " |-- 95417003: long (nullable = true)\n",
      " |-- 97331000119101: long (nullable = true)\n",
      " |-- deceased: integer (nullable = true)\n",
      " |-- covid-19: integer (nullable = true)\n",
      " |-- deceased & covid-19: integer (nullable = true)\n",
      " |-- features: vector (nullable = true)\n",
      "\n"
     ]
    }
   ],
   "source": [
    "groupedDf = merged.groupBy(\"PATIENT\", 'Code').pivot(\"Code\").agg(count(\"Code\").alias(\"count\")).na.fill(0)\n",
    "merged =merged.select('PATIENT', 'deceased', 'covid-19', 'deceased & covid-19')\n",
    "finalDf = groupedDf.join(merged, ['PATIENT'], 'left')\n",
    "cols = list(set(finalDf.columns) - {'PATIENT', 'deceased', 'Code', 'Description', 'covid-19', 'deceased & covid-19'})\n",
    "assembler = VectorAssembler().setInputCols(cols).setOutputCol('features')\n",
    "finalDf = finalDf.withColumn(\"covid-19\", finalDf[\"covid-19\"].cast(IntegerType())).withColumn(\"deceased & covid-19\", finalDf[\"deceased & covid-19\"].cast(IntegerType()))\n",
    "df = assembler.transform(finalDf)\n",
    "df.printSchema()"
   ]
  },
  {
   "cell_type": "markdown",
   "id": "a758711f",
   "metadata": {},
   "source": [
    "## Chi-Sq Selector"
   ]
  },
  {
   "cell_type": "code",
   "execution_count": 10,
   "id": "d6c3f87b",
   "metadata": {
    "scrolled": true
   },
   "outputs": [
    {
     "name": "stderr",
     "output_type": "stream",
     "text": [
      "                                                                                \r"
     ]
    }
   ],
   "source": [
    "selector = ChiSqSelector(numTopFeatures=10, featuresCol=\"features\",\n",
    "                         outputCol=\"selectedFeatures\", labelCol=\"deceased\")\n",
    "chiResult = selector.fit(df).transform(df)"
   ]
  },
  {
   "cell_type": "markdown",
   "id": "4e43b24e",
   "metadata": {},
   "source": [
    "Deceased"
   ]
  },
  {
   "cell_type": "code",
   "execution_count": 11,
   "id": "65b3ecb1",
   "metadata": {},
   "outputs": [
    {
     "name": "stderr",
     "output_type": "stream",
     "text": [
      "                                                                                \r"
     ]
    },
    {
     "name": "stdout",
     "output_type": "stream",
     "text": [
      "Class 0 (deceased= 0):  2062024\n"
     ]
    },
    {
     "name": "stderr",
     "output_type": "stream",
     "text": [
      "                                                                                \r"
     ]
    },
    {
     "name": "stdout",
     "output_type": "stream",
     "text": [
      "Class 1 (deceased= 1):  460918\n"
     ]
    },
    {
     "name": "stderr",
     "output_type": "stream",
     "text": [
      "[Stage 208:==================================================>    (11 + 1) / 12]\r"
     ]
    },
    {
     "name": "stdout",
     "output_type": "stream",
     "text": [
      "Accuracy: 0.82\n",
      "Coefficients:  (178,[],[])\n",
      "Intercept:  -1.4988315627725137\n"
     ]
    },
    {
     "name": "stderr",
     "output_type": "stream",
     "text": [
      "\r",
      "                                                                                \r"
     ]
    }
   ],
   "source": [
    "from pyspark.ml.classification import LogisticRegression\n",
    "from pyspark.mllib.evaluation import RegressionMetrics\n",
    "\n",
    "\n",
    "    # stratified split\n",
    "class0 = df.filter(df[\"deceased\"]==0)\n",
    "class1 = df.filter(df[\"deceased\"]==1)\n",
    "print(\"Class 0 (deceased= 0): \", class0.count())\n",
    "print(\"Class 1 (deceased= 1): \", class1.count())\n",
    "\n",
    "\n",
    "lr = LogisticRegression(maxIter=10, regParam=0.3, elasticNetParam=0.8, labelCol = 'deceased', featuresCol = 'features')\n",
    "lrModel = lr.fit(train)\n",
    "result = lrModel.transform(test)\n",
    "\n",
    "print('Accuracy: {:0.2f}'.format(lrModel.evaluate(test).accuracy))\n",
    "print(\"Coefficients: \", lrModel.coefficients)\n",
    "print(\"Intercept: \", lrModel.intercept)\n"
   ]
  },
  {
   "cell_type": "code",
   "execution_count": 12,
   "id": "37c8d268",
   "metadata": {
    "scrolled": true
   },
   "outputs": [
    {
     "name": "stderr",
     "output_type": "stream",
     "text": [
      "[Stage 247:==================================================>    (11 + 1) / 12]\r"
     ]
    },
    {
     "name": "stdout",
     "output_type": "stream",
     "text": [
      "Accuracy: 0.82\n",
      "Coefficients:  (10,[],[])\n",
      "Intercept:  -1.4979533056983012\n"
     ]
    },
    {
     "name": "stderr",
     "output_type": "stream",
     "text": [
      "\r",
      "                                                                                \r"
     ]
    }
   ],
   "source": [
    "(train, test) = chiResult.randomSplit([0.8, 0.2])\n",
    "\n",
    "lr = LogisticRegression(maxIter=10, regParam=0.3, elasticNetParam=0.8, labelCol = 'deceased', featuresCol = 'selectedFeatures')\n",
    "lrModel = lr.fit(train)\n",
    "result = lrModel.transform(test)\n",
    "\n",
    "print('Accuracy: {:0.2f}'.format(lrModel.evaluate(test).accuracy))\n",
    "print(\"Coefficients: \", lrModel.coefficients)\n",
    "print(\"Intercept: \", lrModel.intercept)\n"
   ]
  },
  {
   "cell_type": "markdown",
   "id": "5f90b3f0",
   "metadata": {},
   "source": [
    "Covid-19"
   ]
  },
  {
   "cell_type": "code",
   "execution_count": 13,
   "id": "38af9d43",
   "metadata": {},
   "outputs": [
    {
     "name": "stderr",
     "output_type": "stream",
     "text": [
      "                                                                                \r"
     ]
    }
   ],
   "source": [
    "selector = ChiSqSelector(numTopFeatures=10, featuresCol=\"features\",\n",
    "                         outputCol=\"selectedFeatures\", labelCol=\"covid-19\")\n",
    "chiResult = selector.fit(df).transform(df)"
   ]
  },
  {
   "cell_type": "code",
   "execution_count": 14,
   "id": "894cd5cc",
   "metadata": {},
   "outputs": [
    {
     "name": "stderr",
     "output_type": "stream",
     "text": [
      "[Stage 304:==================================================>    (11 + 1) / 12]\r"
     ]
    },
    {
     "name": "stdout",
     "output_type": "stream",
     "text": [
      "Accuracy: 0.53\n",
      "Coefficients:  (178,[],[])\n",
      "Intercept:  -0.1272194135837888\n"
     ]
    },
    {
     "name": "stderr",
     "output_type": "stream",
     "text": [
      "\r",
      "                                                                                \r"
     ]
    }
   ],
   "source": [
    "(train, test) = chiResult.randomSplit([0.8, 0.2])\n",
    "lr = LogisticRegression(maxIter=10, regParam=0.3, elasticNetParam=0.8, labelCol = 'covid-19', featuresCol = 'features')\n",
    "lrModel = lr.fit(train)\n",
    "result = lrModel.transform(test)\n",
    "\n",
    "print('Accuracy: {:0.2f}'.format(lrModel.evaluate(test).accuracy))\n",
    "print(\"Coefficients: \", lrModel.coefficients)\n",
    "print(\"Intercept: \", lrModel.intercept)\n"
   ]
  },
  {
   "cell_type": "code",
   "execution_count": 15,
   "id": "f8e4cdb1",
   "metadata": {
    "scrolled": false
   },
   "outputs": [
    {
     "name": "stderr",
     "output_type": "stream",
     "text": [
      "[Stage 343:==================================================>    (11 + 1) / 12]\r"
     ]
    },
    {
     "name": "stdout",
     "output_type": "stream",
     "text": [
      "Accuracy: 0.53\n",
      "Coefficients:  (10,[],[])\n",
      "Intercept:  -0.12745622912866172\n"
     ]
    },
    {
     "name": "stderr",
     "output_type": "stream",
     "text": [
      "\r",
      "                                                                                \r"
     ]
    }
   ],
   "source": [
    "(train, test) = chiResult.randomSplit([0.8, 0.2])\n",
    "lr = LogisticRegression(maxIter=10, regParam=0.3, elasticNetParam=0.8, labelCol = 'covid-19', featuresCol = 'selectedFeatures')\n",
    "lrModel = lr.fit(train)\n",
    "result = lrModel.transform(test)\n",
    "\n",
    "print('Accuracy: {:0.2f}'.format(lrModel.evaluate(test).accuracy))\n",
    "print(\"Coefficients: \", lrModel.coefficients)\n",
    "print(\"Intercept: \", lrModel.intercept)\n"
   ]
  },
  {
   "cell_type": "markdown",
   "id": "b209ae85",
   "metadata": {},
   "source": [
    "Deceased & Covid-19"
   ]
  },
  {
   "cell_type": "code",
   "execution_count": 16,
   "id": "4b1aa940",
   "metadata": {},
   "outputs": [
    {
     "name": "stderr",
     "output_type": "stream",
     "text": [
      "                                                                                \r"
     ]
    }
   ],
   "source": [
    "selector = ChiSqSelector(numTopFeatures=10, featuresCol=\"features\",\n",
    "                         outputCol=\"selectedFeatures\", labelCol=\"deceased & covid-19\")\n",
    "chiResult = selector.fit(df).transform(df)"
   ]
  },
  {
   "cell_type": "code",
   "execution_count": 17,
   "id": "9daaa894",
   "metadata": {},
   "outputs": [
    {
     "name": "stderr",
     "output_type": "stream",
     "text": [
      "[Stage 418:==================================================>    (11 + 1) / 12]\r"
     ]
    },
    {
     "name": "stdout",
     "output_type": "stream",
     "text": [
      "Accuracy: 0.93\n",
      "Coefficients:  (178,[],[])\n",
      "Intercept:  -2.622517657912248\n"
     ]
    },
    {
     "name": "stderr",
     "output_type": "stream",
     "text": [
      "\r",
      "                                                                                \r"
     ]
    }
   ],
   "source": [
    "(train, test) = chiResult.randomSplit([0.8, 0.2])\n",
    "chiResult = selector.fit(df).transform(df)\n",
    "lr = LogisticRegression(maxIter=10, regParam=0.3, elasticNetParam=0.8, labelCol = 'deceased & covid-19', featuresCol = 'features')\n",
    "lrModel = lr.fit(train)\n",
    "result = lrModel.transform(test)\n",
    "\n",
    "print('Accuracy: {:0.2f}'.format(lrModel.evaluate(test).accuracy))\n",
    "print(\"Coefficients: \", lrModel.coefficients)\n",
    "print(\"Intercept: \", lrModel.intercept)"
   ]
  },
  {
   "cell_type": "code",
   "execution_count": 18,
   "id": "a76a4f2c",
   "metadata": {},
   "outputs": [
    {
     "name": "stderr",
     "output_type": "stream",
     "text": [
      "[Stage 475:==================================================>    (11 + 1) / 12]\r"
     ]
    },
    {
     "name": "stdout",
     "output_type": "stream",
     "text": [
      "Accuracy: 0.93\n",
      "Coefficients:  (10,[],[])\n",
      "Intercept:  -2.626770931949232\n"
     ]
    },
    {
     "name": "stderr",
     "output_type": "stream",
     "text": [
      "\r",
      "                                                                                \r"
     ]
    }
   ],
   "source": [
    "(train, test) = chiResult.randomSplit([0.8, 0.2])\n",
    "chiResult = selector.fit(df).transform(df)\n",
    "lr = LogisticRegression(maxIter=10, regParam=0.3, elasticNetParam=0.8, labelCol = 'deceased & covid-19', featuresCol = 'selectedFeatures')\n",
    "lrModel = lr.fit(train)\n",
    "result = lrModel.transform(test)\n",
    "\n",
    "print('Accuracy: {:0.2f}'.format(lrModel.evaluate(test).accuracy))\n",
    "print(\"Coefficients: \", lrModel.coefficients)\n",
    "print(\"Intercept: \", lrModel.intercept)"
   ]
  },
  {
   "cell_type": "markdown",
   "id": "10bfbda7",
   "metadata": {},
   "source": [
    "## Univariate Selector"
   ]
  },
  {
   "cell_type": "markdown",
   "id": "1a74fd6c",
   "metadata": {},
   "source": [
    "Deceased"
   ]
  },
  {
   "cell_type": "code",
   "execution_count": 19,
   "id": "4b867789",
   "metadata": {},
   "outputs": [
    {
     "name": "stderr",
     "output_type": "stream",
     "text": [
      "                                                                                \r"
     ]
    },
    {
     "name": "stdout",
     "output_type": "stream",
     "text": [
      "UnivariateFeatureSelector output with top 10 features selected using f_classif\n"
     ]
    },
    {
     "name": "stderr",
     "output_type": "stream",
     "text": [
      "\r",
      "[Stage 506:>                                                        (0 + 1) / 1]\r"
     ]
    },
    {
     "name": "stdout",
     "output_type": "stream",
     "text": [
      "+-----------------+----------------+\n",
      "|         features|selectedFeatures|\n",
      "+-----------------+----------------+\n",
      "|(178,[126],[2.0])|      (10,[],[])|\n",
      "|(178,[126],[2.0])|      (10,[],[])|\n",
      "|(178,[126],[2.0])|      (10,[],[])|\n",
      "|(178,[126],[2.0])|      (10,[],[])|\n",
      "|(178,[126],[2.0])|      (10,[],[])|\n",
      "|(178,[126],[2.0])|      (10,[],[])|\n",
      "|(178,[126],[2.0])|      (10,[],[])|\n",
      "|(178,[126],[2.0])|      (10,[],[])|\n",
      "|(178,[126],[2.0])|      (10,[],[])|\n",
      "|(178,[126],[2.0])|      (10,[],[])|\n",
      "|(178,[126],[2.0])|      (10,[],[])|\n",
      "|(178,[126],[2.0])|      (10,[],[])|\n",
      "|(178,[126],[2.0])|      (10,[],[])|\n",
      "|(178,[126],[2.0])|      (10,[],[])|\n",
      "|(178,[126],[2.0])|      (10,[],[])|\n",
      "|(178,[126],[2.0])|      (10,[],[])|\n",
      "|(178,[126],[2.0])|      (10,[],[])|\n",
      "|(178,[126],[2.0])|      (10,[],[])|\n",
      "|(178,[126],[2.0])|      (10,[],[])|\n",
      "|(178,[126],[2.0])|      (10,[],[])|\n",
      "+-----------------+----------------+\n",
      "only showing top 20 rows\n",
      "\n"
     ]
    },
    {
     "name": "stderr",
     "output_type": "stream",
     "text": [
      "\r",
      "                                                                                \r"
     ]
    }
   ],
   "source": [
    "selector = UnivariateFeatureSelector(featuresCol=\"features\", outputCol=\"selectedFeatures\",\n",
    "                                     labelCol=\"deceased\", selectionMode=\"numTopFeatures\")\n",
    "selector.setFeatureType(\"continuous\").setLabelType(\"continuous\").setSelectionThreshold(10)\n",
    "\n",
    "uniResult = selector.fit(df).transform(df)\n",
    "\n",
    "print(\"UnivariateFeatureSelector output with top %d features selected using f_classif\"\n",
    "      % selector.getSelectionThreshold())\n",
    "uniResult.select('features', 'selectedFeatures').show()"
   ]
  },
  {
   "cell_type": "code",
   "execution_count": 20,
   "id": "b1871db3",
   "metadata": {},
   "outputs": [
    {
     "name": "stderr",
     "output_type": "stream",
     "text": [
      "[Stage 566:==================================================>    (11 + 1) / 12]\r"
     ]
    },
    {
     "name": "stdout",
     "output_type": "stream",
     "text": [
      "Accuracy: 0.82\n",
      "Coefficients:  (178,[],[])\n",
      "Intercept:  -1.4979793056113717\n"
     ]
    },
    {
     "name": "stderr",
     "output_type": "stream",
     "text": [
      "\r",
      "                                                                                \r"
     ]
    }
   ],
   "source": [
    "(train, test) = uniResult.randomSplit([0.8, 0.2])\n",
    "chiResult = selector.fit(df).transform(df)\n",
    "lr = LogisticRegression(maxIter=10, regParam=0.3, elasticNetParam=0.8, labelCol = 'deceased', featuresCol = 'features')\n",
    "lrModel = lr.fit(train)\n",
    "result = lrModel.transform(test)\n",
    "\n",
    "print('Accuracy: {:0.2f}'.format(lrModel.evaluate(test).accuracy))\n",
    "print(\"Coefficients: \", lrModel.coefficients)\n",
    "print(\"Intercept: \", lrModel.intercept)"
   ]
  },
  {
   "cell_type": "code",
   "execution_count": 21,
   "id": "01834ebd",
   "metadata": {},
   "outputs": [
    {
     "name": "stderr",
     "output_type": "stream",
     "text": [
      "[Stage 627:==================================================>    (11 + 1) / 12]\r"
     ]
    },
    {
     "name": "stdout",
     "output_type": "stream",
     "text": [
      "Accuracy: 0.82\n",
      "Coefficients:  (10,[],[])\n",
      "Intercept:  -1.4995800491416698\n"
     ]
    },
    {
     "name": "stderr",
     "output_type": "stream",
     "text": [
      "\r",
      "                                                                                \r"
     ]
    }
   ],
   "source": [
    "(train, test) = uniResult.randomSplit([0.8, 0.2])\n",
    "chiResult = selector.fit(df).transform(df)\n",
    "lr = LogisticRegression(maxIter=10, regParam=0.3, elasticNetParam=0.8, labelCol = 'deceased', featuresCol = 'selectedFeatures')\n",
    "lrModel = lr.fit(train)\n",
    "result = lrModel.transform(test)\n",
    "\n",
    "print('Accuracy: {:0.2f}'.format(lrModel.evaluate(test).accuracy))\n",
    "print(\"Coefficients: \", lrModel.coefficients)\n",
    "print(\"Intercept: \", lrModel.intercept)"
   ]
  },
  {
   "cell_type": "markdown",
   "id": "c9773957",
   "metadata": {},
   "source": [
    "Covid-19"
   ]
  },
  {
   "cell_type": "code",
   "execution_count": 22,
   "id": "ee6286c7",
   "metadata": {},
   "outputs": [
    {
     "name": "stderr",
     "output_type": "stream",
     "text": [
      "                                                                                \r"
     ]
    },
    {
     "name": "stdout",
     "output_type": "stream",
     "text": [
      "UnivariateFeatureSelector output with top 10 features selected using f_classif\n"
     ]
    },
    {
     "name": "stderr",
     "output_type": "stream",
     "text": [
      "\r",
      "[Stage 658:>                                                        (0 + 1) / 1]\r"
     ]
    },
    {
     "name": "stdout",
     "output_type": "stream",
     "text": [
      "+-----------------+----------------+\n",
      "|         features|selectedFeatures|\n",
      "+-----------------+----------------+\n",
      "|(178,[126],[2.0])|      (10,[],[])|\n",
      "|(178,[126],[2.0])|      (10,[],[])|\n",
      "|(178,[126],[2.0])|      (10,[],[])|\n",
      "|(178,[126],[2.0])|      (10,[],[])|\n",
      "|(178,[126],[2.0])|      (10,[],[])|\n",
      "|(178,[126],[2.0])|      (10,[],[])|\n",
      "|(178,[126],[2.0])|      (10,[],[])|\n",
      "|(178,[126],[2.0])|      (10,[],[])|\n",
      "|(178,[126],[2.0])|      (10,[],[])|\n",
      "|(178,[126],[2.0])|      (10,[],[])|\n",
      "|(178,[126],[2.0])|      (10,[],[])|\n",
      "|(178,[126],[2.0])|      (10,[],[])|\n",
      "|(178,[126],[2.0])|      (10,[],[])|\n",
      "|(178,[126],[2.0])|      (10,[],[])|\n",
      "|(178,[126],[2.0])|      (10,[],[])|\n",
      "|(178,[126],[2.0])|      (10,[],[])|\n",
      "|(178,[126],[2.0])|      (10,[],[])|\n",
      "|(178,[126],[2.0])|      (10,[],[])|\n",
      "|(178,[126],[2.0])|      (10,[],[])|\n",
      "|(178,[126],[2.0])|      (10,[],[])|\n",
      "+-----------------+----------------+\n",
      "only showing top 20 rows\n",
      "\n"
     ]
    },
    {
     "name": "stderr",
     "output_type": "stream",
     "text": [
      "\r",
      "                                                                                \r"
     ]
    }
   ],
   "source": [
    "selector = UnivariateFeatureSelector(featuresCol=\"features\", outputCol=\"selectedFeatures\",\n",
    "                                     labelCol=\"covid-19\", selectionMode=\"numTopFeatures\")\n",
    "selector.setFeatureType(\"continuous\").setLabelType(\"continuous\").setSelectionThreshold(10)\n",
    "\n",
    "uniResult = selector.fit(df).transform(df)\n",
    "\n",
    "print(\"UnivariateFeatureSelector output with top %d features selected using f_classif\"\n",
    "      % selector.getSelectionThreshold())\n",
    "uniResult.select('features', 'selectedFeatures').show()"
   ]
  },
  {
   "cell_type": "code",
   "execution_count": 23,
   "id": "2a62c869",
   "metadata": {},
   "outputs": [
    {
     "name": "stderr",
     "output_type": "stream",
     "text": [
      "[Stage 718:==================================================>    (11 + 1) / 12]\r"
     ]
    },
    {
     "name": "stdout",
     "output_type": "stream",
     "text": [
      "Accuracy: 0.53\n",
      "Coefficients:  (178,[],[])\n",
      "Intercept:  -0.12852787397210416\n"
     ]
    },
    {
     "name": "stderr",
     "output_type": "stream",
     "text": [
      "\r",
      "                                                                                \r"
     ]
    }
   ],
   "source": [
    "(train, test) = uniResult.randomSplit([0.8, 0.2])\n",
    "chiResult = selector.fit(df).transform(df)\n",
    "lr = LogisticRegression(maxIter=10, regParam=0.3, elasticNetParam=0.8, labelCol = 'covid-19', featuresCol = 'features')\n",
    "lrModel = lr.fit(train)\n",
    "result = lrModel.transform(test)\n",
    "\n",
    "print('Accuracy: {:0.2f}'.format(lrModel.evaluate(test).accuracy))\n",
    "print(\"Coefficients: \", lrModel.coefficients)\n",
    "print(\"Intercept: \", lrModel.intercept)"
   ]
  },
  {
   "cell_type": "code",
   "execution_count": 24,
   "id": "64724e84",
   "metadata": {},
   "outputs": [
    {
     "name": "stderr",
     "output_type": "stream",
     "text": [
      "[Stage 779:==================================================>    (11 + 1) / 12]\r"
     ]
    },
    {
     "name": "stdout",
     "output_type": "stream",
     "text": [
      "Accuracy: 0.53\n",
      "Coefficients:  (10,[],[])\n",
      "Intercept:  -0.12812981210747787\n"
     ]
    },
    {
     "name": "stderr",
     "output_type": "stream",
     "text": [
      "\r",
      "                                                                                \r"
     ]
    }
   ],
   "source": [
    "(train, test) = uniResult.randomSplit([0.8, 0.2])\n",
    "chiResult = selector.fit(df).transform(df)\n",
    "lr = LogisticRegression(maxIter=10, regParam=0.3, elasticNetParam=0.8, labelCol = 'covid-19', featuresCol = 'selectedFeatures')\n",
    "lrModel = lr.fit(train)\n",
    "result = lrModel.transform(test)\n",
    "\n",
    "print('Accuracy: {:0.2f}'.format(lrModel.evaluate(test).accuracy))\n",
    "print(\"Coefficients: \", lrModel.coefficients)\n",
    "print(\"Intercept: \", lrModel.intercept)"
   ]
  },
  {
   "cell_type": "markdown",
   "id": "c9f467f5",
   "metadata": {},
   "source": [
    "Deceased & Covid-19"
   ]
  },
  {
   "cell_type": "code",
   "execution_count": 25,
   "id": "d242d569",
   "metadata": {},
   "outputs": [
    {
     "name": "stderr",
     "output_type": "stream",
     "text": [
      "                                                                                \r"
     ]
    },
    {
     "name": "stdout",
     "output_type": "stream",
     "text": [
      "UnivariateFeatureSelector output with top 10 features selected using f_classif\n"
     ]
    },
    {
     "name": "stderr",
     "output_type": "stream",
     "text": [
      "\r",
      "[Stage 810:>                                                        (0 + 1) / 1]\r"
     ]
    },
    {
     "name": "stdout",
     "output_type": "stream",
     "text": [
      "+-----------------+----------------+\n",
      "|         features|selectedFeatures|\n",
      "+-----------------+----------------+\n",
      "|(178,[126],[2.0])|      (10,[],[])|\n",
      "|(178,[126],[2.0])|      (10,[],[])|\n",
      "|(178,[126],[2.0])|      (10,[],[])|\n",
      "|(178,[126],[2.0])|      (10,[],[])|\n",
      "|(178,[126],[2.0])|      (10,[],[])|\n",
      "|(178,[126],[2.0])|      (10,[],[])|\n",
      "|(178,[126],[2.0])|      (10,[],[])|\n",
      "|(178,[126],[2.0])|      (10,[],[])|\n",
      "|(178,[126],[2.0])|      (10,[],[])|\n",
      "|(178,[126],[2.0])|      (10,[],[])|\n",
      "|(178,[126],[2.0])|      (10,[],[])|\n",
      "|(178,[126],[2.0])|      (10,[],[])|\n",
      "|(178,[126],[2.0])|      (10,[],[])|\n",
      "|(178,[126],[2.0])|      (10,[],[])|\n",
      "|(178,[126],[2.0])|      (10,[],[])|\n",
      "|(178,[126],[2.0])|      (10,[],[])|\n",
      "|(178,[126],[2.0])|      (10,[],[])|\n",
      "|(178,[126],[2.0])|      (10,[],[])|\n",
      "|(178,[126],[2.0])|      (10,[],[])|\n",
      "|(178,[126],[2.0])|      (10,[],[])|\n",
      "+-----------------+----------------+\n",
      "only showing top 20 rows\n",
      "\n"
     ]
    },
    {
     "name": "stderr",
     "output_type": "stream",
     "text": [
      "\r",
      "                                                                                \r"
     ]
    }
   ],
   "source": [
    "selector = UnivariateFeatureSelector(featuresCol=\"features\", outputCol=\"selectedFeatures\",\n",
    "                                     labelCol=\"deceased & covid-19\", selectionMode=\"numTopFeatures\")\n",
    "selector.setFeatureType(\"continuous\").setLabelType(\"continuous\").setSelectionThreshold(10)\n",
    "\n",
    "uniResult = selector.fit(df).transform(df)\n",
    "\n",
    "print(\"UnivariateFeatureSelector output with top %d features selected using f_classif\"\n",
    "      % selector.getSelectionThreshold())\n",
    "uniResult.select('features', 'selectedFeatures').show()"
   ]
  },
  {
   "cell_type": "code",
   "execution_count": 26,
   "id": "dea6ff8b",
   "metadata": {},
   "outputs": [
    {
     "name": "stderr",
     "output_type": "stream",
     "text": [
      "[Stage 870:==================================================>    (11 + 1) / 12]\r"
     ]
    },
    {
     "name": "stdout",
     "output_type": "stream",
     "text": [
      "Accuracy: 0.93\n",
      "Coefficients:  (178,[],[])\n",
      "Intercept:  -2.6250416795302334\n"
     ]
    },
    {
     "name": "stderr",
     "output_type": "stream",
     "text": [
      "\r",
      "                                                                                \r"
     ]
    }
   ],
   "source": [
    "(train, test) = uniResult.randomSplit([0.8, 0.2])\n",
    "chiResult = selector.fit(df).transform(df)\n",
    "lr = LogisticRegression(maxIter=10, regParam=0.3, elasticNetParam=0.8, labelCol = 'deceased & covid-19', featuresCol = 'features')\n",
    "lrModel = lr.fit(train)\n",
    "result = lrModel.transform(test)\n",
    "\n",
    "print('Accuracy: {:0.2f}'.format(lrModel.evaluate(test).accuracy))\n",
    "print(\"Coefficients: \", lrModel.coefficients)\n",
    "print(\"Intercept: \", lrModel.intercept)"
   ]
  },
  {
   "cell_type": "code",
   "execution_count": 27,
   "id": "9d2f1730",
   "metadata": {},
   "outputs": [
    {
     "name": "stderr",
     "output_type": "stream",
     "text": [
      "[Stage 931:==================================================>    (11 + 1) / 12]\r"
     ]
    },
    {
     "name": "stdout",
     "output_type": "stream",
     "text": [
      "Accuracy: 0.93\n",
      "Coefficients:  (10,[],[])\n",
      "Intercept:  -2.62319004281015\n"
     ]
    },
    {
     "name": "stderr",
     "output_type": "stream",
     "text": [
      "\r",
      "                                                                                \r"
     ]
    }
   ],
   "source": [
    "(train, test) = uniResult.randomSplit([0.8, 0.2])\n",
    "chiResult = selector.fit(df).transform(df)\n",
    "lr = LogisticRegression(maxIter=10, regParam=0.3, elasticNetParam=0.8, labelCol = 'deceased & covid-19', featuresCol = 'selectedFeatures')\n",
    "lrModel = lr.fit(train)\n",
    "result = lrModel.transform(test)\n",
    "\n",
    "print('Accuracy: {:0.2f}'.format(lrModel.evaluate(test).accuracy))\n",
    "print(\"Coefficients: \", lrModel.coefficients)\n",
    "print(\"Intercept: \", lrModel.intercept)"
   ]
  },
  {
   "cell_type": "code",
   "execution_count": null,
   "id": "a322317d",
   "metadata": {},
   "outputs": [],
   "source": []
  }
 ],
 "metadata": {
  "kernelspec": {
   "display_name": "Python 3 (ipykernel)",
   "language": "python",
   "name": "python3"
  },
  "language_info": {
   "codemirror_mode": {
    "name": "ipython",
    "version": 3
   },
   "file_extension": ".py",
   "mimetype": "text/x-python",
   "name": "python",
   "nbconvert_exporter": "python",
   "pygments_lexer": "ipython3",
   "version": "3.9.12"
  }
 },
 "nbformat": 4,
 "nbformat_minor": 5
}
