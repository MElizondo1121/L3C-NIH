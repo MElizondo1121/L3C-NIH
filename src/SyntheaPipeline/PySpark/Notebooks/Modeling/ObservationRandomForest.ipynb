{
 "cells": [
  {
   "cell_type": "markdown",
   "id": "747cac7c",
   "metadata": {},
   "source": [
    "## Random Forest Classifier\n",
    "\n",
    "Random Forest learning algorithm for classification. It supports both binary and multiclass labels, as well as both continuous and categorical features"
   ]
  },
  {
   "cell_type": "code",
   "execution_count": 1,
   "id": "5e05f055",
   "metadata": {},
   "outputs": [],
   "source": [
    "import findspark\n",
    "findspark.init()\n",
    "findspark.find()\n",
    "MAX_MEMORY = \"16g\"\n",
    "\n",
    "from pyspark.sql import SparkSession\n",
    "spark = SparkSession.builder.appName('ObservationsFeatures').config(\"spark.executor.memory\", MAX_MEMORY).config(\"spark.driver.memory\", MAX_MEMORY).getOrCreate()\n",
    "\n",
    "\n",
    "from pyspark.ml.classification import RandomForestClassifier\n",
    "from pyspark.ml.feature import VectorSlicer, VectorAssembler, ChiSqSelector, VectorIndexer, UnivariateFeatureSelector, VarianceThresholdSelector\n",
    "from pyspark.sql.functions import *\n",
    "from pyspark.ml.evaluation import MulticlassClassificationEvaluator, BinaryClassificationEvaluator\n",
    "import numpy as np\n",
    "from sklearn.metrics import confusion_matrix\n",
    "from pyspark.sql.types import IntegerType"
   ]
  },
  {
   "cell_type": "markdown",
   "id": "ea5a9461",
   "metadata": {},
   "source": [
    "### Reading and Merging Data"
   ]
  },
  {
   "cell_type": "code",
   "execution_count": 2,
   "id": "8ad629fa",
   "metadata": {},
   "outputs": [],
   "source": [
    "df = spark.read.option(\"header\",True).csv('../../synthea-sample-data/data/10k_synthea_covid19_csv/observations.csv').select('PATIENT','Code', 'Description')\n",
    "deathDf = spark.read.option(\"header\",True).csv('../../synthea-sample-data/data/10k_synthea_covid19_csv/patients.csv').select('Id', 'DEATHDATE')\n",
    "deadSet = df.join(deathDf, (df.PATIENT == deathDf.Id)).na.drop().drop('Id', 'Code')\n",
    "labels = spark.read.option(\"header\",True).csv('../FeatureSelection/dfCovid_DeceasedCovid.csv').select('PATIENT', 'covid-19', 'deceased & covid-19')\n",
    "\n",
    "merged = df.join(deathDf, (df.PATIENT == deathDf.Id), 'left').drop( 'Id')\n",
    "\n",
    "merged = merged.withColumn('deceased', when(col('DEATHDATE').isNotNull(), 1)).na.fill(0)\n",
    "merged = merged.join(labels, ('PATIENT'), 'left').dropDuplicates()"
   ]
  },
  {
   "cell_type": "code",
   "execution_count": 3,
   "id": "e6c22b79",
   "metadata": {},
   "outputs": [],
   "source": [
    "groupedDf = merged.groupBy(\"PATIENT\", 'Code').pivot(\"Code\").agg(count(\"Code\").alias(\"count\")).na.fill(0)\n",
    "merged =merged.select('PATIENT', 'deceased', 'covid-19', 'deceased & covid-19')\n",
    "finalDf = groupedDf.join(merged, ['PATIENT'], 'left')\n"
   ]
  },
  {
   "cell_type": "code",
   "execution_count": 4,
   "id": "03e703e6",
   "metadata": {},
   "outputs": [
    {
     "name": "stdout",
     "output_type": "stream",
     "text": [
      "root\n",
      " |-- PATIENT: string (nullable = true)\n",
      " |-- Code: string (nullable = true)\n",
      " |-- 10230-1: long (nullable = true)\n",
      " |-- 10480-2: long (nullable = true)\n",
      " |-- 10834-0: long (nullable = true)\n",
      " |-- 14804-9: long (nullable = true)\n",
      " |-- 14959-1: long (nullable = true)\n",
      " |-- 1742-6: long (nullable = true)\n",
      " |-- 1751-7: long (nullable = true)\n",
      " |-- 17861-6: long (nullable = true)\n",
      " |-- 18262-6: long (nullable = true)\n",
      " |-- 1920-8: long (nullable = true)\n",
      " |-- 1960-4: long (nullable = true)\n",
      " |-- 1975-2: long (nullable = true)\n",
      " |-- 1988-5: long (nullable = true)\n",
      " |-- 19926-5: long (nullable = true)\n",
      " |-- 19994-3: long (nullable = true)\n",
      " |-- 2019-8: long (nullable = true)\n",
      " |-- 2028-9: long (nullable = true)\n",
      " |-- 20454-5: long (nullable = true)\n",
      " |-- 20505-4: long (nullable = true)\n",
      " |-- 20565-8: long (nullable = true)\n",
      " |-- 20570-8: long (nullable = true)\n",
      " |-- 2069-3: long (nullable = true)\n",
      " |-- 2075-0: long (nullable = true)\n",
      " |-- 2085-9: long (nullable = true)\n",
      " |-- 2093-3: long (nullable = true)\n",
      " |-- 21000-5: long (nullable = true)\n",
      " |-- 2157-6: long (nullable = true)\n",
      " |-- 2160-0: long (nullable = true)\n",
      " |-- 21905-5: long (nullable = true)\n",
      " |-- 21906-3: long (nullable = true)\n",
      " |-- 21907-1: long (nullable = true)\n",
      " |-- 21908-9: long (nullable = true)\n",
      " |-- 21924-6: long (nullable = true)\n",
      " |-- 2276-4: long (nullable = true)\n",
      " |-- 2339-0: long (nullable = true)\n",
      " |-- 2345-7: long (nullable = true)\n",
      " |-- 2514-8: long (nullable = true)\n",
      " |-- 25428-4: long (nullable = true)\n",
      " |-- 2571-8: long (nullable = true)\n",
      " |-- 26453-1: long (nullable = true)\n",
      " |-- 26464-8: long (nullable = true)\n",
      " |-- 26515-7: long (nullable = true)\n",
      " |-- 26881-3: long (nullable = true)\n",
      " |-- 2703-7: long (nullable = true)\n",
      " |-- 2708-6: long (nullable = true)\n",
      " |-- 2744-1: long (nullable = true)\n",
      " |-- 2823-3: long (nullable = true)\n",
      " |-- 28245-9: long (nullable = true)\n",
      " |-- 2857-1: long (nullable = true)\n",
      " |-- 2885-2: long (nullable = true)\n",
      " |-- 29463-7: long (nullable = true)\n",
      " |-- 2947-0: long (nullable = true)\n",
      " |-- 2951-2: long (nullable = true)\n",
      " |-- 3016-3: long (nullable = true)\n",
      " |-- 3024-7: long (nullable = true)\n",
      " |-- 30385-9: long (nullable = true)\n",
      " |-- 30428-7: long (nullable = true)\n",
      " |-- 3094-0: long (nullable = true)\n",
      " |-- 32167-9: long (nullable = true)\n",
      " |-- 32207-3: long (nullable = true)\n",
      " |-- 32465-7: long (nullable = true)\n",
      " |-- 32623-1: long (nullable = true)\n",
      " |-- 33037-3: long (nullable = true)\n",
      " |-- 33728-7: long (nullable = true)\n",
      " |-- 33756-8: long (nullable = true)\n",
      " |-- 33762-6: long (nullable = true)\n",
      " |-- 33914-3: long (nullable = true)\n",
      " |-- 33959-8: long (nullable = true)\n",
      " |-- 38265-5: long (nullable = true)\n",
      " |-- 38483-4: long (nullable = true)\n",
      " |-- 39156-5: long (nullable = true)\n",
      " |-- 417181009: long (nullable = true)\n",
      " |-- 42719-5: long (nullable = true)\n",
      " |-- 44667-4: long (nullable = true)\n",
      " |-- 4544-3: long (nullable = true)\n",
      " |-- 4548-4: long (nullable = true)\n",
      " |-- 46240-8: long (nullable = true)\n",
      " |-- 46288-7: long (nullable = true)\n",
      " |-- 48065-7: long (nullable = true)\n",
      " |-- 49765-1: long (nullable = true)\n",
      " |-- 55277-8: long (nullable = true)\n",
      " |-- 5767-9: long (nullable = true)\n",
      " |-- 5770-3: long (nullable = true)\n",
      " |-- 5778-6: long (nullable = true)\n",
      " |-- 57905-2: long (nullable = true)\n",
      " |-- 5792-7: long (nullable = true)\n",
      " |-- 5794-3: long (nullable = true)\n",
      " |-- 5797-6: long (nullable = true)\n",
      " |-- 5799-2: long (nullable = true)\n",
      " |-- 5802-4: long (nullable = true)\n",
      " |-- 5803-2: long (nullable = true)\n",
      " |-- 5804-0: long (nullable = true)\n",
      " |-- 5811-5: long (nullable = true)\n",
      " |-- 5902-2: long (nullable = true)\n",
      " |-- 5905-5: long (nullable = true)\n",
      " |-- 59557-9: long (nullable = true)\n",
      " |-- 59576-9: long (nullable = true)\n",
      " |-- 6075-6: long (nullable = true)\n",
      " |-- 6082-2: long (nullable = true)\n",
      " |-- 6085-5: long (nullable = true)\n",
      " |-- 6095-4: long (nullable = true)\n",
      " |-- 6106-9: long (nullable = true)\n",
      " |-- 6158-0: long (nullable = true)\n",
      " |-- 6189-5: long (nullable = true)\n",
      " |-- 6206-7: long (nullable = true)\n",
      " |-- 6246-3: long (nullable = true)\n",
      " |-- 6248-9: long (nullable = true)\n",
      " |-- 6273-7: long (nullable = true)\n",
      " |-- 6276-0: long (nullable = true)\n",
      " |-- 6298-4: long (nullable = true)\n",
      " |-- 6299-2: long (nullable = true)\n",
      " |-- 6301-6: long (nullable = true)\n",
      " |-- 63513-6: long (nullable = true)\n",
      " |-- 66519-0: long (nullable = true)\n",
      " |-- 66524-0: long (nullable = true)\n",
      " |-- 66529-9: long (nullable = true)\n",
      " |-- 66534-9: long (nullable = true)\n",
      " |-- 6690-2: long (nullable = true)\n",
      " |-- 6768-6: long (nullable = true)\n",
      " |-- 6833-8: long (nullable = true)\n",
      " |-- 6844-5: long (nullable = true)\n",
      " |-- 69453-9: long (nullable = true)\n",
      " |-- 704-7: long (nullable = true)\n",
      " |-- 706-2: long (nullable = true)\n",
      " |-- 711-2: long (nullable = true)\n",
      " |-- 713-8: long (nullable = true)\n",
      " |-- 718-7: long (nullable = true)\n",
      " |-- 71802-3: long (nullable = true)\n",
      " |-- 71970-8: long (nullable = true)\n",
      " |-- 71972-4: long (nullable = true)\n",
      " |-- 72009-4: long (nullable = true)\n",
      " |-- 72010-2: long (nullable = true)\n",
      " |-- 72011-0: long (nullable = true)\n",
      " |-- 72012-8: long (nullable = true)\n",
      " |-- 72013-6: long (nullable = true)\n",
      " |-- 72014-4: long (nullable = true)\n",
      " |-- 72015-1: long (nullable = true)\n",
      " |-- 72016-9: long (nullable = true)\n",
      " |-- 72106-8: long (nullable = true)\n",
      " |-- 72166-2: long (nullable = true)\n",
      " |-- 72514-3: long (nullable = true)\n",
      " |-- 7258-7: long (nullable = true)\n",
      " |-- 731-0: long (nullable = true)\n",
      " |-- 736-9: long (nullable = true)\n",
      " |-- 74006-8: long (nullable = true)\n",
      " |-- 742-7: long (nullable = true)\n",
      " |-- 751-8: long (nullable = true)\n",
      " |-- 75443-2: long (nullable = true)\n",
      " |-- 76690-7: long (nullable = true)\n",
      " |-- 770-8: long (nullable = true)\n",
      " |-- 77606-2: long (nullable = true)\n",
      " |-- 777-3: long (nullable = true)\n",
      " |-- 785-6: long (nullable = true)\n",
      " |-- 786-4: long (nullable = true)\n",
      " |-- 787-2: long (nullable = true)\n",
      " |-- 788-0: long (nullable = true)\n",
      " |-- 789-8: long (nullable = true)\n",
      " |-- 80271-0: long (nullable = true)\n",
      " |-- 80382-5: long (nullable = true)\n",
      " |-- 80383-3: long (nullable = true)\n",
      " |-- 8302-2: long (nullable = true)\n",
      " |-- 8310-5: long (nullable = true)\n",
      " |-- 84215-3: long (nullable = true)\n",
      " |-- 8462-4: long (nullable = true)\n",
      " |-- 8480-6: long (nullable = true)\n",
      " |-- 85318-4: long (nullable = true)\n",
      " |-- 85319-2: long (nullable = true)\n",
      " |-- 85337-4: long (nullable = true)\n",
      " |-- 85339-0: long (nullable = true)\n",
      " |-- 85344-0: long (nullable = true)\n",
      " |-- 85352-3: long (nullable = true)\n",
      " |-- 88040-1: long (nullable = true)\n",
      " |-- 8867-4: long (nullable = true)\n",
      " |-- 89579-7: long (nullable = true)\n",
      " |-- 92130-4: long (nullable = true)\n",
      " |-- 92131-2: long (nullable = true)\n",
      " |-- 92134-6: long (nullable = true)\n",
      " |-- 92138-7: long (nullable = true)\n",
      " |-- 92139-5: long (nullable = true)\n",
      " |-- 92140-3: long (nullable = true)\n",
      " |-- 92141-1: long (nullable = true)\n",
      " |-- 92142-9: long (nullable = true)\n",
      " |-- 9279-1: long (nullable = true)\n",
      " |-- 94040-3: long (nullable = true)\n",
      " |-- 94531-1: long (nullable = true)\n",
      " |-- 9843-4: long (nullable = true)\n",
      " |-- DALY: long (nullable = true)\n",
      " |-- QALY: long (nullable = true)\n",
      " |-- QOLS: long (nullable = true)\n",
      " |-- deceased: integer (nullable = true)\n",
      " |-- covid-19: integer (nullable = true)\n",
      " |-- deceased & covid-19: integer (nullable = true)\n",
      " |-- features: vector (nullable = true)\n",
      "\n"
     ]
    }
   ],
   "source": [
    "cols = list(set(finalDf.columns) - {'PATIENT', 'deceased', 'Code', 'Description', 'covid-19', 'deceased & covid-19'})\n",
    "assembler = VectorAssembler().setInputCols(cols).setOutputCol('features')\n",
    "finalDf = finalDf.withColumn(\"covid-19\", finalDf[\"covid-19\"].cast(IntegerType())).withColumn(\"deceased & covid-19\", finalDf[\"deceased & covid-19\"].cast(IntegerType()))\n",
    "df = assembler.transform(finalDf)\n",
    "df.printSchema()"
   ]
  },
  {
   "cell_type": "markdown",
   "id": "90552a44",
   "metadata": {},
   "source": [
    "### Chi-Squared Features"
   ]
  },
  {
   "cell_type": "markdown",
   "id": "c8621931",
   "metadata": {},
   "source": [
    "Deceased"
   ]
  },
  {
   "cell_type": "code",
   "execution_count": 5,
   "id": "b919825a",
   "metadata": {},
   "outputs": [],
   "source": [
    "selector = ChiSqSelector(numTopFeatures=10, featuresCol=\"features\",\n",
    "                         outputCol=\"selectedFeatures\", labelCol=\"deceased\")\n",
    "chiResult = selector.fit(df).transform(df)"
   ]
  },
  {
   "cell_type": "code",
   "execution_count": 6,
   "id": "c5aa28b0",
   "metadata": {},
   "outputs": [],
   "source": [
    "metrics=['accuracy', 'weightedPrecision', 'weightedRecall', 'f1']\n",
    "metrics_bin=['areaUnderROC', 'areaUnderPR']\n",
    "\n",
    "def printPerformance(results):\n",
    "    for m in metrics: print('{}: {:f}'.format(m, my_eval_bin.evaluate(results, {my_eval.metricName: m})))\n",
    "    for m in metrics_bin: print('{}: {:f}'.format(m, my_eval_bin.evaluate(results, {my_eval_bin.metricName: m})))\n",
    "    y_test = np.array(results.select(\"deceased\").collect()).flatten()\n",
    "    y_pred = np.array(results.select(\"prediction\").collect()).flatten()\n",
    "    print(\"Confusion Matrix:\\n\", confusion_matrix(y_test, y_pred))"
   ]
  },
  {
   "cell_type": "code",
   "execution_count": null,
   "id": "bf48aeec",
   "metadata": {},
   "outputs": [],
   "source": [
    "rf = RandomForestClassifier(numTrees=3, maxDepth=5, labelCol=\"deceased\", seed=42,leafCol=\"leafId\")\n",
    "(train, test) = chiResult.randomSplit([0.8, 0.2])\n",
    "model = rf.fit(train).setFeaturesCol('features')\n",
    "my_eval = MulticlassClassificationEvaluator(labelCol = 'deceased', predictionCol = 'prediction')\n",
    "my_eval_bin = BinaryClassificationEvaluator(labelCol ='deceased', rawPredictionCol = 'prediction')\n",
    "results = model.transform(test)\n",
    "print(\"\\n[Performance on Deceased Label Test set]\")\n",
    "printPerformance(results)"
   ]
  },
  {
   "cell_type": "raw",
   "id": "1dddf243",
   "metadata": {},
   "source": [
    "rf = RandomForestClassifier(numTrees=3, maxDepth=5, labelCol=\"deceased\", seed=42,leafCol=\"leafId\")\n",
    "(train, test) = chiResult.randomSplit([0.8, 0.2])\n",
    "model = rf.fit(train).setFeaturesCol('features')\n",
    "my_eval = MulticlassClassificationEvaluator(labelCol = 'deceased', predictionCol = 'prediction')\n",
    "my_eval_bin = BinaryClassificationEvaluator(labelCol ='deceased', rawPredictionCol = 'prediction')\n",
    "results = model.transform(test)\n",
    "print(\"\\n[Performance on Deceased Label Test set]\")\n",
    "printPerformance(results)"
   ]
  },
  {
   "cell_type": "markdown",
   "id": "251a6313",
   "metadata": {},
   "source": [
    "Covid-19"
   ]
  },
  {
   "cell_type": "code",
   "execution_count": null,
   "id": "0a458a21",
   "metadata": {},
   "outputs": [],
   "source": [
    "df = assembler.transform(finalDf)\n",
    "df = df.na.drop()\n",
    "selector = ChiSqSelector(numTopFeatures=10, featuresCol=\"features\",\n",
    "                         outputCol=\"selectedFeatures\", labelCol=\"covid-19\")\n",
    "chiResult = selector.fit(df).transform(df)"
   ]
  },
  {
   "cell_type": "code",
   "execution_count": null,
   "id": "254e8d6a",
   "metadata": {},
   "outputs": [],
   "source": [
    "def printPerformance(results):\n",
    "    for m in metrics: print('{}: {:f}'.format(m, my_eval_bin.evaluate(results, {my_eval.metricName: m})))\n",
    "    for m in metrics_bin: print('{}: {:f}'.format(m, my_eval_bin.evaluate(results, {my_eval_bin.metricName: m})))\n",
    "    y_test = np.array(results.select(\"covid-19\").collect()).flatten()\n",
    "    y_pred = np.array(results.select(\"prediction\").collect()).flatten()\n",
    "    print(\"Confusion Matrix:\\n\", confusion_matrix(y_test, y_pred))\n"
   ]
  },
  {
   "cell_type": "code",
   "execution_count": null,
   "id": "d42ed610",
   "metadata": {},
   "outputs": [],
   "source": [
    "rf = RandomForestClassifier(numTrees=3, maxDepth=5, labelCol=\"covid-19\", seed=42,leafCol=\"leafId\")\n",
    "(train, test) = chiResult.randomSplit([0.8, 0.2])\n",
    "model = rf.fit(train).setFeaturesCol('features')\n",
    "my_eval = MulticlassClassificationEvaluator(labelCol = 'covid-19', predictionCol = 'prediction')\n",
    "my_eval_bin = BinaryClassificationEvaluator(labelCol ='covid-19', rawPredictionCol = 'prediction')\n",
    "results = model.transform(test)\n",
    "print(\"\\n[Performance on covid-19 Label Test set]\")\n",
    "printPerformance(results)"
   ]
  },
  {
   "cell_type": "raw",
   "id": "db19ce0c",
   "metadata": {},
   "source": [
    "rf = RandomForestClassifier(numTrees=3, maxDepth=5, labelCol=\"covid-19\", seed=42,leafCol=\"leafId\")\n",
    "(train, test) = chiResult.randomSplit([0.8, 0.2])\n",
    "model = rf.fit(train).setFeaturesCol('selectedFeatures')\n",
    "my_eval = MulticlassClassificationEvaluator(labelCol = 'covid-19', predictionCol = 'prediction')\n",
    "my_eval_bin = BinaryClassificationEvaluator(labelCol ='covid-19', rawPredictionCol = 'prediction')\n",
    "results = model.transform(test)\n",
    "print(\"\\n[Performance on covid-19 Label- Selected Features set]\")\n",
    "printPerformance(results)"
   ]
  },
  {
   "cell_type": "markdown",
   "id": "c52f4c94",
   "metadata": {},
   "source": [
    "Deceased & Covid-19 "
   ]
  },
  {
   "cell_type": "code",
   "execution_count": null,
   "id": "c7fccbf1",
   "metadata": {},
   "outputs": [],
   "source": [
    "df = assembler.transform(finalDf)\n",
    "df = df.na.drop()\n",
    "selector = ChiSqSelector(numTopFeatures=10, featuresCol=\"features\",\n",
    "                         outputCol=\"selectedFeatures\", labelCol=\"deceased & covid-19\")\n",
    "chiResult = selector.fit(df).transform(df)\n"
   ]
  },
  {
   "cell_type": "code",
   "execution_count": null,
   "id": "34177e2e",
   "metadata": {},
   "outputs": [],
   "source": [
    "def printPerformance(results):\n",
    "    for m in metrics: print('{}: {:f}'.format(m, my_eval_bin.evaluate(results, {my_eval.metricName: m})))\n",
    "    for m in metrics_bin: print('{}: {:f}'.format(m, my_eval_bin.evaluate(results, {my_eval_bin.metricName: m})))\n",
    "    y_test = np.array(results.select(\"deceased & covid-19\").collect()).flatten()\n",
    "    y_pred = np.array(results.select(\"prediction\").collect()).flatten()\n",
    "    print(\"Confusion Matrix:\\n\", confusion_matrix(y_test, y_pred))\n"
   ]
  },
  {
   "cell_type": "code",
   "execution_count": null,
   "id": "434eaa51",
   "metadata": {},
   "outputs": [],
   "source": [
    "rf = RandomForestClassifier(numTrees=3, maxDepth=5, labelCol=\"deceased & covid-19\", seed=42,leafCol=\"leafId\")\n",
    "(train, test) = chiResult.randomSplit([0.8, 0.2])\n",
    "model = rf.fit(train).setFeaturesCol('features')\n",
    "my_eval = MulticlassClassificationEvaluator(labelCol = 'deceased & covid-19', predictionCol = 'prediction')\n",
    "my_eval_bin = BinaryClassificationEvaluator(labelCol ='deceased & covid-19', rawPredictionCol = 'prediction')\n",
    "results = model.transform(test)\n",
    "print(\"\\n[Performance on  deceased & covid-19  Label Test set]\")\n",
    "printPerformance(results)"
   ]
  },
  {
   "cell_type": "raw",
   "id": "0c8c2f8a",
   "metadata": {},
   "source": [
    "rf = RandomForestClassifier(numTrees=3, maxDepth=5, labelCol=\"deceased & covid-19\", seed=42,leafCol=\"leafId\")\n",
    "(train, test) = chiResult.randomSplit([0.8, 0.2])\n",
    "model = rf.fit(train).setFeaturesCol('selectedFeatures')\n",
    "my_eval = MulticlassClassificationEvaluator(labelCol = \"deceased & covid-19\", predictionCol = 'prediction')\n",
    "my_eval_bin = BinaryClassificationEvaluator(labelCol =\"deceased & covid-19\", rawPredictionCol = 'prediction')\n",
    "results = model.transform(test)\n",
    "print(\"\\n[Performance on deceased & covid-19 Label- Selected Features Test set]\")\n",
    "printPerformance(results)"
   ]
  },
  {
   "cell_type": "code",
   "execution_count": null,
   "id": "f47e9dd8",
   "metadata": {},
   "outputs": [],
   "source": []
  }
 ],
 "metadata": {
  "kernelspec": {
   "display_name": "Python 3 (ipykernel)",
   "language": "python",
   "name": "python3"
  },
  "language_info": {
   "codemirror_mode": {
    "name": "ipython",
    "version": 3
   },
   "file_extension": ".py",
   "mimetype": "text/x-python",
   "name": "python",
   "nbconvert_exporter": "python",
   "pygments_lexer": "ipython3",
   "version": "3.9.12"
  }
 },
 "nbformat": 4,
 "nbformat_minor": 5
}
